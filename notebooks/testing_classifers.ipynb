{
 "cells": [
  {
   "cell_type": "code",
   "execution_count": 58,
   "id": "31bd9aad",
   "metadata": {},
   "outputs": [],
   "source": [
    "import pandas as pd\n",
    "from transformers import pipeline"
   ]
  },
  {
   "cell_type": "markdown",
   "id": "0c9749bd",
   "metadata": {},
   "source": [
    "### Test Facebook Bart\n",
    "\n",
    "\n",
    "run for\n",
    "\n",
    "- facebook bart\n",
    "- DeBERTa-v3-base-mnli-fever-anli\n",
    "- deberta-v3-base-zeroshot-v1.1-all-33\n",
    "- mDeBERTa-v3-base-mnli-xnli\n",
    "\n",
    "change variables accordingly"
   ]
  },
  {
   "cell_type": "markdown",
   "id": "cd85ec2a",
   "metadata": {},
   "source": [
    "Models:\n",
    "\n",
    "\"facebook/bart-large-mnli\"\n",
    "\n",
    "\"MoritzLaurer/mDeBERTa-v3-base-mnli-xnli\" # multilingual \n",
    "\n",
    "\"MoritzLaurer/DeBERTa-v3-base-mnli-fever-anli\"\n",
    "\n",
    "\"MoritzLaurer/deberta-v3-base-zeroshot-v1.1-all-33\""
   ]
  },
  {
   "cell_type": "code",
   "execution_count": 89,
   "id": "262f1fe3",
   "metadata": {},
   "outputs": [
    {
     "name": "stderr",
     "output_type": "stream",
     "text": [
      "Hardware accelerator e.g. GPU is available in the environment, but no `device` argument is passed to the `Pipeline` object. Model will be on CPU.\n"
     ]
    }
   ],
   "source": [
    "classifier = pipeline(\"zero-shot-classification\",\n",
    "                      model=\"MoritzLaurer/deberta-v3-base-zeroshot-v1.1-all-33\")"
   ]
  },
  {
   "cell_type": "code",
   "execution_count": 65,
   "id": "c8d0c784",
   "metadata": {},
   "outputs": [
    {
     "data": {
      "text/html": [
       "<div>\n",
       "<style scoped>\n",
       "    .dataframe tbody tr th:only-of-type {\n",
       "        vertical-align: middle;\n",
       "    }\n",
       "\n",
       "    .dataframe tbody tr th {\n",
       "        vertical-align: top;\n",
       "    }\n",
       "\n",
       "    .dataframe thead th {\n",
       "        text-align: right;\n",
       "    }\n",
       "</style>\n",
       "<table border=\"1\" class=\"dataframe\">\n",
       "  <thead>\n",
       "    <tr style=\"text-align: right;\">\n",
       "      <th></th>\n",
       "      <th>Title</th>\n",
       "      <th>Description</th>\n",
       "      <th>Manual</th>\n",
       "      <th>Price</th>\n",
       "      <th>test_str</th>\n",
       "      <th>bart_classification</th>\n",
       "      <th>mDeBERTa_classification</th>\n",
       "      <th>DeBERTa-v3-base-mnli-fever-anli</th>\n",
       "      <th>deberta-v3-base-zeroshot-v1.1-all-33</th>\n",
       "      <th>mDeBERTa-v3-base-mnli-xnli</th>\n",
       "    </tr>\n",
       "  </thead>\n",
       "  <tbody>\n",
       "    <tr>\n",
       "      <th>0</th>\n",
       "      <td>LASUNI GOBI</td>\n",
       "      <td>Florets Of Cauliflower Marinated In Lemon And ...</td>\n",
       "      <td>Vegetarian</td>\n",
       "      <td>18</td>\n",
       "      <td>LASUNI GOBI : Florets Of Cauliflower Marinated...</td>\n",
       "      <td>not vegetarian</td>\n",
       "      <td>not vegetarian</td>\n",
       "      <td>vegetarian</td>\n",
       "      <td>vegetarian</td>\n",
       "      <td>not vegetarian</td>\n",
       "    </tr>\n",
       "    <tr>\n",
       "      <th>1</th>\n",
       "      <td>VEGETABLE SAMOSA</td>\n",
       "      <td>Crispy Turnovers Stuffed With Seasoned Potatoe...</td>\n",
       "      <td>Vegetarian</td>\n",
       "      <td>18</td>\n",
       "      <td>VEGETABLE SAMOSA : Crispy Turnovers Stuffed Wi...</td>\n",
       "      <td>vegetarian</td>\n",
       "      <td>vegetarian</td>\n",
       "      <td>vegetarian</td>\n",
       "      <td>vegetarian</td>\n",
       "      <td>vegetarian</td>\n",
       "    </tr>\n",
       "    <tr>\n",
       "      <th>2</th>\n",
       "      <td>ALOO TIKKIYA</td>\n",
       "      <td>Grilled Spicy Potato Cakes Topped With Pomegra...</td>\n",
       "      <td>Vegetarian</td>\n",
       "      <td>18</td>\n",
       "      <td>ALOO TIKKIYA : Grilled Spicy Potato Cakes Topp...</td>\n",
       "      <td>not vegetarian</td>\n",
       "      <td>not vegetarian</td>\n",
       "      <td>not vegetarian</td>\n",
       "      <td>vegetarian</td>\n",
       "      <td>not vegetarian</td>\n",
       "    </tr>\n",
       "    <tr>\n",
       "      <th>3</th>\n",
       "      <td>AMRITSARI SEEKH</td>\n",
       "      <td>Marinated Paneer, Grilled Peppers, Tomato Sauce</td>\n",
       "      <td>Vegetarian</td>\n",
       "      <td>22</td>\n",
       "      <td>AMRITSARI SEEKH : Marinated Paneer, Grilled Pe...</td>\n",
       "      <td>not vegetarian</td>\n",
       "      <td>not vegetarian</td>\n",
       "      <td>vegetarian</td>\n",
       "      <td>vegetarian</td>\n",
       "      <td>not vegetarian</td>\n",
       "    </tr>\n",
       "    <tr>\n",
       "      <th>4</th>\n",
       "      <td>HARA BHARA KABAB</td>\n",
       "      <td>Grilled Spinach Patties Stuffed With Paneer, G...</td>\n",
       "      <td>Vegetarian</td>\n",
       "      <td>18</td>\n",
       "      <td>HARA BHARA KABAB : Grilled Spinach Patties Stu...</td>\n",
       "      <td>not vegetarian</td>\n",
       "      <td>not vegetarian</td>\n",
       "      <td>vegetarian</td>\n",
       "      <td>vegetarian</td>\n",
       "      <td>not vegetarian</td>\n",
       "    </tr>\n",
       "  </tbody>\n",
       "</table>\n",
       "</div>"
      ],
      "text/plain": [
       "              Title                                        Description  \\\n",
       "0       LASUNI GOBI  Florets Of Cauliflower Marinated In Lemon And ...   \n",
       "1  VEGETABLE SAMOSA  Crispy Turnovers Stuffed With Seasoned Potatoe...   \n",
       "2      ALOO TIKKIYA  Grilled Spicy Potato Cakes Topped With Pomegra...   \n",
       "3   AMRITSARI SEEKH    Marinated Paneer, Grilled Peppers, Tomato Sauce   \n",
       "4  HARA BHARA KABAB  Grilled Spinach Patties Stuffed With Paneer, G...   \n",
       "\n",
       "       Manual Price                                           test_str  \\\n",
       "0  Vegetarian    18  LASUNI GOBI : Florets Of Cauliflower Marinated...   \n",
       "1  Vegetarian    18  VEGETABLE SAMOSA : Crispy Turnovers Stuffed Wi...   \n",
       "2  Vegetarian    18  ALOO TIKKIYA : Grilled Spicy Potato Cakes Topp...   \n",
       "3  Vegetarian    22  AMRITSARI SEEKH : Marinated Paneer, Grilled Pe...   \n",
       "4  Vegetarian    18  HARA BHARA KABAB : Grilled Spinach Patties Stu...   \n",
       "\n",
       "  bart_classification mDeBERTa_classification DeBERTa-v3-base-mnli-fever-anli  \\\n",
       "0      not vegetarian          not vegetarian                      vegetarian   \n",
       "1          vegetarian              vegetarian                      vegetarian   \n",
       "2      not vegetarian          not vegetarian                  not vegetarian   \n",
       "3      not vegetarian          not vegetarian                      vegetarian   \n",
       "4      not vegetarian          not vegetarian                      vegetarian   \n",
       "\n",
       "  deberta-v3-base-zeroshot-v1.1-all-33 mDeBERTa-v3-base-mnli-xnli  \n",
       "0                           vegetarian             not vegetarian  \n",
       "1                           vegetarian                 vegetarian  \n",
       "2                           vegetarian             not vegetarian  \n",
       "3                           vegetarian             not vegetarian  \n",
       "4                           vegetarian             not vegetarian  "
      ]
     },
     "execution_count": 65,
     "metadata": {},
     "output_type": "execute_result"
    }
   ],
   "source": [
    "# read in the csv\n",
    "df = pd.read_csv(\"Menu_items.csv\")\n",
    "df.head()"
   ]
  },
  {
   "cell_type": "code",
   "execution_count": 90,
   "id": "37da0488",
   "metadata": {},
   "outputs": [
    {
     "data": {
      "text/plain": [
       "['LASUNI GOBI : Florets Of Cauliflower Marinated In Lemon And Ginger Juice Finished In A Tangy Tomato And Garlic Sauce',\n",
       " 'VEGETABLE SAMOSA : Crispy Turnovers Stuffed With Seasoned Potatoes, Green Peas',\n",
       " 'ALOO TIKKIYA : Grilled Spicy Potato Cakes Topped With Pomegranate, Mint Chutney',\n",
       " 'AMRITSARI SEEKH : Marinated Paneer, Grilled Peppers, Tomato Sauce',\n",
       " 'HARA BHARA KABAB : Grilled Spinach Patties Stuffed With Paneer, Garam Masala, Red Chili',\n",
       " 'PALAK CHAAT : Mixture Of Crispy Spinach, Seasoned Tomatoes, Red Onions, Sev, Yogurt, Mint & Tamarind Chutney',\n",
       " 'DAHI ALOO PAPDI : A Mixture Of Wheat Crisps, Potatoes, Chickpeas, Yogurt, Tamarind Chutney',\n",
       " 'BHEL POORI : Assorted Crisps And Sev, Sweet And Sour Chutneys',\n",
       " 'BAGHARE JHINGA : Jumbo Shrimp Pan Seared With Curry Leaves And Mustard Seeds Finished In A Creamy Tomato Sauce',\n",
       " 'TAMARIND SCALLOPS : Pan-Seared Scallops With Garam Masala, Lemon Juice Topped With Poppyseeds']"
      ]
     },
     "execution_count": 90,
     "metadata": {},
     "output_type": "execute_result"
    }
   ],
   "source": [
    "#convert test strings column to a list\n",
    "texts = df[\"test_str\"].to_list()\n",
    "texts[:10]"
   ]
  },
  {
   "cell_type": "code",
   "execution_count": 92,
   "id": "fda60056",
   "metadata": {},
   "outputs": [
    {
     "name": "stderr",
     "output_type": "stream",
     "text": [
      "Asking to truncate to max_length but no maximum length is provided and the model has no predefined maximum length. Default to no truncation.\n"
     ]
    },
    {
     "name": "stdout",
     "output_type": "stream",
     "text": [
      "[{'sequence': 'LASUNI GOBI : Florets Of Cauliflower Marinated In Lemon And Ginger Juice Finished In A Tangy Tomato And Garlic Sauce', 'labels': ['vegetarian', 'meat'], 'scores': [0.9997864961624146, 0.00021352835756260902]}, {'sequence': 'VEGETABLE SAMOSA : Crispy Turnovers Stuffed With Seasoned Potatoes, Green Peas', 'labels': ['vegetarian', 'meat'], 'scores': [0.9997607469558716, 0.00023920230160001665]}, {'sequence': 'ALOO TIKKIYA : Grilled Spicy Potato Cakes Topped With Pomegranate, Mint Chutney', 'labels': ['vegetarian', 'meat'], 'scores': [0.9935430288314819, 0.006456923205405474]}, {'sequence': 'AMRITSARI SEEKH : Marinated Paneer, Grilled Peppers, Tomato Sauce', 'labels': ['vegetarian', 'meat'], 'scores': [0.8268358111381531, 0.1731642186641693]}, {'sequence': 'HARA BHARA KABAB : Grilled Spinach Patties Stuffed With Paneer, Garam Masala, Red Chili', 'labels': ['vegetarian', 'meat'], 'scores': [0.9941198825836182, 0.005880096927285194]}]\n"
     ]
    }
   ],
   "source": [
    "#run through classifier\n",
    "results = classifier(texts, ['vegetarian', 'meat'])\n",
    "print(results[:5])  # Print the first 5 results for brevity"
   ]
  },
  {
   "cell_type": "code",
   "execution_count": 93,
   "id": "30199b74",
   "metadata": {},
   "outputs": [
    {
     "data": {
      "text/plain": [
       "301"
      ]
     },
     "execution_count": 93,
     "metadata": {},
     "output_type": "execute_result"
    }
   ],
   "source": [
    "len(results)"
   ]
  },
  {
   "cell_type": "code",
   "execution_count": 94,
   "id": "4857fdcc",
   "metadata": {},
   "outputs": [],
   "source": [
    "#get the top score from classification\n",
    "labels = [result[\"labels\"][0] for result in results] # should be a list"
   ]
  },
  {
   "cell_type": "code",
   "execution_count": 95,
   "id": "43fba04a",
   "metadata": {},
   "outputs": [],
   "source": [
    "#save it in new column\n",
    "df[\"deberta-v3-base-zeroshot-v1.1-all-33\"] = labels\n"
   ]
  },
  {
   "cell_type": "code",
   "execution_count": 96,
   "id": "7a23084e",
   "metadata": {},
   "outputs": [
    {
     "data": {
      "text/html": [
       "<div>\n",
       "<style scoped>\n",
       "    .dataframe tbody tr th:only-of-type {\n",
       "        vertical-align: middle;\n",
       "    }\n",
       "\n",
       "    .dataframe tbody tr th {\n",
       "        vertical-align: top;\n",
       "    }\n",
       "\n",
       "    .dataframe thead th {\n",
       "        text-align: right;\n",
       "    }\n",
       "</style>\n",
       "<table border=\"1\" class=\"dataframe\">\n",
       "  <thead>\n",
       "    <tr style=\"text-align: right;\">\n",
       "      <th></th>\n",
       "      <th>Title</th>\n",
       "      <th>Description</th>\n",
       "      <th>Manual</th>\n",
       "      <th>Price</th>\n",
       "      <th>test_str</th>\n",
       "      <th>bart-large-mnli</th>\n",
       "      <th>mDeBERTa-v3-base-mnli-xnli</th>\n",
       "      <th>DeBERTa-v3-base-mnli-fever-anli</th>\n",
       "      <th>deberta-v3-base-zeroshot-v1.1-all-33</th>\n",
       "    </tr>\n",
       "  </thead>\n",
       "  <tbody>\n",
       "    <tr>\n",
       "      <th>0</th>\n",
       "      <td>LASUNI GOBI</td>\n",
       "      <td>Florets Of Cauliflower Marinated In Lemon And ...</td>\n",
       "      <td>Vegetarian</td>\n",
       "      <td>18</td>\n",
       "      <td>LASUNI GOBI : Florets Of Cauliflower Marinated...</td>\n",
       "      <td>vegetarian</td>\n",
       "      <td>vegetarian</td>\n",
       "      <td>vegetarian</td>\n",
       "      <td>vegetarian</td>\n",
       "    </tr>\n",
       "    <tr>\n",
       "      <th>1</th>\n",
       "      <td>VEGETABLE SAMOSA</td>\n",
       "      <td>Crispy Turnovers Stuffed With Seasoned Potatoe...</td>\n",
       "      <td>Vegetarian</td>\n",
       "      <td>18</td>\n",
       "      <td>VEGETABLE SAMOSA : Crispy Turnovers Stuffed Wi...</td>\n",
       "      <td>vegetarian</td>\n",
       "      <td>vegetarian</td>\n",
       "      <td>vegetarian</td>\n",
       "      <td>vegetarian</td>\n",
       "    </tr>\n",
       "    <tr>\n",
       "      <th>2</th>\n",
       "      <td>ALOO TIKKIYA</td>\n",
       "      <td>Grilled Spicy Potato Cakes Topped With Pomegra...</td>\n",
       "      <td>Vegetarian</td>\n",
       "      <td>18</td>\n",
       "      <td>ALOO TIKKIYA : Grilled Spicy Potato Cakes Topp...</td>\n",
       "      <td>meat</td>\n",
       "      <td>vegetarian</td>\n",
       "      <td>vegetarian</td>\n",
       "      <td>vegetarian</td>\n",
       "    </tr>\n",
       "    <tr>\n",
       "      <th>3</th>\n",
       "      <td>AMRITSARI SEEKH</td>\n",
       "      <td>Marinated Paneer, Grilled Peppers, Tomato Sauce</td>\n",
       "      <td>Vegetarian</td>\n",
       "      <td>22</td>\n",
       "      <td>AMRITSARI SEEKH : Marinated Paneer, Grilled Pe...</td>\n",
       "      <td>meat</td>\n",
       "      <td>vegetarian</td>\n",
       "      <td>vegetarian</td>\n",
       "      <td>vegetarian</td>\n",
       "    </tr>\n",
       "    <tr>\n",
       "      <th>4</th>\n",
       "      <td>HARA BHARA KABAB</td>\n",
       "      <td>Grilled Spinach Patties Stuffed With Paneer, G...</td>\n",
       "      <td>Vegetarian</td>\n",
       "      <td>18</td>\n",
       "      <td>HARA BHARA KABAB : Grilled Spinach Patties Stu...</td>\n",
       "      <td>vegetarian</td>\n",
       "      <td>meat</td>\n",
       "      <td>vegetarian</td>\n",
       "      <td>vegetarian</td>\n",
       "    </tr>\n",
       "  </tbody>\n",
       "</table>\n",
       "</div>"
      ],
      "text/plain": [
       "              Title                                        Description  \\\n",
       "0       LASUNI GOBI  Florets Of Cauliflower Marinated In Lemon And ...   \n",
       "1  VEGETABLE SAMOSA  Crispy Turnovers Stuffed With Seasoned Potatoe...   \n",
       "2      ALOO TIKKIYA  Grilled Spicy Potato Cakes Topped With Pomegra...   \n",
       "3   AMRITSARI SEEKH    Marinated Paneer, Grilled Peppers, Tomato Sauce   \n",
       "4  HARA BHARA KABAB  Grilled Spinach Patties Stuffed With Paneer, G...   \n",
       "\n",
       "       Manual Price                                           test_str  \\\n",
       "0  Vegetarian    18  LASUNI GOBI : Florets Of Cauliflower Marinated...   \n",
       "1  Vegetarian    18  VEGETABLE SAMOSA : Crispy Turnovers Stuffed Wi...   \n",
       "2  Vegetarian    18  ALOO TIKKIYA : Grilled Spicy Potato Cakes Topp...   \n",
       "3  Vegetarian    22  AMRITSARI SEEKH : Marinated Paneer, Grilled Pe...   \n",
       "4  Vegetarian    18  HARA BHARA KABAB : Grilled Spinach Patties Stu...   \n",
       "\n",
       "  bart-large-mnli mDeBERTa-v3-base-mnli-xnli DeBERTa-v3-base-mnli-fever-anli  \\\n",
       "0      vegetarian                 vegetarian                      vegetarian   \n",
       "1      vegetarian                 vegetarian                      vegetarian   \n",
       "2            meat                 vegetarian                      vegetarian   \n",
       "3            meat                 vegetarian                      vegetarian   \n",
       "4      vegetarian                       meat                      vegetarian   \n",
       "\n",
       "  deberta-v3-base-zeroshot-v1.1-all-33  \n",
       "0                           vegetarian  \n",
       "1                           vegetarian  \n",
       "2                           vegetarian  \n",
       "3                           vegetarian  \n",
       "4                           vegetarian  "
      ]
     },
     "execution_count": 96,
     "metadata": {},
     "output_type": "execute_result"
    }
   ],
   "source": [
    "df.head()"
   ]
  },
  {
   "cell_type": "code",
   "execution_count": 101,
   "id": "dcce1bd5",
   "metadata": {},
   "outputs": [],
   "source": [
    "filename = \"5_classifiers_veg_meat.csv\"\n",
    "df.to_csv(filename, index=False)"
   ]
  },
  {
   "cell_type": "markdown",
   "id": "650ead3e",
   "metadata": {},
   "source": [
    "## Success Rate"
   ]
  },
  {
   "cell_type": "code",
   "execution_count": 102,
   "id": "0d2e6c07",
   "metadata": {},
   "outputs": [
    {
     "data": {
      "text/html": [
       "<div>\n",
       "<style scoped>\n",
       "    .dataframe tbody tr th:only-of-type {\n",
       "        vertical-align: middle;\n",
       "    }\n",
       "\n",
       "    .dataframe tbody tr th {\n",
       "        vertical-align: top;\n",
       "    }\n",
       "\n",
       "    .dataframe thead th {\n",
       "        text-align: right;\n",
       "    }\n",
       "</style>\n",
       "<table border=\"1\" class=\"dataframe\">\n",
       "  <thead>\n",
       "    <tr style=\"text-align: right;\">\n",
       "      <th></th>\n",
       "      <th>Title</th>\n",
       "      <th>Description</th>\n",
       "      <th>Manual</th>\n",
       "      <th>Price</th>\n",
       "      <th>test_str</th>\n",
       "      <th>bart-large-mnli</th>\n",
       "      <th>mDeBERTa-v3-base-mnli-xnli</th>\n",
       "      <th>DeBERTa-v3-base-mnli-fever-anli</th>\n",
       "      <th>deberta-v3-base-zeroshot-v1.1-all-33</th>\n",
       "    </tr>\n",
       "  </thead>\n",
       "  <tbody>\n",
       "    <tr>\n",
       "      <th>0</th>\n",
       "      <td>LASUNI GOBI</td>\n",
       "      <td>Florets Of Cauliflower Marinated In Lemon And ...</td>\n",
       "      <td>vegetarian</td>\n",
       "      <td>18</td>\n",
       "      <td>LASUNI GOBI : Florets Of Cauliflower Marinated...</td>\n",
       "      <td>vegetarian</td>\n",
       "      <td>vegetarian</td>\n",
       "      <td>vegetarian</td>\n",
       "      <td>vegetarian</td>\n",
       "    </tr>\n",
       "    <tr>\n",
       "      <th>1</th>\n",
       "      <td>VEGETABLE SAMOSA</td>\n",
       "      <td>Crispy Turnovers Stuffed With Seasoned Potatoe...</td>\n",
       "      <td>vegetarian</td>\n",
       "      <td>18</td>\n",
       "      <td>VEGETABLE SAMOSA : Crispy Turnovers Stuffed Wi...</td>\n",
       "      <td>vegetarian</td>\n",
       "      <td>vegetarian</td>\n",
       "      <td>vegetarian</td>\n",
       "      <td>vegetarian</td>\n",
       "    </tr>\n",
       "    <tr>\n",
       "      <th>2</th>\n",
       "      <td>ALOO TIKKIYA</td>\n",
       "      <td>Grilled Spicy Potato Cakes Topped With Pomegra...</td>\n",
       "      <td>vegetarian</td>\n",
       "      <td>18</td>\n",
       "      <td>ALOO TIKKIYA : Grilled Spicy Potato Cakes Topp...</td>\n",
       "      <td>meat</td>\n",
       "      <td>vegetarian</td>\n",
       "      <td>vegetarian</td>\n",
       "      <td>vegetarian</td>\n",
       "    </tr>\n",
       "    <tr>\n",
       "      <th>3</th>\n",
       "      <td>AMRITSARI SEEKH</td>\n",
       "      <td>Marinated Paneer, Grilled Peppers, Tomato Sauce</td>\n",
       "      <td>vegetarian</td>\n",
       "      <td>22</td>\n",
       "      <td>AMRITSARI SEEKH : Marinated Paneer, Grilled Pe...</td>\n",
       "      <td>meat</td>\n",
       "      <td>vegetarian</td>\n",
       "      <td>vegetarian</td>\n",
       "      <td>vegetarian</td>\n",
       "    </tr>\n",
       "    <tr>\n",
       "      <th>4</th>\n",
       "      <td>HARA BHARA KABAB</td>\n",
       "      <td>Grilled Spinach Patties Stuffed With Paneer, G...</td>\n",
       "      <td>vegetarian</td>\n",
       "      <td>18</td>\n",
       "      <td>HARA BHARA KABAB : Grilled Spinach Patties Stu...</td>\n",
       "      <td>vegetarian</td>\n",
       "      <td>meat</td>\n",
       "      <td>vegetarian</td>\n",
       "      <td>vegetarian</td>\n",
       "    </tr>\n",
       "  </tbody>\n",
       "</table>\n",
       "</div>"
      ],
      "text/plain": [
       "              Title                                        Description  \\\n",
       "0       LASUNI GOBI  Florets Of Cauliflower Marinated In Lemon And ...   \n",
       "1  VEGETABLE SAMOSA  Crispy Turnovers Stuffed With Seasoned Potatoe...   \n",
       "2      ALOO TIKKIYA  Grilled Spicy Potato Cakes Topped With Pomegra...   \n",
       "3   AMRITSARI SEEKH    Marinated Paneer, Grilled Peppers, Tomato Sauce   \n",
       "4  HARA BHARA KABAB  Grilled Spinach Patties Stuffed With Paneer, G...   \n",
       "\n",
       "       Manual Price                                           test_str  \\\n",
       "0  vegetarian    18  LASUNI GOBI : Florets Of Cauliflower Marinated...   \n",
       "1  vegetarian    18  VEGETABLE SAMOSA : Crispy Turnovers Stuffed Wi...   \n",
       "2  vegetarian    18  ALOO TIKKIYA : Grilled Spicy Potato Cakes Topp...   \n",
       "3  vegetarian    22  AMRITSARI SEEKH : Marinated Paneer, Grilled Pe...   \n",
       "4  vegetarian    18  HARA BHARA KABAB : Grilled Spinach Patties Stu...   \n",
       "\n",
       "  bart-large-mnli mDeBERTa-v3-base-mnli-xnli DeBERTa-v3-base-mnli-fever-anli  \\\n",
       "0      vegetarian                 vegetarian                      vegetarian   \n",
       "1      vegetarian                 vegetarian                      vegetarian   \n",
       "2            meat                 vegetarian                      vegetarian   \n",
       "3            meat                 vegetarian                      vegetarian   \n",
       "4      vegetarian                       meat                      vegetarian   \n",
       "\n",
       "  deberta-v3-base-zeroshot-v1.1-all-33  \n",
       "0                           vegetarian  \n",
       "1                           vegetarian  \n",
       "2                           vegetarian  \n",
       "3                           vegetarian  \n",
       "4                           vegetarian  "
      ]
     },
     "execution_count": 102,
     "metadata": {},
     "output_type": "execute_result"
    }
   ],
   "source": [
    "df = pd.read_csv(\"5_classifiers_veg_meat.csv\")\n",
    "df.head()"
   ]
  },
  {
   "cell_type": "code",
   "execution_count": 103,
   "id": "b2d2e627",
   "metadata": {},
   "outputs": [],
   "source": [
    "df[\"Manual\"] = df[\"Manual\"].str.lower()"
   ]
  },
  {
   "cell_type": "markdown",
   "id": "8a800e35",
   "metadata": {},
   "source": [
    "### replace ```meat``` with ```Not Vegetarian```"
   ]
  },
  {
   "cell_type": "code",
   "execution_count": 108,
   "id": "9d812c17",
   "metadata": {},
   "outputs": [
    {
     "data": {
      "text/html": [
       "<div>\n",
       "<style scoped>\n",
       "    .dataframe tbody tr th:only-of-type {\n",
       "        vertical-align: middle;\n",
       "    }\n",
       "\n",
       "    .dataframe tbody tr th {\n",
       "        vertical-align: top;\n",
       "    }\n",
       "\n",
       "    .dataframe thead th {\n",
       "        text-align: right;\n",
       "    }\n",
       "</style>\n",
       "<table border=\"1\" class=\"dataframe\">\n",
       "  <thead>\n",
       "    <tr style=\"text-align: right;\">\n",
       "      <th></th>\n",
       "      <th>Title</th>\n",
       "      <th>Description</th>\n",
       "      <th>Manual</th>\n",
       "      <th>Price</th>\n",
       "      <th>test_str</th>\n",
       "      <th>bart-large-mnli</th>\n",
       "      <th>mDeBERTa-v3-base-mnli-xnli</th>\n",
       "      <th>DeBERTa-v3-base-mnli-fever-anli</th>\n",
       "      <th>deberta-v3-base-zeroshot-v1.1-all-33</th>\n",
       "    </tr>\n",
       "  </thead>\n",
       "  <tbody>\n",
       "    <tr>\n",
       "      <th>0</th>\n",
       "      <td>LASUNI GOBI</td>\n",
       "      <td>Florets Of Cauliflower Marinated In Lemon And ...</td>\n",
       "      <td>vegetarian</td>\n",
       "      <td>18</td>\n",
       "      <td>LASUNI GOBI : Florets Of Cauliflower Marinated...</td>\n",
       "      <td>vegetarian</td>\n",
       "      <td>vegetarian</td>\n",
       "      <td>vegetarian</td>\n",
       "      <td>vegetarian</td>\n",
       "    </tr>\n",
       "    <tr>\n",
       "      <th>1</th>\n",
       "      <td>VEGETABLE SAMOSA</td>\n",
       "      <td>Crispy Turnovers Stuffed With Seasoned Potatoe...</td>\n",
       "      <td>vegetarian</td>\n",
       "      <td>18</td>\n",
       "      <td>VEGETABLE SAMOSA : Crispy Turnovers Stuffed Wi...</td>\n",
       "      <td>vegetarian</td>\n",
       "      <td>vegetarian</td>\n",
       "      <td>vegetarian</td>\n",
       "      <td>vegetarian</td>\n",
       "    </tr>\n",
       "    <tr>\n",
       "      <th>2</th>\n",
       "      <td>ALOO TIKKIYA</td>\n",
       "      <td>Grilled Spicy Potato Cakes Topped With Pomegra...</td>\n",
       "      <td>vegetarian</td>\n",
       "      <td>18</td>\n",
       "      <td>ALOO TIKKIYA : Grilled Spicy Potato Cakes Topp...</td>\n",
       "      <td>not vegetarian</td>\n",
       "      <td>vegetarian</td>\n",
       "      <td>vegetarian</td>\n",
       "      <td>vegetarian</td>\n",
       "    </tr>\n",
       "    <tr>\n",
       "      <th>3</th>\n",
       "      <td>AMRITSARI SEEKH</td>\n",
       "      <td>Marinated Paneer, Grilled Peppers, Tomato Sauce</td>\n",
       "      <td>vegetarian</td>\n",
       "      <td>22</td>\n",
       "      <td>AMRITSARI SEEKH : Marinated Paneer, Grilled Pe...</td>\n",
       "      <td>not vegetarian</td>\n",
       "      <td>vegetarian</td>\n",
       "      <td>vegetarian</td>\n",
       "      <td>vegetarian</td>\n",
       "    </tr>\n",
       "    <tr>\n",
       "      <th>4</th>\n",
       "      <td>HARA BHARA KABAB</td>\n",
       "      <td>Grilled Spinach Patties Stuffed With Paneer, G...</td>\n",
       "      <td>vegetarian</td>\n",
       "      <td>18</td>\n",
       "      <td>HARA BHARA KABAB : Grilled Spinach Patties Stu...</td>\n",
       "      <td>vegetarian</td>\n",
       "      <td>not vegetarian</td>\n",
       "      <td>vegetarian</td>\n",
       "      <td>vegetarian</td>\n",
       "    </tr>\n",
       "    <tr>\n",
       "      <th>5</th>\n",
       "      <td>PALAK CHAAT</td>\n",
       "      <td>Mixture Of Crispy Spinach, Seasoned Tomatoes, ...</td>\n",
       "      <td>vegetarian</td>\n",
       "      <td>16</td>\n",
       "      <td>PALAK CHAAT : Mixture Of Crispy Spinach, Seaso...</td>\n",
       "      <td>vegetarian</td>\n",
       "      <td>vegetarian</td>\n",
       "      <td>vegetarian</td>\n",
       "      <td>vegetarian</td>\n",
       "    </tr>\n",
       "    <tr>\n",
       "      <th>6</th>\n",
       "      <td>DAHI ALOO PAPDI</td>\n",
       "      <td>A Mixture Of Wheat Crisps, Potatoes, Chickpeas...</td>\n",
       "      <td>vegetarian</td>\n",
       "      <td>14</td>\n",
       "      <td>DAHI ALOO PAPDI : A Mixture Of Wheat Crisps, P...</td>\n",
       "      <td>vegetarian</td>\n",
       "      <td>vegetarian</td>\n",
       "      <td>vegetarian</td>\n",
       "      <td>vegetarian</td>\n",
       "    </tr>\n",
       "    <tr>\n",
       "      <th>7</th>\n",
       "      <td>BHEL POORI</td>\n",
       "      <td>Assorted Crisps And Sev, Sweet And Sour Chutneys</td>\n",
       "      <td>vegetarian</td>\n",
       "      <td>14</td>\n",
       "      <td>BHEL POORI : Assorted Crisps And Sev, Sweet An...</td>\n",
       "      <td>vegetarian</td>\n",
       "      <td>not vegetarian</td>\n",
       "      <td>vegetarian</td>\n",
       "      <td>vegetarian</td>\n",
       "    </tr>\n",
       "    <tr>\n",
       "      <th>8</th>\n",
       "      <td>BAGHARE JHINGA</td>\n",
       "      <td>Jumbo Shrimp Pan Seared With Curry Leaves And ...</td>\n",
       "      <td>not vegetarian</td>\n",
       "      <td>24</td>\n",
       "      <td>BAGHARE JHINGA : Jumbo Shrimp Pan Seared With ...</td>\n",
       "      <td>not vegetarian</td>\n",
       "      <td>vegetarian</td>\n",
       "      <td>not vegetarian</td>\n",
       "      <td>not vegetarian</td>\n",
       "    </tr>\n",
       "    <tr>\n",
       "      <th>9</th>\n",
       "      <td>TAMARIND SCALLOPS</td>\n",
       "      <td>Pan-Seared Scallops With Garam Masala, Lemon J...</td>\n",
       "      <td>not vegetarian</td>\n",
       "      <td>24</td>\n",
       "      <td>TAMARIND SCALLOPS : Pan-Seared Scallops With G...</td>\n",
       "      <td>not vegetarian</td>\n",
       "      <td>not vegetarian</td>\n",
       "      <td>vegetarian</td>\n",
       "      <td>vegetarian</td>\n",
       "    </tr>\n",
       "  </tbody>\n",
       "</table>\n",
       "</div>"
      ],
      "text/plain": [
       "               Title                                        Description  \\\n",
       "0        LASUNI GOBI  Florets Of Cauliflower Marinated In Lemon And ...   \n",
       "1   VEGETABLE SAMOSA  Crispy Turnovers Stuffed With Seasoned Potatoe...   \n",
       "2       ALOO TIKKIYA  Grilled Spicy Potato Cakes Topped With Pomegra...   \n",
       "3    AMRITSARI SEEKH    Marinated Paneer, Grilled Peppers, Tomato Sauce   \n",
       "4   HARA BHARA KABAB  Grilled Spinach Patties Stuffed With Paneer, G...   \n",
       "5        PALAK CHAAT  Mixture Of Crispy Spinach, Seasoned Tomatoes, ...   \n",
       "6    DAHI ALOO PAPDI  A Mixture Of Wheat Crisps, Potatoes, Chickpeas...   \n",
       "7         BHEL POORI   Assorted Crisps And Sev, Sweet And Sour Chutneys   \n",
       "8     BAGHARE JHINGA  Jumbo Shrimp Pan Seared With Curry Leaves And ...   \n",
       "9  TAMARIND SCALLOPS  Pan-Seared Scallops With Garam Masala, Lemon J...   \n",
       "\n",
       "           Manual Price                                           test_str  \\\n",
       "0      vegetarian    18  LASUNI GOBI : Florets Of Cauliflower Marinated...   \n",
       "1      vegetarian    18  VEGETABLE SAMOSA : Crispy Turnovers Stuffed Wi...   \n",
       "2      vegetarian    18  ALOO TIKKIYA : Grilled Spicy Potato Cakes Topp...   \n",
       "3      vegetarian    22  AMRITSARI SEEKH : Marinated Paneer, Grilled Pe...   \n",
       "4      vegetarian    18  HARA BHARA KABAB : Grilled Spinach Patties Stu...   \n",
       "5      vegetarian    16  PALAK CHAAT : Mixture Of Crispy Spinach, Seaso...   \n",
       "6      vegetarian    14  DAHI ALOO PAPDI : A Mixture Of Wheat Crisps, P...   \n",
       "7      vegetarian    14  BHEL POORI : Assorted Crisps And Sev, Sweet An...   \n",
       "8  not vegetarian    24  BAGHARE JHINGA : Jumbo Shrimp Pan Seared With ...   \n",
       "9  not vegetarian    24  TAMARIND SCALLOPS : Pan-Seared Scallops With G...   \n",
       "\n",
       "  bart-large-mnli mDeBERTa-v3-base-mnli-xnli DeBERTa-v3-base-mnli-fever-anli  \\\n",
       "0      vegetarian                 vegetarian                      vegetarian   \n",
       "1      vegetarian                 vegetarian                      vegetarian   \n",
       "2  not vegetarian                 vegetarian                      vegetarian   \n",
       "3  not vegetarian                 vegetarian                      vegetarian   \n",
       "4      vegetarian             not vegetarian                      vegetarian   \n",
       "5      vegetarian                 vegetarian                      vegetarian   \n",
       "6      vegetarian                 vegetarian                      vegetarian   \n",
       "7      vegetarian             not vegetarian                      vegetarian   \n",
       "8  not vegetarian                 vegetarian                  not vegetarian   \n",
       "9  not vegetarian             not vegetarian                      vegetarian   \n",
       "\n",
       "  deberta-v3-base-zeroshot-v1.1-all-33  \n",
       "0                           vegetarian  \n",
       "1                           vegetarian  \n",
       "2                           vegetarian  \n",
       "3                           vegetarian  \n",
       "4                           vegetarian  \n",
       "5                           vegetarian  \n",
       "6                           vegetarian  \n",
       "7                           vegetarian  \n",
       "8                       not vegetarian  \n",
       "9                           vegetarian  "
      ]
     },
     "execution_count": 108,
     "metadata": {},
     "output_type": "execute_result"
    }
   ],
   "source": [
    "#df[\"deberta-v3-base-zeroshot-v1.1-all-33\"] = df[\"deberta-v3-base-zeroshot-v1.1-all-33\"].replace(\"meat\", \"not vegetarian\")\n",
    "df.head(10)"
   ]
  },
  {
   "cell_type": "code",
   "execution_count": 109,
   "id": "664b5a7b",
   "metadata": {},
   "outputs": [],
   "source": [
    "def get_model_success(column_name):\n",
    "    \n",
    "    len_success = df[df[\"Manual\"] == df[column_name]].shape[0]\n",
    "    len_all = df.shape[0]\n",
    "    \n",
    "    success_pc = (len_success * 100) / len_all\n",
    "    \n",
    "    return success_pc"
   ]
  },
  {
   "cell_type": "code",
   "execution_count": 110,
   "id": "f9efa2d4",
   "metadata": {},
   "outputs": [],
   "source": [
    "column_names = df.columns.to_list()[5:]"
   ]
  },
  {
   "cell_type": "code",
   "execution_count": 111,
   "id": "391fe467",
   "metadata": {},
   "outputs": [
    {
     "data": {
      "text/plain": [
       "['bart-large-mnli',\n",
       " 'mDeBERTa-v3-base-mnli-xnli',\n",
       " 'DeBERTa-v3-base-mnli-fever-anli',\n",
       " 'deberta-v3-base-zeroshot-v1.1-all-33']"
      ]
     },
     "execution_count": 111,
     "metadata": {},
     "output_type": "execute_result"
    }
   ],
   "source": [
    "column_names"
   ]
  },
  {
   "cell_type": "code",
   "execution_count": 112,
   "id": "883b8f72",
   "metadata": {},
   "outputs": [
    {
     "data": {
      "text/plain": [
       "{'bart-large-mnli': 74.4186046511628,\n",
       " 'mDeBERTa-v3-base-mnli-xnli': 78.7375415282392,\n",
       " 'DeBERTa-v3-base-mnli-fever-anli': 88.37209302325581,\n",
       " 'deberta-v3-base-zeroshot-v1.1-all-33': 83.05647840531562}"
      ]
     },
     "execution_count": 112,
     "metadata": {},
     "output_type": "execute_result"
    }
   ],
   "source": [
    "success_rate = {}\n",
    "\n",
    "for name in column_names:\n",
    "    success_rate[name] = get_model_success(name)\n",
    "    \n",
    "success_rate    "
   ]
  },
  {
   "cell_type": "code",
   "execution_count": 113,
   "id": "e139c2e5",
   "metadata": {},
   "outputs": [
    {
     "data": {
      "text/plain": [
       "['bart-large-mnli',\n",
       " 'mDeBERTa-v3-base-mnli-xnli',\n",
       " 'DeBERTa-v3-base-mnli-fever-anli',\n",
       " 'deberta-v3-base-zeroshot-v1.1-all-33']"
      ]
     },
     "execution_count": 113,
     "metadata": {},
     "output_type": "execute_result"
    }
   ],
   "source": [
    "list(success_rate.keys())"
   ]
  },
  {
   "cell_type": "code",
   "execution_count": 114,
   "id": "86ce2843",
   "metadata": {},
   "outputs": [
    {
     "data": {
      "text/html": [
       "<div>\n",
       "<style scoped>\n",
       "    .dataframe tbody tr th:only-of-type {\n",
       "        vertical-align: middle;\n",
       "    }\n",
       "\n",
       "    .dataframe tbody tr th {\n",
       "        vertical-align: top;\n",
       "    }\n",
       "\n",
       "    .dataframe thead th {\n",
       "        text-align: right;\n",
       "    }\n",
       "</style>\n",
       "<table border=\"1\" class=\"dataframe\">\n",
       "  <thead>\n",
       "    <tr style=\"text-align: right;\">\n",
       "      <th></th>\n",
       "      <th>models</th>\n",
       "      <th>success_rate</th>\n",
       "    </tr>\n",
       "  </thead>\n",
       "  <tbody>\n",
       "    <tr>\n",
       "      <th>2</th>\n",
       "      <td>DeBERTa-v3-base-mnli-fever-anli</td>\n",
       "      <td>88.372093</td>\n",
       "    </tr>\n",
       "    <tr>\n",
       "      <th>3</th>\n",
       "      <td>deberta-v3-base-zeroshot-v1.1-all-33</td>\n",
       "      <td>83.056478</td>\n",
       "    </tr>\n",
       "    <tr>\n",
       "      <th>1</th>\n",
       "      <td>mDeBERTa-v3-base-mnli-xnli</td>\n",
       "      <td>78.737542</td>\n",
       "    </tr>\n",
       "    <tr>\n",
       "      <th>0</th>\n",
       "      <td>bart-large-mnli</td>\n",
       "      <td>74.418605</td>\n",
       "    </tr>\n",
       "  </tbody>\n",
       "</table>\n",
       "</div>"
      ],
      "text/plain": [
       "                                 models  success_rate\n",
       "2       DeBERTa-v3-base-mnli-fever-anli     88.372093\n",
       "3  deberta-v3-base-zeroshot-v1.1-all-33     83.056478\n",
       "1            mDeBERTa-v3-base-mnli-xnli     78.737542\n",
       "0                       bart-large-mnli     74.418605"
      ]
     },
     "execution_count": 114,
     "metadata": {},
     "output_type": "execute_result"
    }
   ],
   "source": [
    "model_success_df = pd.DataFrame()\n",
    "model_success_df[\"models\"] = list(success_rate.keys())\n",
    "model_success_df[\"success_rate\"] = list(success_rate.values())\n",
    "model_success_df.sort_values(by = \"success_rate\", ascending=False)"
   ]
  },
  {
   "cell_type": "code",
   "execution_count": 115,
   "id": "194d8f0d",
   "metadata": {},
   "outputs": [],
   "source": [
    "model_success_df.to_csv(\"success_rates_veg_meat.csv\", index = False)"
   ]
  },
  {
   "cell_type": "markdown",
   "id": "75a084e7",
   "metadata": {},
   "source": [
    "### Testing food NER - testing actual classifers in next notebook ```testing_classifiers_ner.ipynb```"
   ]
  },
  {
   "cell_type": "code",
   "execution_count": 12,
   "id": "2835b46b",
   "metadata": {},
   "outputs": [
    {
     "data": {
      "application/vnd.jupyter.widget-view+json": {
       "model_id": "0bd29d2f3cfa4f81a08b8bea05015c1e",
       "version_major": 2,
       "version_minor": 0
      },
      "text/plain": [
       "config.json:   0%|          | 0.00/896 [00:00<?, ?B/s]"
      ]
     },
     "metadata": {},
     "output_type": "display_data"
    },
    {
     "data": {
      "application/vnd.jupyter.widget-view+json": {
       "model_id": "d236c941072f4d3bb898f0243963a7dc",
       "version_major": 2,
       "version_minor": 0
      },
      "text/plain": [
       "pytorch_model.bin:   0%|          | 0.00/496M [00:00<?, ?B/s]"
      ]
     },
     "metadata": {},
     "output_type": "display_data"
    },
    {
     "data": {
      "application/vnd.jupyter.widget-view+json": {
       "model_id": "994816a3878c48f7aab6c2365f7fa979",
       "version_major": 2,
       "version_minor": 0
      },
      "text/plain": [
       "tokenizer_config.json:   0%|          | 0.00/25.0 [00:00<?, ?B/s]"
      ]
     },
     "metadata": {},
     "output_type": "display_data"
    },
    {
     "data": {
      "application/vnd.jupyter.widget-view+json": {
       "model_id": "652abcc025ca475c9c92e54b23a9d3c9",
       "version_major": 2,
       "version_minor": 0
      },
      "text/plain": [
       "config.json:   0%|          | 0.00/481 [00:00<?, ?B/s]"
      ]
     },
     "metadata": {},
     "output_type": "display_data"
    },
    {
     "data": {
      "application/vnd.jupyter.widget-view+json": {
       "model_id": "7a6f28f1dbe4413b9810a3b105863bc6",
       "version_major": 2,
       "version_minor": 0
      },
      "text/plain": [
       "vocab.json:   0%|          | 0.00/899k [00:00<?, ?B/s]"
      ]
     },
     "metadata": {},
     "output_type": "display_data"
    },
    {
     "data": {
      "application/vnd.jupyter.widget-view+json": {
       "model_id": "e4ce441ddb95485a8bc47f6efa914061",
       "version_major": 2,
       "version_minor": 0
      },
      "text/plain": [
       "merges.txt:   0%|          | 0.00/456k [00:00<?, ?B/s]"
      ]
     },
     "metadata": {},
     "output_type": "display_data"
    },
    {
     "data": {
      "application/vnd.jupyter.widget-view+json": {
       "model_id": "6a9ca381bfd54fb6835653feabd64e2c",
       "version_major": 2,
       "version_minor": 0
      },
      "text/plain": [
       "tokenizer.json:   0%|          | 0.00/1.36M [00:00<?, ?B/s]"
      ]
     },
     "metadata": {},
     "output_type": "display_data"
    },
    {
     "name": "stderr",
     "output_type": "stream",
     "text": [
      "Hardware accelerator e.g. GPU is available in the environment, but no `device` argument is passed to the `Pipeline` object. Model will be on CPU.\n",
      "/Users/anushasubramanian/.pyenv/versions/3.12.7/lib/python3.12/site-packages/transformers/pipelines/token_classification.py:398: UserWarning: Tokenizer does not support real words, using fallback heuristic\n",
      "  warnings.warn(\n"
     ]
    }
   ],
   "source": [
    "from transformers import AutoTokenizer, AutoModelForTokenClassification, pipeline\n",
    "\n",
    "model = AutoModelForTokenClassification.from_pretrained('carolanderson/roberta-base-food-ner')\n",
    "\n",
    "tokenizer = AutoTokenizer.from_pretrained(\"roberta-base\", add_prefix_space=True)\n",
    "\n",
    "nlp = pipeline(\"ner\", model=model, tokenizer=tokenizer)\n",
    "\n"
   ]
  },
  {
   "cell_type": "code",
   "execution_count": 16,
   "id": "96fa3d60",
   "metadata": {},
   "outputs": [
    {
     "data": {
      "text/plain": [
       "[{'entity_group': 'FOOD',\n",
       "  'score': np.float32(0.50480014),\n",
       "  'word': ' Mushroom',\n",
       "  'start': 0,\n",
       "  'end': 8},\n",
       " {'entity_group': 'FOOD',\n",
       "  'score': np.float32(0.8067007),\n",
       "  'word': ' pizza:',\n",
       "  'start': 9,\n",
       "  'end': 15},\n",
       " {'entity_group': 'FOOD',\n",
       "  'score': np.float32(0.99057895),\n",
       "  'word': ' Goat cheese,',\n",
       "  'start': 16,\n",
       "  'end': 28},\n",
       " {'entity_group': 'FOOD',\n",
       "  'score': np.float32(0.998517),\n",
       "  'word': ' bacon,',\n",
       "  'start': 29,\n",
       "  'end': 35},\n",
       " {'entity_group': 'FOOD',\n",
       "  'score': np.float32(0.98704344),\n",
       "  'word': ' speck',\n",
       "  'start': 36,\n",
       "  'end': 41}]"
      ]
     },
     "execution_count": 16,
     "metadata": {},
     "output_type": "execute_result"
    }
   ],
   "source": [
    "example = \"Mushroom pizza: Goat cheese, bacon, speck\"\n",
    "results = nlp(example, aggregation_strategy=\"first\")\n",
    "results"
   ]
  }
 ],
 "metadata": {
  "kernelspec": {
   "display_name": "Python 3 (ipykernel)",
   "language": "python",
   "name": "python3"
  },
  "language_info": {
   "codemirror_mode": {
    "name": "ipython",
    "version": 3
   },
   "file_extension": ".py",
   "mimetype": "text/x-python",
   "name": "python",
   "nbconvert_exporter": "python",
   "pygments_lexer": "ipython3",
   "version": "3.12.7"
  }
 },
 "nbformat": 4,
 "nbformat_minor": 5
}
