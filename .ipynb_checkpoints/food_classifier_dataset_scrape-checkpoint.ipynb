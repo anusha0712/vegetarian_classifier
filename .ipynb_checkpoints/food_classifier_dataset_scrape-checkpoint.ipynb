{
 "cells": [
  {
   "cell_type": "markdown",
   "id": "beac80de",
   "metadata": {},
   "source": [
    "# Classifying Menu Items as Vegetarian or Not"
   ]
  },
  {
   "cell_type": "code",
   "execution_count": 2,
   "id": "2cc49cb2",
   "metadata": {},
   "outputs": [],
   "source": [
    "import os \n",
    "import pandas as pd\n",
    "import requests\n",
    "import requests_cache\n",
    "from string import ascii_lowercase as lc_alphabet\n",
    "\n",
    "\n",
    "requests_cache.install_cache('api_cache', expire_after=86400)  # Cache expires after 1 day (86400 seconds)"
   ]
  },
  {
   "cell_type": "markdown",
   "id": "d12139d1",
   "metadata": {},
   "source": [
    "#### Create a Test Dataset"
   ]
  },
  {
   "cell_type": "markdown",
   "id": "ffc3f969",
   "metadata": {},
   "source": [
    "##### Plan is to request data for all their recipes and ingredients in them. Then join them together as a string in the form of [name] : [desc] and use that for testing two 'medium' language models. \n",
    "\n",
    "Getting data from TheMealDB by scrapping recipes per alphabet. "
   ]
  },
  {
   "cell_type": "code",
   "execution_count": 3,
   "id": "a5b942fd",
   "metadata": {},
   "outputs": [],
   "source": [
    "#key provided by them\n",
    "api_key = \"1\"  # Replace with your actual API key"
   ]
  },
  {
   "cell_type": "code",
   "execution_count": 4,
   "id": "b676a1da",
   "metadata": {},
   "outputs": [],
   "source": [
    "# testing one alphabet\n",
    "url = \"https://www.themealdb.com/api/json/v1/1/search.php?f=a\""
   ]
  },
  {
   "cell_type": "code",
   "execution_count": 5,
   "id": "a0a5a7c0",
   "metadata": {},
   "outputs": [],
   "source": [
    "response = requests.get(url)"
   ]
  },
  {
   "cell_type": "code",
   "execution_count": null,
   "id": "70b57575",
   "metadata": {
    "scrolled": true
   },
   "outputs": [],
   "source": [
    "data = response.json()\n",
    "data"
   ]
  },
  {
   "cell_type": "code",
   "execution_count": null,
   "id": "cdace4e0",
   "metadata": {},
   "outputs": [],
   "source": [
    "len(data[\"meals\"])"
   ]
  },
  {
   "cell_type": "code",
   "execution_count": null,
   "id": "7372a1ac",
   "metadata": {},
   "outputs": [],
   "source": [
    "# writing a for loop to loop through all the letters"
   ]
  },
  {
   "cell_type": "code",
   "execution_count": null,
   "id": "9c759c37",
   "metadata": {},
   "outputs": [],
   "source": [
    "lc_alphabet"
   ]
  },
  {
   "cell_type": "code",
   "execution_count": null,
   "id": "67f99111",
   "metadata": {},
   "outputs": [],
   "source": [
    "all_recipes = []"
   ]
  },
  {
   "cell_type": "code",
   "execution_count": null,
   "id": "1b2c16b7",
   "metadata": {},
   "outputs": [],
   "source": [
    "for letter in lc_alphabet:\n",
    "    \n",
    "    url = f\"https://www.themealdb.com/api/json/v1/1/search.php?f={letter}\"\n",
    "    response = requests.get(url)\n",
    "    \n",
    "    if response.status_code == 200:\n",
    "        data = response.json()\n",
    "\n",
    "        if data[\"meals\"] != None:\n",
    "\n",
    "            all_recipes.extend(data[\"meals\"])\n",
    "        \n",
    "    else:\n",
    "        print(f\"{letter} did not work\")\n"
   ]
  },
  {
   "cell_type": "code",
   "execution_count": null,
   "id": "e67172ee",
   "metadata": {},
   "outputs": [],
   "source": [
    "letter"
   ]
  },
  {
   "cell_type": "code",
   "execution_count": null,
   "id": "1b3986e3",
   "metadata": {},
   "outputs": [],
   "source": [
    "len(all_recipes) # why are there two left out? should be 303"
   ]
  },
  {
   "cell_type": "code",
   "execution_count": null,
   "id": "af1d4cca",
   "metadata": {
    "scrolled": true
   },
   "outputs": [],
   "source": [
    "food_df = pd.DataFrame(all_recipes)\n",
    "food_df"
   ]
  },
  {
   "cell_type": "code",
   "execution_count": null,
   "id": "00c22ea6",
   "metadata": {},
   "outputs": [],
   "source": [
    "ingredients_df = food_df.filter(regex=(\"strIngredient.*\"))\n",
    "ingredients_df.fillna(\"\", inplace = True)\n",
    "ingredients_df.head()"
   ]
  },
  {
   "cell_type": "code",
   "execution_count": null,
   "id": "ad62e682",
   "metadata": {},
   "outputs": [],
   "source": [
    "food_df[\"all_ingredients\"] = ingredients_df.apply(lambda row: \",\".join(x for x in row), axis = 1)\n",
    "food_df.head()"
   ]
  },
  {
   "cell_type": "code",
   "execution_count": null,
   "id": "eb75a8e2",
   "metadata": {},
   "outputs": [],
   "source": [
    "food_df[\"test_string\"] = food_df[\"strMeal\"] + \" : \" + food_df[\"all_ingredients\"]"
   ]
  },
  {
   "cell_type": "code",
   "execution_count": null,
   "id": "b44a9387",
   "metadata": {},
   "outputs": [],
   "source": [
    "food_df.head()"
   ]
  },
  {
   "cell_type": "code",
   "execution_count": null,
   "id": "09f646d3",
   "metadata": {},
   "outputs": [],
   "source": [
    "filename = \"themealdb_recipes.csv\"\n",
    "food_df.to_csv(filename, index = False)"
   ]
  },
  {
   "cell_type": "code",
   "execution_count": null,
   "id": "2ae0e172",
   "metadata": {},
   "outputs": [],
   "source": []
  },
  {
   "cell_type": "markdown",
   "id": "31304dbb",
   "metadata": {},
   "source": [
    "## Build your training set\n",
    "\n",
    "one way I think of scraping for a dataset is to scrap for all the allowed cuisine parameter.\n",
    "\n",
    "get all the recipes from all cuisines\n",
    "use the recipe ID to then scrape ingredient and diet information \n",
    "string editing to get a training string\n"
   ]
  },
  {
   "cell_type": "code",
   "execution_count": 6,
   "id": "d9d58fb2",
   "metadata": {},
   "outputs": [
    {
     "data": {
      "text/plain": [
       "dict_keys(['results', 'offset', 'number', 'totalResults'])"
      ]
     },
     "execution_count": 6,
     "metadata": {},
     "output_type": "execute_result"
    }
   ],
   "source": [
    "url = f\"https://api.spoonacular.com/recipes/complexSearch?apiKey=1bbc1401ba7d48729507a4e73d397ab5&cuisine=italian\"\n",
    "response = requests.get(url)\n",
    "data = response.json()\n",
    "data.keys()"
   ]
  },
  {
   "cell_type": "code",
   "execution_count": null,
   "id": "20c038ab",
   "metadata": {},
   "outputs": [],
   "source": [
    "data[\"totalResults\"]"
   ]
  },
  {
   "cell_type": "code",
   "execution_count": null,
   "id": "8a582ab5",
   "metadata": {},
   "outputs": [],
   "source": [
    "data[\"results\"]"
   ]
  },
  {
   "cell_type": "code",
   "execution_count": null,
   "id": "2a674fb9",
   "metadata": {},
   "outputs": [],
   "source": [
    "#?apiKey=1bbc1401ba7d48729507a4e73d397ab5&"
   ]
  },
  {
   "cell_type": "code",
   "execution_count": 7,
   "id": "84de9608",
   "metadata": {},
   "outputs": [],
   "source": [
    "cuisines = [\n",
    "    \"african\", \"asian\", \"american\", \"british\", \"cajun\", \"caribbean\", \n",
    "    \"chinese\", \"eastern%20european\", \"european\", \"french\", \"german\", \n",
    "    \"greek\", \"indian\", \"irish\", \"italian\", \"japanese\", \"jewish\", \n",
    "    \"korean\", \"latin%20american\", \"mediterranean\", \"mexican\", \n",
    "    \"middle%20eastern\", \"nordic\", \"southern\", \"spanish\", \"thai\", \n",
    "    \"vietnamese\"\n",
    "]"
   ]
  },
  {
   "cell_type": "code",
   "execution_count": 8,
   "id": "61e96919",
   "metadata": {},
   "outputs": [],
   "source": [
    "all_cuisines = []\n",
    "for cuisine in cuisines:\n",
    "    \n",
    "    #get total number of results with only 1 actual reciepe returned\n",
    "    first_url = f\"https://api.spoonacular.com/recipes/complexSearch?apiKey=1bbc1401ba7d48729507a4e73d397ab5&cuisine={cuisine}&number=1\"\n",
    "    response = requests.get(first_url)\n",
    "    data = response.json()\n",
    "    total_results = data[\"totalResults\"]\n",
    "    \n",
    "    #get all the results of that cuisine\n",
    "    final_url = f\"https://api.spoonacular.com/recipes/complexSearch?apiKey=1bbc1401ba7d48729507a4e73d397ab5&cuisine={cuisine}&number={total_results}\"\n",
    "    response = requests.get(final_url)\n",
    "    data = response.json()\n",
    "    \n",
    "    all_cuisines.extend(data[\"results\"])\n",
    "        \n",
    "        "
   ]
  },
  {
   "cell_type": "code",
   "execution_count": 9,
   "id": "d5a4f6b0",
   "metadata": {},
   "outputs": [
    {
     "data": {
      "text/plain": [
       "0        632003\n",
       "1        653275\n",
       "2        716426\n",
       "3        642129\n",
       "4        798400\n",
       "         ...   \n",
       "1231     664847\n",
       "1232     664828\n",
       "1233     655903\n",
       "1234     664708\n",
       "1235    1096211\n",
       "Name: id, Length: 948, dtype: int64"
      ]
     },
     "execution_count": 9,
     "metadata": {},
     "output_type": "execute_result"
    }
   ],
   "source": [
    "pd.DataFrame(all_cuisines)[\"id\"].drop_duplicates() # 948 unique reciepes"
   ]
  },
  {
   "cell_type": "code",
   "execution_count": 10,
   "id": "42eb442d",
   "metadata": {},
   "outputs": [
    {
     "data": {
      "text/plain": [
       "'632003'"
      ]
     },
     "execution_count": 10,
     "metadata": {},
     "output_type": "execute_result"
    }
   ],
   "source": [
    "str(all_cuisines[0][\"id\"])"
   ]
  },
  {
   "cell_type": "code",
   "execution_count": 11,
   "id": "cb68a226",
   "metadata": {},
   "outputs": [
    {
     "data": {
      "text/plain": [
       "1236"
      ]
     },
     "execution_count": 11,
     "metadata": {},
     "output_type": "execute_result"
    }
   ],
   "source": [
    "len(all_cuisines)"
   ]
  },
  {
   "cell_type": "code",
   "execution_count": 12,
   "id": "adf76b3c",
   "metadata": {
    "scrolled": true
   },
   "outputs": [
    {
     "data": {
      "text/plain": [
       "'632003,653275,716426,642129,798400,716311,646043,716217,644826,716364,665379,660231,647875,660290,637440,663177,652078,632822,648910,632835,641128,1096250,633088,648916,638642,643775,648506,641908,663126,641111,638649,1697543,634710,650484,663166,632983,632896,663113,634965,649077,642468,664830,652026,649199,637391,716338,640234,658482,649031,661740,632854,638369,661072,645541,1096217,651180,641565,663169,647874,1095994,1095955,643255,632881,649030,638389,647830,645634,632026,632901,645474,648758,651911,1096225,663149,637908,663078,735820,638496,660493,632796,646425,664835,658058,633649,646123,632806,649036,637264,654313,1095772,642941,637426,656777,642283,654373,653008,632862,663090,661117,648470,663074,638382,1132339,1046982,642540,639392,644581,633837,660395,638552,638764,636573,642695,1096277,775621,637897,673457,662376,637265,657226,649141,641627,634888,1095894,1697611,641845,638549,664011,660273,610281,662391,991010,650377,651190,637102,650546,1066893,1096060,665146,659058,660730,1165787,637902,632874,633185,657243,661223,715595,663050,1095886,638464,1096221,632213,660680,663545,1157762,780000,1697717,1178323,657306,649940,639629,633833,664080,640720,640859,645680,638586,638566,638744,636682,638557,633293,641122,646358,1095892,637488,638497,640266,982377,640194,655239,635350,646518,646567,637932,631814,1096216,1043339,650009,632300,640722,1416203,635179,634345,634873,1681413,644020,632342,1039293,658005,632575,664680,643450,649395,642091,636096,639637,655300,640398,659463,634847,637675,636970,661725,649853,641651,642413,658326,654657,635394,657768,75081,658300,50423,658850,471334,641650,59431,1646939,657907,782601,648524,1055614,636732,659638,715545,636736,648432,660283,648430,635263,636743,636742,631882,638108,641943,1095942,640166,643385,636733,634229,606953,663822,637103,637099,637116,655687,638722,638714,643808,1095843,633093,658270,662422,642138,649073,660707,638717,638668,659038,643786,643832,638631,659906,682619,652354,648475,662744,638693,643011,640323,649129,664551,664650,638729,664624,639741,667701,984198,663150,1095836,644476,633063,663792,1095993,647656,635686,664396,656049,647659,642147,664031,647661,634699,1095839,647065,647654,661602,647645,157964,635684,715769,716408,659109,664419,648279,633754,1095745,1095806,658753,641893,716300,646034,664737,640134,664565,639606,660266,654125,1095742,664678,640136,648247,648259,657312,640693,1095740,642095,879449,656972,646549,647124,645646,1095751,647563,648238,662294,648638,660292,645265,657933,639599,648275,656571,649270,648190,715573,651922,642297,1046983,655400,646729,640314,647974,648048,649354,662291,655847,641962,645384,650045,1098350,638236,663366,649225,642371,658641,634891,1005368,660843,799304,652856,660215,658743,663227,631824,648176,1095810,652134,1096161,1095841,642325,649850,637811,647687,657250,656820,657537,657377,638002,657939,664689,648641,715569,652651,659037,652652,643372,642230,1095851,643330,632046,640869,649431,637478,636392,657511,640767,67308,661249,659459,637042,1096190,643362,665776,652605,1096246,650650,646348,633399,716407,1095797,639590,643400,658681,637477,664585,634070,658132,653854,665672,656506,1956374,640730,635207,632949,633267,645833,664533,649328,716272,643394,639597,602644,1697573,644854,157093,636598,655003,716414,1096248,653098,1096208,649183,644482,1095834,638493,1096205,644504,644488,643851,656817,656819,641308,644477,635108,644462,645315,1095731,646071,679535,644889,660842,645348,642287,649195,645354,654939,649886,645365,651076,647680,648774,654532,716202,650378,663092,1096306,651337,650606,635601,651184,641110,661287,641904,652598,647876,640656,633650,636488,651914,640621,1096230,663144,644376,1095986,647795,642499,647867,658347,1096180,657095,645769,641958,652834,658068,639803,1450327,651186,1426917,1697815,649000,664575,654379,641145,657598,650871,157459,634579,644167,657085,769533,660185,650673,660913,627875,773676,631752,641123,648734,652754,648718,1095888,652760,658803,639900,653500,648006,648010,650602,1697769,648004,665480,634660,649292,638088,636610,651646,1697697,662264,642281,636963,658024,636356,649280,636360,918784,1095746,638235,636599,654928,644205,1096168,656329,656548,649340,636593,653238,1096012,657159,664233,653819,651381,1697743,644830,622598,648118,640064,644885,663771,650654,653368,663595,636355,644917,826557,650119,633884,1095743,663033,653973,648462,648479,646974,654430,1096283,648502,658177,663669,648500,654072,37513,648460,648467,648461,665496,648487,658125,634751,661302,653234,648608,650703,1697555,649300,634486,649040,644135,649062,662584,649066,649056,648975,390813,649045,649029,641208,638626,643055,1096025,1697773,654432,631912,643428,1697719,637133,650225,632021,644907,664959,638619,640062,715421,715543,715391,982382,637157,664501,645856,716290,982368,638588,643061,635058,1697763,1096017,659674,645711,645863,635291,651977,644044,1096057,1646941,659174,635077,661188,664025,511707,646427,650798,1095842,645988,660943,639413,657579,1096021,715394,662850,1096304,642372,642395,648974,684981,660234,632755,656839,660406,637999,986003,652711,659138,650789,652100,661059,1095995,660286,638409,656723,664726,658703,918026,982384,643532,1095988,641815,664030,710765,633072,653040,637890,663054,651585,664017,649002,640851,637374,635477,651707,1095989,652919,638073,638074,634882,654621,637285,1505411,1098354,643529,1454187,645812,732255,1098303,637480,648785,1096058,1460497,642390,643347,645996,664026,716195,642121,665378,649405,639950,657686,651823,649407,645704,651832,658573,642893,640834,638316,649403,634431,647109,1096209,637476,642547,642169,634389,658503,647631,631783,649413,655316,642539,649411,647636,639410,637481,647634,648565,1095945,633830,660225,648980,658970,655219,633624,729531,1697553,1095798,780016,647577,718600,644791,511738,640843,664058,636574,13265,1697531,634318,661883,649048,661095,649049,632099,660685,664386,641607,634137,640803,657277,653670,634059,634098,640907,641261,634856,640093,639608,662786,635233,635200,647675,664468,673449,650365,655735,652284,1095855,1470917,632103,639456,649381,646340,650937,655322,639156,1096043,648336,634183,655514,661930,648453,1697805,638568,636943,610952,650812,648348,715515,1098392,639099,653610,631878,654059,640067,644817,1956420,632186,1955940,639054,653971,636026,660504,634202,632101,647287,635444,633080,715378,660701,1956188,634931,646424,1096024,646873,681703,632100,637797,655537,634212,638940,1096171,633970,654327,1697577,660883,641911,660861,1095794,639557,642559,640085,664284,649441,649419,653362,660868,639062,638784,632706,633337,631747,1095838,654331,652864,826556,633576,1697723,663156,663121,663100,665484,663087,663176,632955,644594,663151,662427,649137,663157,663175,663108,637697,644859,918033,664847,664828,655903,664708,1096211'"
      ]
     },
     "execution_count": 12,
     "metadata": {},
     "output_type": "execute_result"
    }
   ],
   "source": [
    "# create a list of recipe ID to pass into bulk \n",
    "all_ids = []\n",
    "\n",
    "for recipe in all_cuisines:\n",
    "    \n",
    "    if str(recipe[\"id\"]) not in all_ids:\n",
    "        all_ids.append(str(recipe[\"id\"]))\n",
    "\n",
    "id_string = \",\".join(all_ids)\n",
    "id_string"
   ]
  },
  {
   "cell_type": "code",
   "execution_count": 13,
   "id": "9bec9ec3",
   "metadata": {},
   "outputs": [
    {
     "data": {
      "text/plain": [
       "948"
      ]
     },
     "execution_count": 13,
     "metadata": {},
     "output_type": "execute_result"
    }
   ],
   "source": [
    "len(all_ids)"
   ]
  },
  {
   "cell_type": "code",
   "execution_count": 14,
   "id": "ba144d5a",
   "metadata": {},
   "outputs": [],
   "source": [
    "id_string = \",\".join(all_ids[:474])"
   ]
  },
  {
   "cell_type": "code",
   "execution_count": 15,
   "id": "af4f4704",
   "metadata": {},
   "outputs": [],
   "source": [
    "# get ingredient list in id_string\n",
    "\n",
    "url = f\"https://api.spoonacular.com/recipes/informationBulk?apiKey=1bbc1401ba7d48729507a4e73d397ab5&ids={id_string}\"\n",
    "\n",
    "response = requests.get(url)\n",
    "data = response.json()"
   ]
  },
  {
   "cell_type": "code",
   "execution_count": 16,
   "id": "8ad32cea",
   "metadata": {},
   "outputs": [
    {
     "name": "stdout",
     "output_type": "stream",
     "text": [
      "Quota Left Today: -200.33\n"
     ]
    }
   ],
   "source": [
    "print(\"Quota Left Today:\", response.headers.get(\"X-API-Quota-Left\"))"
   ]
  },
  {
   "cell_type": "code",
   "execution_count": 17,
   "id": "e484d259",
   "metadata": {},
   "outputs": [
    {
     "name": "stdout",
     "output_type": "stream",
     "text": [
      "Quota Left Today: -200.33\n"
     ]
    }
   ],
   "source": [
    "print(\"Quota Left Today:\", response.headers.get(\"X-API-Quota-Left\"))"
   ]
  },
  {
   "cell_type": "code",
   "execution_count": 18,
   "id": "207af206",
   "metadata": {},
   "outputs": [
    {
     "data": {
      "text/plain": [
       "200"
      ]
     },
     "execution_count": 18,
     "metadata": {},
     "output_type": "execute_result"
    }
   ],
   "source": [
    "response.status_code"
   ]
  },
  {
   "cell_type": "code",
   "execution_count": 28,
   "id": "8140cf4c",
   "metadata": {},
   "outputs": [
    {
     "data": {
      "text/plain": [
       "'green pepper'"
      ]
     },
     "execution_count": 28,
     "metadata": {},
     "output_type": "execute_result"
    }
   ],
   "source": [
    "data[0][\"extendedIngredients\"][2][\"nameClean\"]"
   ]
  },
  {
   "cell_type": "markdown",
   "id": "ad2711b0",
   "metadata": {},
   "source": [
    "### NEXT STEP: HAVE TO GET ALL 948"
   ]
  },
  {
   "cell_type": "code",
   "execution_count": 30,
   "id": "fc875110",
   "metadata": {},
   "outputs": [
    {
     "data": {
      "text/plain": [
       "474"
      ]
     },
     "execution_count": 30,
     "metadata": {},
     "output_type": "execute_result"
    }
   ],
   "source": [
    "len(all_ids[474:])"
   ]
  },
  {
   "cell_type": "code",
   "execution_count": 29,
   "id": "99c84e4a",
   "metadata": {},
   "outputs": [],
   "source": [
    "id_string = \",\".join(all_ids[474:])"
   ]
  },
  {
   "cell_type": "code",
   "execution_count": 31,
   "id": "9069930f",
   "metadata": {},
   "outputs": [],
   "source": [
    "# get ingredient list in id_string\n",
    "\n",
    "url = f\"https://api.spoonacular.com/recipes/informationBulk?apiKey=1bbc1401ba7d48729507a4e73d397ab5&ids=632003\"\n",
    "\n",
    "response = requests.get(url)\n",
    "data_2 = response.json()"
   ]
  },
  {
   "cell_type": "code",
   "execution_count": 33,
   "id": "474ffed2",
   "metadata": {},
   "outputs": [
    {
     "data": {
      "text/plain": [
       "474"
      ]
     },
     "execution_count": 33,
     "metadata": {},
     "output_type": "execute_result"
    }
   ],
   "source": [
    "len(data_2)"
   ]
  },
  {
   "cell_type": "code",
   "execution_count": 34,
   "id": "ec25810e",
   "metadata": {},
   "outputs": [
    {
     "data": {
      "text/plain": [
       "dict_keys(['vegetarian', 'vegan', 'glutenFree', 'dairyFree', 'veryHealthy', 'cheap', 'veryPopular', 'sustainable', 'lowFodmap', 'weightWatcherSmartPoints', 'gaps', 'preparationMinutes', 'cookingMinutes', 'aggregateLikes', 'healthScore', 'creditsText', 'license', 'sourceName', 'pricePerServing', 'extendedIngredients', 'id', 'title', 'readyInMinutes', 'servings', 'sourceUrl', 'image', 'imageType', 'summary', 'cuisines', 'dishTypes', 'diets', 'occasions', 'winePairing', 'instructions', 'analyzedInstructions', 'originalId', 'spoonacularScore', 'spoonacularSourceUrl'])"
      ]
     },
     "execution_count": 34,
     "metadata": {},
     "output_type": "execute_result"
    }
   ],
   "source": [
    "data_2[0].keys()"
   ]
  },
  {
   "cell_type": "code",
   "execution_count": 35,
   "id": "97e778dd",
   "metadata": {},
   "outputs": [],
   "source": [
    "data.extend(data_2)"
   ]
  },
  {
   "cell_type": "code",
   "execution_count": 36,
   "id": "6f2da25f",
   "metadata": {},
   "outputs": [
    {
     "data": {
      "text/plain": [
       "948"
      ]
     },
     "execution_count": 36,
     "metadata": {},
     "output_type": "execute_result"
    }
   ],
   "source": [
    "len(data) # contains all the recipe bulk info for each id"
   ]
  },
  {
   "cell_type": "code",
   "execution_count": 99,
   "id": "db232420",
   "metadata": {},
   "outputs": [
    {
     "data": {
      "text/plain": [
       "True"
      ]
     },
     "execution_count": 99,
     "metadata": {},
     "output_type": "execute_result"
    }
   ],
   "source": [
    "# need to make new data structure of id and ingredients and then \n",
    "data[0][\"vegan\"]"
   ]
  },
  {
   "cell_type": "code",
   "execution_count": 40,
   "id": "c60f036b",
   "metadata": {},
   "outputs": [
    {
     "data": {
      "text/plain": [
       "[{'id': 16063,\n",
       "  'aisle': 'Pasta and Rice',\n",
       "  'image': 'black-eyed-peas.jpg',\n",
       "  'consistency': 'SOLID',\n",
       "  'name': 'black-eyed peas',\n",
       "  'nameClean': 'blackeyed peas',\n",
       "  'original': '2 cups dried black-eyed peas',\n",
       "  'originalName': 'dried black-eyed peas',\n",
       "  'amount': 2.0,\n",
       "  'unit': 'cups',\n",
       "  'meta': ['dried'],\n",
       "  'measures': {'us': {'amount': 2.0, 'unitShort': 'cups', 'unitLong': 'cups'},\n",
       "   'metric': {'amount': 344.0, 'unitShort': 'g', 'unitLong': 'grams'}}},\n",
       " {'id': 11124,\n",
       "  'aisle': 'Produce',\n",
       "  'image': 'sliced-carrot.png',\n",
       "  'consistency': 'SOLID',\n",
       "  'name': 'carrots',\n",
       "  'nameClean': 'carrot',\n",
       "  'original': '2 cups sliced carrots',\n",
       "  'originalName': 'sliced carrots',\n",
       "  'amount': 2.0,\n",
       "  'unit': 'cups',\n",
       "  'meta': ['sliced'],\n",
       "  'measures': {'us': {'amount': 2.0, 'unitShort': 'cups', 'unitLong': 'cups'},\n",
       "   'metric': {'amount': 256.0, 'unitShort': 'g', 'unitLong': 'grams'}}},\n",
       " {'id': 11333,\n",
       "  'aisle': 'Produce',\n",
       "  'image': 'green-pepper.jpg',\n",
       "  'consistency': 'SOLID',\n",
       "  'name': 'bell pepper',\n",
       "  'nameClean': 'green pepper',\n",
       "  'original': '1 cup green pepper, diced',\n",
       "  'originalName': 'green pepper, diced',\n",
       "  'amount': 1.0,\n",
       "  'unit': 'cup',\n",
       "  'meta': ['diced', 'green'],\n",
       "  'measures': {'us': {'amount': 1.0, 'unitShort': 'cup', 'unitLong': 'cup'},\n",
       "   'metric': {'amount': 149.0, 'unitShort': 'g', 'unitLong': 'grams'}}},\n",
       " {'id': 11282,\n",
       "  'aisle': 'Produce',\n",
       "  'image': 'brown-onion.png',\n",
       "  'consistency': 'SOLID',\n",
       "  'name': 'onion',\n",
       "  'nameClean': 'onion',\n",
       "  'original': '1/2 cup chopped onion',\n",
       "  'originalName': 'chopped onion',\n",
       "  'amount': 0.5,\n",
       "  'unit': 'cup',\n",
       "  'meta': ['chopped'],\n",
       "  'measures': {'us': {'amount': 0.5, 'unitShort': 'cups', 'unitLong': 'cups'},\n",
       "   'metric': {'amount': 80.0, 'unitShort': 'g', 'unitLong': 'grams'}}},\n",
       " {'id': 16098,\n",
       "  'aisle': 'Nut butters, Jams, and Honey',\n",
       "  'image': 'peanut-butter.png',\n",
       "  'consistency': 'SOLID',\n",
       "  'name': 'peanut butter',\n",
       "  'nameClean': 'peanut butter',\n",
       "  'original': '2 tablespoons peanut butter',\n",
       "  'originalName': 'peanut butter',\n",
       "  'amount': 2.0,\n",
       "  'unit': 'tablespoons',\n",
       "  'meta': [],\n",
       "  'measures': {'us': {'amount': 2.0,\n",
       "    'unitShort': 'Tbsps',\n",
       "    'unitLong': 'Tbsps'},\n",
       "   'metric': {'amount': 2.0, 'unitShort': 'Tbsps', 'unitLong': 'Tbsps'}}},\n",
       " {'id': 2047,\n",
       "  'aisle': 'Spices and Seasonings',\n",
       "  'image': 'salt.jpg',\n",
       "  'consistency': 'SOLID',\n",
       "  'name': 'salt',\n",
       "  'nameClean': 'table salt',\n",
       "  'original': '3/4 teaspoon salt',\n",
       "  'originalName': 'salt',\n",
       "  'amount': 0.75,\n",
       "  'unit': 'teaspoon',\n",
       "  'meta': [],\n",
       "  'measures': {'us': {'amount': 0.75,\n",
       "    'unitShort': 'tsps',\n",
       "    'unitLong': 'teaspoons'},\n",
       "   'metric': {'amount': 0.75, 'unitShort': 'tsps', 'unitLong': 'teaspoons'}}},\n",
       " {'id': 14412,\n",
       "  'aisle': 'Beverages',\n",
       "  'image': 'water.png',\n",
       "  'consistency': 'LIQUID',\n",
       "  'name': 'water',\n",
       "  'nameClean': 'water',\n",
       "  'original': '150 ml water',\n",
       "  'originalName': 'water',\n",
       "  'amount': 150.0,\n",
       "  'unit': 'ml',\n",
       "  'meta': [],\n",
       "  'measures': {'us': {'amount': 5.073,\n",
       "    'unitShort': 'fl. oz',\n",
       "    'unitLong': 'fl. ozs'},\n",
       "   'metric': {'amount': 150.0, 'unitShort': 'ml', 'unitLong': 'milliliters'}}}]"
      ]
     },
     "execution_count": 40,
     "metadata": {},
     "output_type": "execute_result"
    }
   ],
   "source": [
    "data[0][\"extendedIngredients\"]#[2][\"nameClean\"]"
   ]
  },
  {
   "cell_type": "code",
   "execution_count": 100,
   "id": "db4e7593",
   "metadata": {},
   "outputs": [],
   "source": [
    "# you need loop through data \n",
    "# loop through extended ingredients\n",
    "recipe_ingredients = []\n",
    "\n",
    "for recipe in data:\n",
    "    \n",
    "    all_ingredients = []\n",
    "    one_recipe = {}\n",
    "    \n",
    "    for ingredient in recipe[\"extendedIngredients\"]:\n",
    "        \n",
    "        if ingredient[\"nameClean\"] is not None:\n",
    "            all_ingredients.append(ingredient[\"nameClean\"])\n",
    "            \n",
    "        elif ingredient[\"nameClean\"] is None:\n",
    "            all_ingredients.append(ingredient[\"name\"])\n",
    "        \n",
    "    one_recipe[\"id\"] = recipe[\"id\"]\n",
    "    one_recipe[\"vegetarian\"] = recipe[\"vegetarian\"]\n",
    "    one_recipe[\"vegan\"] = recipe[\"vegan\"]\n",
    "    one_recipe[\"ingredients\"] = all_ingredients\n",
    "        \n",
    "    recipe_ingredients.append(one_recipe)\n",
    "        \n",
    "        "
   ]
  },
  {
   "cell_type": "code",
   "execution_count": 101,
   "id": "af205fee",
   "metadata": {},
   "outputs": [
    {
     "data": {
      "text/plain": [
       "948"
      ]
     },
     "execution_count": 101,
     "metadata": {},
     "output_type": "execute_result"
    }
   ],
   "source": [
    "len(recipe_ingredients)"
   ]
  },
  {
   "cell_type": "code",
   "execution_count": 102,
   "id": "7c540de4",
   "metadata": {},
   "outputs": [
    {
     "data": {
      "text/html": [
       "<div>\n",
       "<style scoped>\n",
       "    .dataframe tbody tr th:only-of-type {\n",
       "        vertical-align: middle;\n",
       "    }\n",
       "\n",
       "    .dataframe tbody tr th {\n",
       "        vertical-align: top;\n",
       "    }\n",
       "\n",
       "    .dataframe thead th {\n",
       "        text-align: right;\n",
       "    }\n",
       "</style>\n",
       "<table border=\"1\" class=\"dataframe\">\n",
       "  <thead>\n",
       "    <tr style=\"text-align: right;\">\n",
       "      <th></th>\n",
       "      <th>id</th>\n",
       "      <th>title</th>\n",
       "      <th>image</th>\n",
       "      <th>imageType</th>\n",
       "    </tr>\n",
       "  </thead>\n",
       "  <tbody>\n",
       "    <tr>\n",
       "      <th>0</th>\n",
       "      <td>632003</td>\n",
       "      <td>African Bean Soup</td>\n",
       "      <td>https://img.spoonacular.com/recipes/632003-312...</td>\n",
       "      <td>jpg</td>\n",
       "    </tr>\n",
       "    <tr>\n",
       "      <th>1</th>\n",
       "      <td>653275</td>\n",
       "      <td>North African Chickpea Soup</td>\n",
       "      <td>https://img.spoonacular.com/recipes/653275-312...</td>\n",
       "      <td>jpg</td>\n",
       "    </tr>\n",
       "    <tr>\n",
       "      <th>2</th>\n",
       "      <td>716426</td>\n",
       "      <td>Cauliflower, Brown Rice, and Vegetable Fried Rice</td>\n",
       "      <td>https://img.spoonacular.com/recipes/716426-312...</td>\n",
       "      <td>jpg</td>\n",
       "    </tr>\n",
       "    <tr>\n",
       "      <th>3</th>\n",
       "      <td>642129</td>\n",
       "      <td>Easy To Make Spring Rolls</td>\n",
       "      <td>https://img.spoonacular.com/recipes/642129-312...</td>\n",
       "      <td>jpg</td>\n",
       "    </tr>\n",
       "    <tr>\n",
       "      <th>4</th>\n",
       "      <td>798400</td>\n",
       "      <td>Spicy Black-Eyed Pea Curry with Swiss Chard an...</td>\n",
       "      <td>https://img.spoonacular.com/recipes/798400-312...</td>\n",
       "      <td>jpg</td>\n",
       "    </tr>\n",
       "  </tbody>\n",
       "</table>\n",
       "</div>"
      ],
      "text/plain": [
       "       id                                              title  \\\n",
       "0  632003                                  African Bean Soup   \n",
       "1  653275                        North African Chickpea Soup   \n",
       "2  716426  Cauliflower, Brown Rice, and Vegetable Fried Rice   \n",
       "3  642129                          Easy To Make Spring Rolls   \n",
       "4  798400  Spicy Black-Eyed Pea Curry with Swiss Chard an...   \n",
       "\n",
       "                                               image imageType  \n",
       "0  https://img.spoonacular.com/recipes/632003-312...       jpg  \n",
       "1  https://img.spoonacular.com/recipes/653275-312...       jpg  \n",
       "2  https://img.spoonacular.com/recipes/716426-312...       jpg  \n",
       "3  https://img.spoonacular.com/recipes/642129-312...       jpg  \n",
       "4  https://img.spoonacular.com/recipes/798400-312...       jpg  "
      ]
     },
     "execution_count": 102,
     "metadata": {},
     "output_type": "execute_result"
    }
   ],
   "source": [
    "# need to form two dataframes and then merge them on id\n",
    "\n",
    "all_recipes = pd.DataFrame(all_cuisines)\n",
    "all_recipes.drop_duplicates(inplace = True)\n",
    "all_recipes.head()"
   ]
  },
  {
   "cell_type": "code",
   "execution_count": 103,
   "id": "fb365255",
   "metadata": {},
   "outputs": [
    {
     "data": {
      "text/plain": [
       "(948, 4)"
      ]
     },
     "execution_count": 103,
     "metadata": {},
     "output_type": "execute_result"
    }
   ],
   "source": [
    "all_recipes.shape"
   ]
  },
  {
   "cell_type": "code",
   "execution_count": 104,
   "id": "44dbb451",
   "metadata": {},
   "outputs": [
    {
     "data": {
      "text/html": [
       "<div>\n",
       "<style scoped>\n",
       "    .dataframe tbody tr th:only-of-type {\n",
       "        vertical-align: middle;\n",
       "    }\n",
       "\n",
       "    .dataframe tbody tr th {\n",
       "        vertical-align: top;\n",
       "    }\n",
       "\n",
       "    .dataframe thead th {\n",
       "        text-align: right;\n",
       "    }\n",
       "</style>\n",
       "<table border=\"1\" class=\"dataframe\">\n",
       "  <thead>\n",
       "    <tr style=\"text-align: right;\">\n",
       "      <th></th>\n",
       "      <th>id</th>\n",
       "      <th>vegetarian</th>\n",
       "      <th>vegan</th>\n",
       "      <th>ingredients</th>\n",
       "    </tr>\n",
       "  </thead>\n",
       "  <tbody>\n",
       "    <tr>\n",
       "      <th>0</th>\n",
       "      <td>632003</td>\n",
       "      <td>True</td>\n",
       "      <td>True</td>\n",
       "      <td>[blackeyed peas, carrot, green pepper, onion, ...</td>\n",
       "    </tr>\n",
       "    <tr>\n",
       "      <th>1</th>\n",
       "      <td>653275</td>\n",
       "      <td>True</td>\n",
       "      <td>True</td>\n",
       "      <td>[canola oil, garlic, onion, leek, canned chick...</td>\n",
       "    </tr>\n",
       "    <tr>\n",
       "      <th>2</th>\n",
       "      <td>716426</td>\n",
       "      <td>True</td>\n",
       "      <td>True</td>\n",
       "      <td>[grape seed oil, coconut oil, spring onions, g...</td>\n",
       "    </tr>\n",
       "    <tr>\n",
       "      <th>3</th>\n",
       "      <td>642129</td>\n",
       "      <td>False</td>\n",
       "      <td>False</td>\n",
       "      <td>[fresh basil, butter lettuce, chili pepper, fi...</td>\n",
       "    </tr>\n",
       "    <tr>\n",
       "      <th>4</th>\n",
       "      <td>798400</td>\n",
       "      <td>True</td>\n",
       "      <td>True</td>\n",
       "      <td>[blackeyed peas, curry powder, garam masala, e...</td>\n",
       "    </tr>\n",
       "  </tbody>\n",
       "</table>\n",
       "</div>"
      ],
      "text/plain": [
       "       id  vegetarian  vegan  \\\n",
       "0  632003        True   True   \n",
       "1  653275        True   True   \n",
       "2  716426        True   True   \n",
       "3  642129       False  False   \n",
       "4  798400        True   True   \n",
       "\n",
       "                                         ingredients  \n",
       "0  [blackeyed peas, carrot, green pepper, onion, ...  \n",
       "1  [canola oil, garlic, onion, leek, canned chick...  \n",
       "2  [grape seed oil, coconut oil, spring onions, g...  \n",
       "3  [fresh basil, butter lettuce, chili pepper, fi...  \n",
       "4  [blackeyed peas, curry powder, garam masala, e...  "
      ]
     },
     "execution_count": 104,
     "metadata": {},
     "output_type": "execute_result"
    }
   ],
   "source": [
    "id_ingredients = pd.DataFrame(recipe_ingredients)\n",
    "id_ingredients.head()"
   ]
  },
  {
   "cell_type": "code",
   "execution_count": 105,
   "id": "4fd7b9ec",
   "metadata": {},
   "outputs": [
    {
     "data": {
      "text/plain": [
       "(948, 4)"
      ]
     },
     "execution_count": 105,
     "metadata": {},
     "output_type": "execute_result"
    }
   ],
   "source": [
    "id_ingredients.shape"
   ]
  },
  {
   "cell_type": "code",
   "execution_count": 106,
   "id": "8258ad01",
   "metadata": {},
   "outputs": [
    {
     "data": {
      "text/html": [
       "<div>\n",
       "<style scoped>\n",
       "    .dataframe tbody tr th:only-of-type {\n",
       "        vertical-align: middle;\n",
       "    }\n",
       "\n",
       "    .dataframe tbody tr th {\n",
       "        vertical-align: top;\n",
       "    }\n",
       "\n",
       "    .dataframe thead th {\n",
       "        text-align: right;\n",
       "    }\n",
       "</style>\n",
       "<table border=\"1\" class=\"dataframe\">\n",
       "  <thead>\n",
       "    <tr style=\"text-align: right;\">\n",
       "      <th></th>\n",
       "      <th>id</th>\n",
       "      <th>title</th>\n",
       "      <th>image</th>\n",
       "      <th>imageType</th>\n",
       "      <th>vegetarian</th>\n",
       "      <th>vegan</th>\n",
       "      <th>ingredients</th>\n",
       "    </tr>\n",
       "  </thead>\n",
       "  <tbody>\n",
       "    <tr>\n",
       "      <th>0</th>\n",
       "      <td>632003</td>\n",
       "      <td>African Bean Soup</td>\n",
       "      <td>https://img.spoonacular.com/recipes/632003-312...</td>\n",
       "      <td>jpg</td>\n",
       "      <td>True</td>\n",
       "      <td>True</td>\n",
       "      <td>[blackeyed peas, carrot, green pepper, onion, ...</td>\n",
       "    </tr>\n",
       "    <tr>\n",
       "      <th>1</th>\n",
       "      <td>653275</td>\n",
       "      <td>North African Chickpea Soup</td>\n",
       "      <td>https://img.spoonacular.com/recipes/653275-312...</td>\n",
       "      <td>jpg</td>\n",
       "      <td>True</td>\n",
       "      <td>True</td>\n",
       "      <td>[canola oil, garlic, onion, leek, canned chick...</td>\n",
       "    </tr>\n",
       "    <tr>\n",
       "      <th>2</th>\n",
       "      <td>716426</td>\n",
       "      <td>Cauliflower, Brown Rice, and Vegetable Fried Rice</td>\n",
       "      <td>https://img.spoonacular.com/recipes/716426-312...</td>\n",
       "      <td>jpg</td>\n",
       "      <td>True</td>\n",
       "      <td>True</td>\n",
       "      <td>[grape seed oil, coconut oil, spring onions, g...</td>\n",
       "    </tr>\n",
       "    <tr>\n",
       "      <th>3</th>\n",
       "      <td>642129</td>\n",
       "      <td>Easy To Make Spring Rolls</td>\n",
       "      <td>https://img.spoonacular.com/recipes/642129-312...</td>\n",
       "      <td>jpg</td>\n",
       "      <td>False</td>\n",
       "      <td>False</td>\n",
       "      <td>[fresh basil, butter lettuce, chili pepper, fi...</td>\n",
       "    </tr>\n",
       "    <tr>\n",
       "      <th>4</th>\n",
       "      <td>798400</td>\n",
       "      <td>Spicy Black-Eyed Pea Curry with Swiss Chard an...</td>\n",
       "      <td>https://img.spoonacular.com/recipes/798400-312...</td>\n",
       "      <td>jpg</td>\n",
       "      <td>True</td>\n",
       "      <td>True</td>\n",
       "      <td>[blackeyed peas, curry powder, garam masala, e...</td>\n",
       "    </tr>\n",
       "  </tbody>\n",
       "</table>\n",
       "</div>"
      ],
      "text/plain": [
       "       id                                              title  \\\n",
       "0  632003                                  African Bean Soup   \n",
       "1  653275                        North African Chickpea Soup   \n",
       "2  716426  Cauliflower, Brown Rice, and Vegetable Fried Rice   \n",
       "3  642129                          Easy To Make Spring Rolls   \n",
       "4  798400  Spicy Black-Eyed Pea Curry with Swiss Chard an...   \n",
       "\n",
       "                                               image imageType  vegetarian  \\\n",
       "0  https://img.spoonacular.com/recipes/632003-312...       jpg        True   \n",
       "1  https://img.spoonacular.com/recipes/653275-312...       jpg        True   \n",
       "2  https://img.spoonacular.com/recipes/716426-312...       jpg        True   \n",
       "3  https://img.spoonacular.com/recipes/642129-312...       jpg       False   \n",
       "4  https://img.spoonacular.com/recipes/798400-312...       jpg        True   \n",
       "\n",
       "   vegan                                        ingredients  \n",
       "0   True  [blackeyed peas, carrot, green pepper, onion, ...  \n",
       "1   True  [canola oil, garlic, onion, leek, canned chick...  \n",
       "2   True  [grape seed oil, coconut oil, spring onions, g...  \n",
       "3  False  [fresh basil, butter lettuce, chili pepper, fi...  \n",
       "4   True  [blackeyed peas, curry powder, garam masala, e...  "
      ]
     },
     "execution_count": 106,
     "metadata": {},
     "output_type": "execute_result"
    }
   ],
   "source": [
    "merged_df = all_recipes.merge(id_ingredients, left_on=\"id\", right_on=\"id\")\n",
    "merged_df.head()"
   ]
  },
  {
   "cell_type": "code",
   "execution_count": 107,
   "id": "9b749e72",
   "metadata": {},
   "outputs": [],
   "source": [
    "# convert list of ingrd to string\n",
    "merged_df[\"ingredients\"] = merged_df[\"ingredients\"].apply(lambda x: \",\".join(x))"
   ]
  },
  {
   "cell_type": "code",
   "execution_count": 108,
   "id": "24da3078",
   "metadata": {},
   "outputs": [
    {
     "data": {
      "text/html": [
       "<div>\n",
       "<style scoped>\n",
       "    .dataframe tbody tr th:only-of-type {\n",
       "        vertical-align: middle;\n",
       "    }\n",
       "\n",
       "    .dataframe tbody tr th {\n",
       "        vertical-align: top;\n",
       "    }\n",
       "\n",
       "    .dataframe thead th {\n",
       "        text-align: right;\n",
       "    }\n",
       "</style>\n",
       "<table border=\"1\" class=\"dataframe\">\n",
       "  <thead>\n",
       "    <tr style=\"text-align: right;\">\n",
       "      <th></th>\n",
       "      <th>id</th>\n",
       "      <th>title</th>\n",
       "      <th>image</th>\n",
       "      <th>imageType</th>\n",
       "      <th>vegetarian</th>\n",
       "      <th>vegan</th>\n",
       "      <th>ingredients</th>\n",
       "      <th>train_string</th>\n",
       "    </tr>\n",
       "  </thead>\n",
       "  <tbody>\n",
       "    <tr>\n",
       "      <th>0</th>\n",
       "      <td>632003</td>\n",
       "      <td>African Bean Soup</td>\n",
       "      <td>https://img.spoonacular.com/recipes/632003-312...</td>\n",
       "      <td>jpg</td>\n",
       "      <td>True</td>\n",
       "      <td>True</td>\n",
       "      <td>blackeyed peas,carrot,green pepper,onion,peanu...</td>\n",
       "      <td>African Bean Soup : blackeyed peas,carrot,gree...</td>\n",
       "    </tr>\n",
       "    <tr>\n",
       "      <th>1</th>\n",
       "      <td>653275</td>\n",
       "      <td>North African Chickpea Soup</td>\n",
       "      <td>https://img.spoonacular.com/recipes/653275-312...</td>\n",
       "      <td>jpg</td>\n",
       "      <td>True</td>\n",
       "      <td>True</td>\n",
       "      <td>canola oil,garlic,onion,leek,canned chickpeas,...</td>\n",
       "      <td>North African Chickpea Soup : canola oil,garli...</td>\n",
       "    </tr>\n",
       "    <tr>\n",
       "      <th>2</th>\n",
       "      <td>716426</td>\n",
       "      <td>Cauliflower, Brown Rice, and Vegetable Fried Rice</td>\n",
       "      <td>https://img.spoonacular.com/recipes/716426-312...</td>\n",
       "      <td>jpg</td>\n",
       "      <td>True</td>\n",
       "      <td>True</td>\n",
       "      <td>grape seed oil,coconut oil,spring onions,garli...</td>\n",
       "      <td>Cauliflower, Brown Rice, and Vegetable Fried R...</td>\n",
       "    </tr>\n",
       "    <tr>\n",
       "      <th>3</th>\n",
       "      <td>642129</td>\n",
       "      <td>Easy To Make Spring Rolls</td>\n",
       "      <td>https://img.spoonacular.com/recipes/642129-312...</td>\n",
       "      <td>jpg</td>\n",
       "      <td>False</td>\n",
       "      <td>False</td>\n",
       "      <td>fresh basil,butter lettuce,chili pepper,fish s...</td>\n",
       "      <td>Easy To Make Spring Rolls : fresh basil,butter...</td>\n",
       "    </tr>\n",
       "    <tr>\n",
       "      <th>4</th>\n",
       "      <td>798400</td>\n",
       "      <td>Spicy Black-Eyed Pea Curry with Swiss Chard an...</td>\n",
       "      <td>https://img.spoonacular.com/recipes/798400-312...</td>\n",
       "      <td>jpg</td>\n",
       "      <td>True</td>\n",
       "      <td>True</td>\n",
       "      <td>blackeyed peas,curry powder,garam masala,eggpl...</td>\n",
       "      <td>Spicy Black-Eyed Pea Curry with Swiss Chard an...</td>\n",
       "    </tr>\n",
       "  </tbody>\n",
       "</table>\n",
       "</div>"
      ],
      "text/plain": [
       "       id                                              title  \\\n",
       "0  632003                                  African Bean Soup   \n",
       "1  653275                        North African Chickpea Soup   \n",
       "2  716426  Cauliflower, Brown Rice, and Vegetable Fried Rice   \n",
       "3  642129                          Easy To Make Spring Rolls   \n",
       "4  798400  Spicy Black-Eyed Pea Curry with Swiss Chard an...   \n",
       "\n",
       "                                               image imageType  vegetarian  \\\n",
       "0  https://img.spoonacular.com/recipes/632003-312...       jpg        True   \n",
       "1  https://img.spoonacular.com/recipes/653275-312...       jpg        True   \n",
       "2  https://img.spoonacular.com/recipes/716426-312...       jpg        True   \n",
       "3  https://img.spoonacular.com/recipes/642129-312...       jpg       False   \n",
       "4  https://img.spoonacular.com/recipes/798400-312...       jpg        True   \n",
       "\n",
       "   vegan                                        ingredients  \\\n",
       "0   True  blackeyed peas,carrot,green pepper,onion,peanu...   \n",
       "1   True  canola oil,garlic,onion,leek,canned chickpeas,...   \n",
       "2   True  grape seed oil,coconut oil,spring onions,garli...   \n",
       "3  False  fresh basil,butter lettuce,chili pepper,fish s...   \n",
       "4   True  blackeyed peas,curry powder,garam masala,eggpl...   \n",
       "\n",
       "                                        train_string  \n",
       "0  African Bean Soup : blackeyed peas,carrot,gree...  \n",
       "1  North African Chickpea Soup : canola oil,garli...  \n",
       "2  Cauliflower, Brown Rice, and Vegetable Fried R...  \n",
       "3  Easy To Make Spring Rolls : fresh basil,butter...  \n",
       "4  Spicy Black-Eyed Pea Curry with Swiss Chard an...  "
      ]
     },
     "execution_count": 108,
     "metadata": {},
     "output_type": "execute_result"
    }
   ],
   "source": [
    "merged_df[\"train_string\"] = merged_df[\"title\"] + \" : \" + merged_df[\"ingredients\"]\n",
    "merged_df.head()"
   ]
  },
  {
   "cell_type": "code",
   "execution_count": 109,
   "id": "eceabd81",
   "metadata": {},
   "outputs": [
    {
     "data": {
      "text/html": [
       "<div>\n",
       "<style scoped>\n",
       "    .dataframe tbody tr th:only-of-type {\n",
       "        vertical-align: middle;\n",
       "    }\n",
       "\n",
       "    .dataframe tbody tr th {\n",
       "        vertical-align: top;\n",
       "    }\n",
       "\n",
       "    .dataframe thead th {\n",
       "        text-align: right;\n",
       "    }\n",
       "</style>\n",
       "<table border=\"1\" class=\"dataframe\">\n",
       "  <thead>\n",
       "    <tr style=\"text-align: right;\">\n",
       "      <th></th>\n",
       "      <th>id</th>\n",
       "      <th>title</th>\n",
       "      <th>image</th>\n",
       "      <th>imageType</th>\n",
       "      <th>vegetarian</th>\n",
       "      <th>vegan</th>\n",
       "      <th>ingredients</th>\n",
       "      <th>train_string</th>\n",
       "    </tr>\n",
       "  </thead>\n",
       "  <tbody>\n",
       "    <tr>\n",
       "      <th>0</th>\n",
       "      <td>632003</td>\n",
       "      <td>African Bean Soup</td>\n",
       "      <td>https://img.spoonacular.com/recipes/632003-312...</td>\n",
       "      <td>jpg</td>\n",
       "      <td>True</td>\n",
       "      <td>True</td>\n",
       "      <td>blackeyed peas,carrot,green pepper,onion,peanu...</td>\n",
       "      <td>African Bean Soup : blackeyed peas,carrot,gree...</td>\n",
       "    </tr>\n",
       "    <tr>\n",
       "      <th>1</th>\n",
       "      <td>653275</td>\n",
       "      <td>North African Chickpea Soup</td>\n",
       "      <td>https://img.spoonacular.com/recipes/653275-312...</td>\n",
       "      <td>jpg</td>\n",
       "      <td>True</td>\n",
       "      <td>True</td>\n",
       "      <td>canola oil,garlic,onion,leek,canned chickpeas,...</td>\n",
       "      <td>North African Chickpea Soup : canola oil,garli...</td>\n",
       "    </tr>\n",
       "    <tr>\n",
       "      <th>2</th>\n",
       "      <td>716426</td>\n",
       "      <td>Cauliflower, Brown Rice, and Vegetable Fried Rice</td>\n",
       "      <td>https://img.spoonacular.com/recipes/716426-312...</td>\n",
       "      <td>jpg</td>\n",
       "      <td>True</td>\n",
       "      <td>True</td>\n",
       "      <td>grape seed oil,coconut oil,spring onions,garli...</td>\n",
       "      <td>Cauliflower, Brown Rice, and Vegetable Fried R...</td>\n",
       "    </tr>\n",
       "    <tr>\n",
       "      <th>3</th>\n",
       "      <td>642129</td>\n",
       "      <td>Easy To Make Spring Rolls</td>\n",
       "      <td>https://img.spoonacular.com/recipes/642129-312...</td>\n",
       "      <td>jpg</td>\n",
       "      <td>False</td>\n",
       "      <td>False</td>\n",
       "      <td>fresh basil,butter lettuce,chili pepper,fish s...</td>\n",
       "      <td>Easy To Make Spring Rolls : fresh basil,butter...</td>\n",
       "    </tr>\n",
       "    <tr>\n",
       "      <th>4</th>\n",
       "      <td>798400</td>\n",
       "      <td>Spicy Black-Eyed Pea Curry with Swiss Chard an...</td>\n",
       "      <td>https://img.spoonacular.com/recipes/798400-312...</td>\n",
       "      <td>jpg</td>\n",
       "      <td>True</td>\n",
       "      <td>True</td>\n",
       "      <td>blackeyed peas,curry powder,garam masala,eggpl...</td>\n",
       "      <td>Spicy Black-Eyed Pea Curry with Swiss Chard an...</td>\n",
       "    </tr>\n",
       "  </tbody>\n",
       "</table>\n",
       "</div>"
      ],
      "text/plain": [
       "       id                                              title  \\\n",
       "0  632003                                  African Bean Soup   \n",
       "1  653275                        North African Chickpea Soup   \n",
       "2  716426  Cauliflower, Brown Rice, and Vegetable Fried Rice   \n",
       "3  642129                          Easy To Make Spring Rolls   \n",
       "4  798400  Spicy Black-Eyed Pea Curry with Swiss Chard an...   \n",
       "\n",
       "                                               image imageType  vegetarian  \\\n",
       "0  https://img.spoonacular.com/recipes/632003-312...       jpg        True   \n",
       "1  https://img.spoonacular.com/recipes/653275-312...       jpg        True   \n",
       "2  https://img.spoonacular.com/recipes/716426-312...       jpg        True   \n",
       "3  https://img.spoonacular.com/recipes/642129-312...       jpg       False   \n",
       "4  https://img.spoonacular.com/recipes/798400-312...       jpg        True   \n",
       "\n",
       "   vegan                                        ingredients  \\\n",
       "0   True  blackeyed peas,carrot,green pepper,onion,peanu...   \n",
       "1   True  canola oil,garlic,onion,leek,canned chickpeas,...   \n",
       "2   True  grape seed oil,coconut oil,spring onions,garli...   \n",
       "3  False  fresh basil,butter lettuce,chili pepper,fish s...   \n",
       "4   True  blackeyed peas,curry powder,garam masala,eggpl...   \n",
       "\n",
       "                                        train_string  \n",
       "0  African Bean Soup : blackeyed peas,carrot,gree...  \n",
       "1  North African Chickpea Soup : canola oil,garli...  \n",
       "2  Cauliflower, Brown Rice, and Vegetable Fried R...  \n",
       "3  Easy To Make Spring Rolls : fresh basil,butter...  \n",
       "4  Spicy Black-Eyed Pea Curry with Swiss Chard an...  "
      ]
     },
     "execution_count": 109,
     "metadata": {},
     "output_type": "execute_result"
    }
   ],
   "source": [
    "merged_df.head()\n"
   ]
  },
  {
   "cell_type": "code",
   "execution_count": 110,
   "id": "3bfcf114",
   "metadata": {},
   "outputs": [],
   "source": [
    "filename = \"spoonacular_train_data.csv\"\n",
    "merged_df.to_csv(filename, index = False)"
   ]
  },
  {
   "cell_type": "code",
   "execution_count": null,
   "id": "f341a97c",
   "metadata": {},
   "outputs": [],
   "source": []
  }
 ],
 "metadata": {
  "kernelspec": {
   "display_name": "Python 3 (ipykernel)",
   "language": "python",
   "name": "python3"
  },
  "language_info": {
   "codemirror_mode": {
    "name": "ipython",
    "version": 3
   },
   "file_extension": ".py",
   "mimetype": "text/x-python",
   "name": "python",
   "nbconvert_exporter": "python",
   "pygments_lexer": "ipython3",
   "version": "3.12.7"
  }
 },
 "nbformat": 4,
 "nbformat_minor": 5
}
