{
 "cells": [
  {
   "cell_type": "code",
   "execution_count": 2,
   "id": "2343df71",
   "metadata": {},
   "outputs": [],
   "source": [
    "import pandas as pd\n",
    "from transformers import pipeline"
   ]
  },
  {
   "cell_type": "markdown",
   "id": "e36ad3eb",
   "metadata": {},
   "source": [
    "### Test Facebook Bart\n",
    "\n",
    "\n",
    "run for\n",
    "\n",
    "- facebook bart\n",
    "- mDeBERTa multi-lingual\n",
    "- DeBERTa-v3-base-mnli-fever-anli\n",
    "- deberta-v3-base-zeroshot-v1.1-all-33\n",
    "- nli-deberta-v3-base (did not work for some dependency reasons)\n",
    "- mDeBERTa-v3-base-mnli-xnli\n",
    "\n",
    "change variables accordingly"
   ]
  },
  {
   "cell_type": "code",
   "execution_count": 18,
   "id": "68aa1690",
   "metadata": {},
   "outputs": [
    {
     "name": "stderr",
     "output_type": "stream",
     "text": [
      "Hardware accelerator e.g. GPU is available in the environment, but no `device` argument is passed to the `Pipeline` object. Model will be on CPU.\n"
     ]
    }
   ],
   "source": [
    "classifier = pipeline(\"zero-shot-classification\", model=\"MoritzLaurer/mDeBERTa-v3-base-mnli-xnli\")"
   ]
  },
  {
   "cell_type": "code",
   "execution_count": 19,
   "id": "3acb29d4",
   "metadata": {},
   "outputs": [
    {
     "data": {
      "text/html": [
       "<div>\n",
       "<style scoped>\n",
       "    .dataframe tbody tr th:only-of-type {\n",
       "        vertical-align: middle;\n",
       "    }\n",
       "\n",
       "    .dataframe tbody tr th {\n",
       "        vertical-align: top;\n",
       "    }\n",
       "\n",
       "    .dataframe thead th {\n",
       "        text-align: right;\n",
       "    }\n",
       "</style>\n",
       "<table border=\"1\" class=\"dataframe\">\n",
       "  <thead>\n",
       "    <tr style=\"text-align: right;\">\n",
       "      <th></th>\n",
       "      <th>Title</th>\n",
       "      <th>Description</th>\n",
       "      <th>Manual</th>\n",
       "      <th>Price</th>\n",
       "      <th>test_str</th>\n",
       "      <th>bart_classification</th>\n",
       "      <th>mDeBERTa_classification</th>\n",
       "      <th>DeBERTa-v3-base-mnli-fever-anli</th>\n",
       "      <th>deberta-v3-base-zeroshot-v1.1-all-33</th>\n",
       "    </tr>\n",
       "  </thead>\n",
       "  <tbody>\n",
       "    <tr>\n",
       "      <th>0</th>\n",
       "      <td>LASUNI GOBI</td>\n",
       "      <td>Florets Of Cauliflower Marinated In Lemon And ...</td>\n",
       "      <td>Vegetarian</td>\n",
       "      <td>18</td>\n",
       "      <td>LASUNI GOBI : Florets Of Cauliflower Marinated...</td>\n",
       "      <td>not vegetarian</td>\n",
       "      <td>not vegetarian</td>\n",
       "      <td>vegetarian</td>\n",
       "      <td>vegetarian</td>\n",
       "    </tr>\n",
       "    <tr>\n",
       "      <th>1</th>\n",
       "      <td>VEGETABLE SAMOSA</td>\n",
       "      <td>Crispy Turnovers Stuffed With Seasoned Potatoe...</td>\n",
       "      <td>Vegetarian</td>\n",
       "      <td>18</td>\n",
       "      <td>VEGETABLE SAMOSA : Crispy Turnovers Stuffed Wi...</td>\n",
       "      <td>vegetarian</td>\n",
       "      <td>vegetarian</td>\n",
       "      <td>vegetarian</td>\n",
       "      <td>vegetarian</td>\n",
       "    </tr>\n",
       "    <tr>\n",
       "      <th>2</th>\n",
       "      <td>ALOO TIKKIYA</td>\n",
       "      <td>Grilled Spicy Potato Cakes Topped With Pomegra...</td>\n",
       "      <td>Vegetarian</td>\n",
       "      <td>18</td>\n",
       "      <td>ALOO TIKKIYA : Grilled Spicy Potato Cakes Topp...</td>\n",
       "      <td>not vegetarian</td>\n",
       "      <td>not vegetarian</td>\n",
       "      <td>not vegetarian</td>\n",
       "      <td>vegetarian</td>\n",
       "    </tr>\n",
       "    <tr>\n",
       "      <th>3</th>\n",
       "      <td>AMRITSARI SEEKH</td>\n",
       "      <td>Marinated Paneer, Grilled Peppers, Tomato Sauce</td>\n",
       "      <td>Vegetarian</td>\n",
       "      <td>22</td>\n",
       "      <td>AMRITSARI SEEKH : Marinated Paneer, Grilled Pe...</td>\n",
       "      <td>not vegetarian</td>\n",
       "      <td>not vegetarian</td>\n",
       "      <td>vegetarian</td>\n",
       "      <td>vegetarian</td>\n",
       "    </tr>\n",
       "    <tr>\n",
       "      <th>4</th>\n",
       "      <td>HARA BHARA KABAB</td>\n",
       "      <td>Grilled Spinach Patties Stuffed With Paneer, G...</td>\n",
       "      <td>Vegetarian</td>\n",
       "      <td>18</td>\n",
       "      <td>HARA BHARA KABAB : Grilled Spinach Patties Stu...</td>\n",
       "      <td>not vegetarian</td>\n",
       "      <td>not vegetarian</td>\n",
       "      <td>vegetarian</td>\n",
       "      <td>vegetarian</td>\n",
       "    </tr>\n",
       "  </tbody>\n",
       "</table>\n",
       "</div>"
      ],
      "text/plain": [
       "              Title                                        Description  \\\n",
       "0       LASUNI GOBI  Florets Of Cauliflower Marinated In Lemon And ...   \n",
       "1  VEGETABLE SAMOSA  Crispy Turnovers Stuffed With Seasoned Potatoe...   \n",
       "2      ALOO TIKKIYA  Grilled Spicy Potato Cakes Topped With Pomegra...   \n",
       "3   AMRITSARI SEEKH    Marinated Paneer, Grilled Peppers, Tomato Sauce   \n",
       "4  HARA BHARA KABAB  Grilled Spinach Patties Stuffed With Paneer, G...   \n",
       "\n",
       "       Manual Price                                           test_str  \\\n",
       "0  Vegetarian    18  LASUNI GOBI : Florets Of Cauliflower Marinated...   \n",
       "1  Vegetarian    18  VEGETABLE SAMOSA : Crispy Turnovers Stuffed Wi...   \n",
       "2  Vegetarian    18  ALOO TIKKIYA : Grilled Spicy Potato Cakes Topp...   \n",
       "3  Vegetarian    22  AMRITSARI SEEKH : Marinated Paneer, Grilled Pe...   \n",
       "4  Vegetarian    18  HARA BHARA KABAB : Grilled Spinach Patties Stu...   \n",
       "\n",
       "  bart_classification mDeBERTa_classification DeBERTa-v3-base-mnli-fever-anli  \\\n",
       "0      not vegetarian          not vegetarian                      vegetarian   \n",
       "1          vegetarian              vegetarian                      vegetarian   \n",
       "2      not vegetarian          not vegetarian                  not vegetarian   \n",
       "3      not vegetarian          not vegetarian                      vegetarian   \n",
       "4      not vegetarian          not vegetarian                      vegetarian   \n",
       "\n",
       "  deberta-v3-base-zeroshot-v1.1-all-33  \n",
       "0                           vegetarian  \n",
       "1                           vegetarian  \n",
       "2                           vegetarian  \n",
       "3                           vegetarian  \n",
       "4                           vegetarian  "
      ]
     },
     "execution_count": 19,
     "metadata": {},
     "output_type": "execute_result"
    }
   ],
   "source": [
    "# read in the csv\n",
    "df = pd.read_csv(\"4_classifiers.csv\")\n",
    "df.head()"
   ]
  },
  {
   "cell_type": "code",
   "execution_count": 20,
   "id": "3980a2ff",
   "metadata": {},
   "outputs": [
    {
     "data": {
      "text/plain": [
       "['LASUNI GOBI : Florets Of Cauliflower Marinated In Lemon And Ginger Juice Finished In A Tangy Tomato And Garlic Sauce',\n",
       " 'VEGETABLE SAMOSA : Crispy Turnovers Stuffed With Seasoned Potatoes, Green Peas',\n",
       " 'ALOO TIKKIYA : Grilled Spicy Potato Cakes Topped With Pomegranate, Mint Chutney',\n",
       " 'AMRITSARI SEEKH : Marinated Paneer, Grilled Peppers, Tomato Sauce',\n",
       " 'HARA BHARA KABAB : Grilled Spinach Patties Stuffed With Paneer, Garam Masala, Red Chili',\n",
       " 'PALAK CHAAT : Mixture Of Crispy Spinach, Seasoned Tomatoes, Red Onions, Sev, Yogurt, Mint & Tamarind Chutney',\n",
       " 'DAHI ALOO PAPDI : A Mixture Of Wheat Crisps, Potatoes, Chickpeas, Yogurt, Tamarind Chutney',\n",
       " 'BHEL POORI : Assorted Crisps And Sev, Sweet And Sour Chutneys',\n",
       " 'BAGHARE JHINGA : Jumbo Shrimp Pan Seared With Curry Leaves And Mustard Seeds Finished In A Creamy Tomato Sauce',\n",
       " 'TAMARIND SCALLOPS : Pan-Seared Scallops With Garam Masala, Lemon Juice Topped With Poppyseeds']"
      ]
     },
     "execution_count": 20,
     "metadata": {},
     "output_type": "execute_result"
    }
   ],
   "source": [
    "#convert test strings column to a list\n",
    "texts = df[\"test_str\"].to_list()\n",
    "texts[:10]"
   ]
  },
  {
   "cell_type": "code",
   "execution_count": 21,
   "id": "347001c3",
   "metadata": {},
   "outputs": [],
   "source": [
    "subset = texts[:10]"
   ]
  },
  {
   "cell_type": "code",
   "execution_count": 22,
   "id": "0d978755",
   "metadata": {},
   "outputs": [
    {
     "name": "stdout",
     "output_type": "stream",
     "text": [
      "[{'sequence': 'LASUNI GOBI : Florets Of Cauliflower Marinated In Lemon And Ginger Juice Finished In A Tangy Tomato And Garlic Sauce', 'labels': ['not vegetarian', 'vegetarian'], 'scores': [0.6426402926445007, 0.3573596775531769]}, {'sequence': 'VEGETABLE SAMOSA : Crispy Turnovers Stuffed With Seasoned Potatoes, Green Peas', 'labels': ['vegetarian', 'not vegetarian'], 'scores': [0.9936461448669434, 0.006353863514959812]}, {'sequence': 'ALOO TIKKIYA : Grilled Spicy Potato Cakes Topped With Pomegranate, Mint Chutney', 'labels': ['not vegetarian', 'vegetarian'], 'scores': [0.701030433177948, 0.298969566822052]}, {'sequence': 'AMRITSARI SEEKH : Marinated Paneer, Grilled Peppers, Tomato Sauce', 'labels': ['not vegetarian', 'vegetarian'], 'scores': [0.8985689282417297, 0.10143104940652847]}, {'sequence': 'HARA BHARA KABAB : Grilled Spinach Patties Stuffed With Paneer, Garam Masala, Red Chili', 'labels': ['not vegetarian', 'vegetarian'], 'scores': [0.800331711769104, 0.1996682733297348]}]\n"
     ]
    }
   ],
   "source": [
    "#run through classifier\n",
    "results = classifier(texts, ['vegetarian', 'not vegetarian'])\n",
    "print(results[:5])  # Print the first 5 results for brevity"
   ]
  },
  {
   "cell_type": "code",
   "execution_count": 23,
   "id": "9cd31254",
   "metadata": {},
   "outputs": [
    {
     "data": {
      "text/plain": [
       "301"
      ]
     },
     "execution_count": 23,
     "metadata": {},
     "output_type": "execute_result"
    }
   ],
   "source": [
    "len(results)"
   ]
  },
  {
   "cell_type": "code",
   "execution_count": 24,
   "id": "1a6f8ac7",
   "metadata": {},
   "outputs": [],
   "source": [
    "#get the top score from classification\n",
    "labels = [result[\"labels\"][0] for result in results] # should be a list"
   ]
  },
  {
   "cell_type": "code",
   "execution_count": 25,
   "id": "a1677caf",
   "metadata": {},
   "outputs": [
    {
     "data": {
      "text/html": [
       "<div>\n",
       "<style scoped>\n",
       "    .dataframe tbody tr th:only-of-type {\n",
       "        vertical-align: middle;\n",
       "    }\n",
       "\n",
       "    .dataframe tbody tr th {\n",
       "        vertical-align: top;\n",
       "    }\n",
       "\n",
       "    .dataframe thead th {\n",
       "        text-align: right;\n",
       "    }\n",
       "</style>\n",
       "<table border=\"1\" class=\"dataframe\">\n",
       "  <thead>\n",
       "    <tr style=\"text-align: right;\">\n",
       "      <th></th>\n",
       "      <th>Title</th>\n",
       "      <th>Description</th>\n",
       "      <th>Manual</th>\n",
       "      <th>Price</th>\n",
       "      <th>test_str</th>\n",
       "      <th>bart_classification</th>\n",
       "      <th>mDeBERTa_classification</th>\n",
       "      <th>DeBERTa-v3-base-mnli-fever-anli</th>\n",
       "      <th>deberta-v3-base-zeroshot-v1.1-all-33</th>\n",
       "      <th>mDeBERTa-v3-base-mnli-xnli</th>\n",
       "    </tr>\n",
       "  </thead>\n",
       "  <tbody>\n",
       "    <tr>\n",
       "      <th>0</th>\n",
       "      <td>LASUNI GOBI</td>\n",
       "      <td>Florets Of Cauliflower Marinated In Lemon And ...</td>\n",
       "      <td>Vegetarian</td>\n",
       "      <td>18</td>\n",
       "      <td>LASUNI GOBI : Florets Of Cauliflower Marinated...</td>\n",
       "      <td>not vegetarian</td>\n",
       "      <td>not vegetarian</td>\n",
       "      <td>vegetarian</td>\n",
       "      <td>vegetarian</td>\n",
       "      <td>not vegetarian</td>\n",
       "    </tr>\n",
       "    <tr>\n",
       "      <th>1</th>\n",
       "      <td>VEGETABLE SAMOSA</td>\n",
       "      <td>Crispy Turnovers Stuffed With Seasoned Potatoe...</td>\n",
       "      <td>Vegetarian</td>\n",
       "      <td>18</td>\n",
       "      <td>VEGETABLE SAMOSA : Crispy Turnovers Stuffed Wi...</td>\n",
       "      <td>vegetarian</td>\n",
       "      <td>vegetarian</td>\n",
       "      <td>vegetarian</td>\n",
       "      <td>vegetarian</td>\n",
       "      <td>vegetarian</td>\n",
       "    </tr>\n",
       "    <tr>\n",
       "      <th>2</th>\n",
       "      <td>ALOO TIKKIYA</td>\n",
       "      <td>Grilled Spicy Potato Cakes Topped With Pomegra...</td>\n",
       "      <td>Vegetarian</td>\n",
       "      <td>18</td>\n",
       "      <td>ALOO TIKKIYA : Grilled Spicy Potato Cakes Topp...</td>\n",
       "      <td>not vegetarian</td>\n",
       "      <td>not vegetarian</td>\n",
       "      <td>not vegetarian</td>\n",
       "      <td>vegetarian</td>\n",
       "      <td>not vegetarian</td>\n",
       "    </tr>\n",
       "    <tr>\n",
       "      <th>3</th>\n",
       "      <td>AMRITSARI SEEKH</td>\n",
       "      <td>Marinated Paneer, Grilled Peppers, Tomato Sauce</td>\n",
       "      <td>Vegetarian</td>\n",
       "      <td>22</td>\n",
       "      <td>AMRITSARI SEEKH : Marinated Paneer, Grilled Pe...</td>\n",
       "      <td>not vegetarian</td>\n",
       "      <td>not vegetarian</td>\n",
       "      <td>vegetarian</td>\n",
       "      <td>vegetarian</td>\n",
       "      <td>not vegetarian</td>\n",
       "    </tr>\n",
       "    <tr>\n",
       "      <th>4</th>\n",
       "      <td>HARA BHARA KABAB</td>\n",
       "      <td>Grilled Spinach Patties Stuffed With Paneer, G...</td>\n",
       "      <td>Vegetarian</td>\n",
       "      <td>18</td>\n",
       "      <td>HARA BHARA KABAB : Grilled Spinach Patties Stu...</td>\n",
       "      <td>not vegetarian</td>\n",
       "      <td>not vegetarian</td>\n",
       "      <td>vegetarian</td>\n",
       "      <td>vegetarian</td>\n",
       "      <td>not vegetarian</td>\n",
       "    </tr>\n",
       "  </tbody>\n",
       "</table>\n",
       "</div>"
      ],
      "text/plain": [
       "              Title                                        Description  \\\n",
       "0       LASUNI GOBI  Florets Of Cauliflower Marinated In Lemon And ...   \n",
       "1  VEGETABLE SAMOSA  Crispy Turnovers Stuffed With Seasoned Potatoe...   \n",
       "2      ALOO TIKKIYA  Grilled Spicy Potato Cakes Topped With Pomegra...   \n",
       "3   AMRITSARI SEEKH    Marinated Paneer, Grilled Peppers, Tomato Sauce   \n",
       "4  HARA BHARA KABAB  Grilled Spinach Patties Stuffed With Paneer, G...   \n",
       "\n",
       "       Manual Price                                           test_str  \\\n",
       "0  Vegetarian    18  LASUNI GOBI : Florets Of Cauliflower Marinated...   \n",
       "1  Vegetarian    18  VEGETABLE SAMOSA : Crispy Turnovers Stuffed Wi...   \n",
       "2  Vegetarian    18  ALOO TIKKIYA : Grilled Spicy Potato Cakes Topp...   \n",
       "3  Vegetarian    22  AMRITSARI SEEKH : Marinated Paneer, Grilled Pe...   \n",
       "4  Vegetarian    18  HARA BHARA KABAB : Grilled Spinach Patties Stu...   \n",
       "\n",
       "  bart_classification mDeBERTa_classification DeBERTa-v3-base-mnli-fever-anli  \\\n",
       "0      not vegetarian          not vegetarian                      vegetarian   \n",
       "1          vegetarian              vegetarian                      vegetarian   \n",
       "2      not vegetarian          not vegetarian                  not vegetarian   \n",
       "3      not vegetarian          not vegetarian                      vegetarian   \n",
       "4      not vegetarian          not vegetarian                      vegetarian   \n",
       "\n",
       "  deberta-v3-base-zeroshot-v1.1-all-33 mDeBERTa-v3-base-mnli-xnli  \n",
       "0                           vegetarian             not vegetarian  \n",
       "1                           vegetarian                 vegetarian  \n",
       "2                           vegetarian             not vegetarian  \n",
       "3                           vegetarian             not vegetarian  \n",
       "4                           vegetarian             not vegetarian  "
      ]
     },
     "execution_count": 25,
     "metadata": {},
     "output_type": "execute_result"
    }
   ],
   "source": [
    "#save it in new column\n",
    "df[\"mDeBERTa-v3-base-mnli-xnli\"] = labels\n",
    "df.head()"
   ]
  },
  {
   "cell_type": "code",
   "execution_count": 26,
   "id": "49e7b077",
   "metadata": {},
   "outputs": [],
   "source": [
    "filename = \"5_classifiers.csv\"\n",
    "df.to_csv(filename, index=False)"
   ]
  },
  {
   "cell_type": "markdown",
   "id": "a8ad990f",
   "metadata": {},
   "source": [
    "### Test mDeBERTa"
   ]
  },
  {
   "cell_type": "code",
   "execution_count": null,
   "id": "159c65a2",
   "metadata": {},
   "outputs": [],
   "source": [
    "classifier_2 = pipeline(\"zero-shot-classification\", model=\"MoritzLaurer/mDeBERTa-v3-base-mnli-xnli\")"
   ]
  },
  {
   "cell_type": "code",
   "execution_count": null,
   "id": "bc096f93",
   "metadata": {},
   "outputs": [],
   "source": [
    "# read in the csv\n",
    "df_mDeberta = pd.read_csv(\"bart_classification.csv\")\n",
    "df_mDeberta.head()"
   ]
  },
  {
   "cell_type": "code",
   "execution_count": null,
   "id": "d062bb13",
   "metadata": {},
   "outputs": [],
   "source": [
    "#convert test strings column to a list\n",
    "texts_mDeberta = df_mDeberta[\"test_str\"].to_list()\n",
    "texts_mDeberta[:10]"
   ]
  },
  {
   "cell_type": "code",
   "execution_count": null,
   "id": "c8c01073",
   "metadata": {},
   "outputs": [],
   "source": [
    "#run through classifier\n",
    "results_mDeberta = classifier_2(texts_mDeberta, ['vegetarian', 'not vegetarian'])\n",
    "print(results_mDeberta[:5])  # Print the first 5 results for brevity"
   ]
  },
  {
   "cell_type": "code",
   "execution_count": null,
   "id": "17bdcb70",
   "metadata": {},
   "outputs": [],
   "source": [
    "#get the top score from classification\n",
    "labels = [result[\"labels\"][0] for result in results_mDeberta] # should be a list"
   ]
  },
  {
   "cell_type": "code",
   "execution_count": null,
   "id": "bb22c5cb",
   "metadata": {},
   "outputs": [],
   "source": [
    "#save it in new column\n",
    "df_mDeberta[\"mDeBERTa_classification\"] = labels\n",
    "print(\"DataFrame after adding classifications:\")\n",
    "df_mDeberta.head()"
   ]
  },
  {
   "cell_type": "code",
   "execution_count": null,
   "id": "90e44a13",
   "metadata": {},
   "outputs": [],
   "source": [
    "filename = \"bart_mDeBERTa_classification.csv\"\n",
    "df.to_csv(filename, index=False)"
   ]
  },
  {
   "cell_type": "markdown",
   "id": "fab029f5",
   "metadata": {},
   "source": [
    "## Error Rate"
   ]
  },
  {
   "cell_type": "code",
   "execution_count": 3,
   "id": "c8f0150f",
   "metadata": {},
   "outputs": [
    {
     "data": {
      "text/html": [
       "<div>\n",
       "<style scoped>\n",
       "    .dataframe tbody tr th:only-of-type {\n",
       "        vertical-align: middle;\n",
       "    }\n",
       "\n",
       "    .dataframe tbody tr th {\n",
       "        vertical-align: top;\n",
       "    }\n",
       "\n",
       "    .dataframe thead th {\n",
       "        text-align: right;\n",
       "    }\n",
       "</style>\n",
       "<table border=\"1\" class=\"dataframe\">\n",
       "  <thead>\n",
       "    <tr style=\"text-align: right;\">\n",
       "      <th></th>\n",
       "      <th>Title</th>\n",
       "      <th>Description</th>\n",
       "      <th>Manual</th>\n",
       "      <th>Price</th>\n",
       "      <th>test_str</th>\n",
       "      <th>bart_classification</th>\n",
       "      <th>mDeBERTa_classification</th>\n",
       "      <th>DeBERTa-v3-base-mnli-fever-anli</th>\n",
       "      <th>deberta-v3-base-zeroshot-v1.1-all-33</th>\n",
       "      <th>mDeBERTa-v3-base-mnli-xnli</th>\n",
       "    </tr>\n",
       "  </thead>\n",
       "  <tbody>\n",
       "    <tr>\n",
       "      <th>0</th>\n",
       "      <td>LASUNI GOBI</td>\n",
       "      <td>Florets Of Cauliflower Marinated In Lemon And ...</td>\n",
       "      <td>Vegetarian</td>\n",
       "      <td>18</td>\n",
       "      <td>LASUNI GOBI : Florets Of Cauliflower Marinated...</td>\n",
       "      <td>not vegetarian</td>\n",
       "      <td>not vegetarian</td>\n",
       "      <td>vegetarian</td>\n",
       "      <td>vegetarian</td>\n",
       "      <td>not vegetarian</td>\n",
       "    </tr>\n",
       "    <tr>\n",
       "      <th>1</th>\n",
       "      <td>VEGETABLE SAMOSA</td>\n",
       "      <td>Crispy Turnovers Stuffed With Seasoned Potatoe...</td>\n",
       "      <td>Vegetarian</td>\n",
       "      <td>18</td>\n",
       "      <td>VEGETABLE SAMOSA : Crispy Turnovers Stuffed Wi...</td>\n",
       "      <td>vegetarian</td>\n",
       "      <td>vegetarian</td>\n",
       "      <td>vegetarian</td>\n",
       "      <td>vegetarian</td>\n",
       "      <td>vegetarian</td>\n",
       "    </tr>\n",
       "    <tr>\n",
       "      <th>2</th>\n",
       "      <td>ALOO TIKKIYA</td>\n",
       "      <td>Grilled Spicy Potato Cakes Topped With Pomegra...</td>\n",
       "      <td>Vegetarian</td>\n",
       "      <td>18</td>\n",
       "      <td>ALOO TIKKIYA : Grilled Spicy Potato Cakes Topp...</td>\n",
       "      <td>not vegetarian</td>\n",
       "      <td>not vegetarian</td>\n",
       "      <td>not vegetarian</td>\n",
       "      <td>vegetarian</td>\n",
       "      <td>not vegetarian</td>\n",
       "    </tr>\n",
       "    <tr>\n",
       "      <th>3</th>\n",
       "      <td>AMRITSARI SEEKH</td>\n",
       "      <td>Marinated Paneer, Grilled Peppers, Tomato Sauce</td>\n",
       "      <td>Vegetarian</td>\n",
       "      <td>22</td>\n",
       "      <td>AMRITSARI SEEKH : Marinated Paneer, Grilled Pe...</td>\n",
       "      <td>not vegetarian</td>\n",
       "      <td>not vegetarian</td>\n",
       "      <td>vegetarian</td>\n",
       "      <td>vegetarian</td>\n",
       "      <td>not vegetarian</td>\n",
       "    </tr>\n",
       "    <tr>\n",
       "      <th>4</th>\n",
       "      <td>HARA BHARA KABAB</td>\n",
       "      <td>Grilled Spinach Patties Stuffed With Paneer, G...</td>\n",
       "      <td>Vegetarian</td>\n",
       "      <td>18</td>\n",
       "      <td>HARA BHARA KABAB : Grilled Spinach Patties Stu...</td>\n",
       "      <td>not vegetarian</td>\n",
       "      <td>not vegetarian</td>\n",
       "      <td>vegetarian</td>\n",
       "      <td>vegetarian</td>\n",
       "      <td>not vegetarian</td>\n",
       "    </tr>\n",
       "  </tbody>\n",
       "</table>\n",
       "</div>"
      ],
      "text/plain": [
       "              Title                                        Description  \\\n",
       "0       LASUNI GOBI  Florets Of Cauliflower Marinated In Lemon And ...   \n",
       "1  VEGETABLE SAMOSA  Crispy Turnovers Stuffed With Seasoned Potatoe...   \n",
       "2      ALOO TIKKIYA  Grilled Spicy Potato Cakes Topped With Pomegra...   \n",
       "3   AMRITSARI SEEKH    Marinated Paneer, Grilled Peppers, Tomato Sauce   \n",
       "4  HARA BHARA KABAB  Grilled Spinach Patties Stuffed With Paneer, G...   \n",
       "\n",
       "       Manual Price                                           test_str  \\\n",
       "0  Vegetarian    18  LASUNI GOBI : Florets Of Cauliflower Marinated...   \n",
       "1  Vegetarian    18  VEGETABLE SAMOSA : Crispy Turnovers Stuffed Wi...   \n",
       "2  Vegetarian    18  ALOO TIKKIYA : Grilled Spicy Potato Cakes Topp...   \n",
       "3  Vegetarian    22  AMRITSARI SEEKH : Marinated Paneer, Grilled Pe...   \n",
       "4  Vegetarian    18  HARA BHARA KABAB : Grilled Spinach Patties Stu...   \n",
       "\n",
       "  bart_classification mDeBERTa_classification DeBERTa-v3-base-mnli-fever-anli  \\\n",
       "0      not vegetarian          not vegetarian                      vegetarian   \n",
       "1          vegetarian              vegetarian                      vegetarian   \n",
       "2      not vegetarian          not vegetarian                  not vegetarian   \n",
       "3      not vegetarian          not vegetarian                      vegetarian   \n",
       "4      not vegetarian          not vegetarian                      vegetarian   \n",
       "\n",
       "  deberta-v3-base-zeroshot-v1.1-all-33 mDeBERTa-v3-base-mnli-xnli  \n",
       "0                           vegetarian             not vegetarian  \n",
       "1                           vegetarian                 vegetarian  \n",
       "2                           vegetarian             not vegetarian  \n",
       "3                           vegetarian             not vegetarian  \n",
       "4                           vegetarian             not vegetarian  "
      ]
     },
     "execution_count": 3,
     "metadata": {},
     "output_type": "execute_result"
    }
   ],
   "source": [
    "df = pd.read_csv(\"5_classifiers.csv\")\n",
    "df.head()"
   ]
  },
  {
   "cell_type": "code",
   "execution_count": 13,
   "id": "6a6c239d",
   "metadata": {},
   "outputs": [],
   "source": [
    "df[\"Manual\"] = df[\"Manual\"].str.lower()"
   ]
  },
  {
   "cell_type": "code",
   "execution_count": 14,
   "id": "19f30495",
   "metadata": {},
   "outputs": [
    {
     "data": {
      "text/html": [
       "<div>\n",
       "<style scoped>\n",
       "    .dataframe tbody tr th:only-of-type {\n",
       "        vertical-align: middle;\n",
       "    }\n",
       "\n",
       "    .dataframe tbody tr th {\n",
       "        vertical-align: top;\n",
       "    }\n",
       "\n",
       "    .dataframe thead th {\n",
       "        text-align: right;\n",
       "    }\n",
       "</style>\n",
       "<table border=\"1\" class=\"dataframe\">\n",
       "  <thead>\n",
       "    <tr style=\"text-align: right;\">\n",
       "      <th></th>\n",
       "      <th>Title</th>\n",
       "      <th>Description</th>\n",
       "      <th>Manual</th>\n",
       "      <th>Price</th>\n",
       "      <th>test_str</th>\n",
       "      <th>bart_classification</th>\n",
       "      <th>mDeBERTa_classification</th>\n",
       "      <th>DeBERTa-v3-base-mnli-fever-anli</th>\n",
       "      <th>deberta-v3-base-zeroshot-v1.1-all-33</th>\n",
       "      <th>mDeBERTa-v3-base-mnli-xnli</th>\n",
       "    </tr>\n",
       "  </thead>\n",
       "  <tbody>\n",
       "    <tr>\n",
       "      <th>0</th>\n",
       "      <td>LASUNI GOBI</td>\n",
       "      <td>Florets Of Cauliflower Marinated In Lemon And ...</td>\n",
       "      <td>vegetarian</td>\n",
       "      <td>18</td>\n",
       "      <td>LASUNI GOBI : Florets Of Cauliflower Marinated...</td>\n",
       "      <td>not vegetarian</td>\n",
       "      <td>not vegetarian</td>\n",
       "      <td>vegetarian</td>\n",
       "      <td>vegetarian</td>\n",
       "      <td>not vegetarian</td>\n",
       "    </tr>\n",
       "    <tr>\n",
       "      <th>1</th>\n",
       "      <td>VEGETABLE SAMOSA</td>\n",
       "      <td>Crispy Turnovers Stuffed With Seasoned Potatoe...</td>\n",
       "      <td>vegetarian</td>\n",
       "      <td>18</td>\n",
       "      <td>VEGETABLE SAMOSA : Crispy Turnovers Stuffed Wi...</td>\n",
       "      <td>vegetarian</td>\n",
       "      <td>vegetarian</td>\n",
       "      <td>vegetarian</td>\n",
       "      <td>vegetarian</td>\n",
       "      <td>vegetarian</td>\n",
       "    </tr>\n",
       "    <tr>\n",
       "      <th>2</th>\n",
       "      <td>ALOO TIKKIYA</td>\n",
       "      <td>Grilled Spicy Potato Cakes Topped With Pomegra...</td>\n",
       "      <td>vegetarian</td>\n",
       "      <td>18</td>\n",
       "      <td>ALOO TIKKIYA : Grilled Spicy Potato Cakes Topp...</td>\n",
       "      <td>not vegetarian</td>\n",
       "      <td>not vegetarian</td>\n",
       "      <td>not vegetarian</td>\n",
       "      <td>vegetarian</td>\n",
       "      <td>not vegetarian</td>\n",
       "    </tr>\n",
       "    <tr>\n",
       "      <th>3</th>\n",
       "      <td>AMRITSARI SEEKH</td>\n",
       "      <td>Marinated Paneer, Grilled Peppers, Tomato Sauce</td>\n",
       "      <td>vegetarian</td>\n",
       "      <td>22</td>\n",
       "      <td>AMRITSARI SEEKH : Marinated Paneer, Grilled Pe...</td>\n",
       "      <td>not vegetarian</td>\n",
       "      <td>not vegetarian</td>\n",
       "      <td>vegetarian</td>\n",
       "      <td>vegetarian</td>\n",
       "      <td>not vegetarian</td>\n",
       "    </tr>\n",
       "    <tr>\n",
       "      <th>4</th>\n",
       "      <td>HARA BHARA KABAB</td>\n",
       "      <td>Grilled Spinach Patties Stuffed With Paneer, G...</td>\n",
       "      <td>vegetarian</td>\n",
       "      <td>18</td>\n",
       "      <td>HARA BHARA KABAB : Grilled Spinach Patties Stu...</td>\n",
       "      <td>not vegetarian</td>\n",
       "      <td>not vegetarian</td>\n",
       "      <td>vegetarian</td>\n",
       "      <td>vegetarian</td>\n",
       "      <td>not vegetarian</td>\n",
       "    </tr>\n",
       "  </tbody>\n",
       "</table>\n",
       "</div>"
      ],
      "text/plain": [
       "              Title                                        Description  \\\n",
       "0       LASUNI GOBI  Florets Of Cauliflower Marinated In Lemon And ...   \n",
       "1  VEGETABLE SAMOSA  Crispy Turnovers Stuffed With Seasoned Potatoe...   \n",
       "2      ALOO TIKKIYA  Grilled Spicy Potato Cakes Topped With Pomegra...   \n",
       "3   AMRITSARI SEEKH    Marinated Paneer, Grilled Peppers, Tomato Sauce   \n",
       "4  HARA BHARA KABAB  Grilled Spinach Patties Stuffed With Paneer, G...   \n",
       "\n",
       "       Manual Price                                           test_str  \\\n",
       "0  vegetarian    18  LASUNI GOBI : Florets Of Cauliflower Marinated...   \n",
       "1  vegetarian    18  VEGETABLE SAMOSA : Crispy Turnovers Stuffed Wi...   \n",
       "2  vegetarian    18  ALOO TIKKIYA : Grilled Spicy Potato Cakes Topp...   \n",
       "3  vegetarian    22  AMRITSARI SEEKH : Marinated Paneer, Grilled Pe...   \n",
       "4  vegetarian    18  HARA BHARA KABAB : Grilled Spinach Patties Stu...   \n",
       "\n",
       "  bart_classification mDeBERTa_classification DeBERTa-v3-base-mnli-fever-anli  \\\n",
       "0      not vegetarian          not vegetarian                      vegetarian   \n",
       "1          vegetarian              vegetarian                      vegetarian   \n",
       "2      not vegetarian          not vegetarian                  not vegetarian   \n",
       "3      not vegetarian          not vegetarian                      vegetarian   \n",
       "4      not vegetarian          not vegetarian                      vegetarian   \n",
       "\n",
       "  deberta-v3-base-zeroshot-v1.1-all-33 mDeBERTa-v3-base-mnli-xnli  \n",
       "0                           vegetarian             not vegetarian  \n",
       "1                           vegetarian                 vegetarian  \n",
       "2                           vegetarian             not vegetarian  \n",
       "3                           vegetarian             not vegetarian  \n",
       "4                           vegetarian             not vegetarian  "
      ]
     },
     "execution_count": 14,
     "metadata": {},
     "output_type": "execute_result"
    }
   ],
   "source": [
    "df.head()"
   ]
  },
  {
   "cell_type": "code",
   "execution_count": 35,
   "id": "546db8a0",
   "metadata": {},
   "outputs": [],
   "source": [
    "def get_model_success(column_name):\n",
    "    \n",
    "    len_success = df[df[\"Manual\"] == df[column_name]].shape[0]\n",
    "    len_all = df.shape[0]\n",
    "    \n",
    "    success_pc = (len_success * 100) / len_all\n",
    "    \n",
    "    return success_pc"
   ]
  },
  {
   "cell_type": "code",
   "execution_count": 36,
   "id": "a904d886",
   "metadata": {},
   "outputs": [],
   "source": [
    "column_names = df.columns.to_list()[5:]"
   ]
  },
  {
   "cell_type": "code",
   "execution_count": 37,
   "id": "34aaad15",
   "metadata": {},
   "outputs": [
    {
     "data": {
      "text/plain": [
       "{'bart_classification': 55.14950166112957,\n",
       " 'mDeBERTa_classification': 60.46511627906977,\n",
       " 'DeBERTa-v3-base-mnli-fever-anli': 60.79734219269103,\n",
       " 'deberta-v3-base-zeroshot-v1.1-all-33': 73.75415282392026,\n",
       " 'mDeBERTa-v3-base-mnli-xnli': 60.46511627906977}"
      ]
     },
     "execution_count": 37,
     "metadata": {},
     "output_type": "execute_result"
    }
   ],
   "source": [
    "success_rate = {}\n",
    "\n",
    "for name in column_names:\n",
    "    success_rate[name] = get_model_success(name)\n",
    "    \n",
    "success_rate    "
   ]
  },
  {
   "cell_type": "code",
   "execution_count": 49,
   "id": "1c635470",
   "metadata": {},
   "outputs": [
    {
     "data": {
      "text/plain": [
       "['bart_classification',\n",
       " 'mDeBERTa_classification',\n",
       " 'DeBERTa-v3-base-mnli-fever-anli',\n",
       " 'deberta-v3-base-zeroshot-v1.1-all-33',\n",
       " 'mDeBERTa-v3-base-mnli-xnli']"
      ]
     },
     "execution_count": 49,
     "metadata": {},
     "output_type": "execute_result"
    }
   ],
   "source": [
    "list(success_rate.keys())"
   ]
  },
  {
   "cell_type": "code",
   "execution_count": 52,
   "id": "2bf819fe",
   "metadata": {},
   "outputs": [
    {
     "data": {
      "text/html": [
       "<div>\n",
       "<style scoped>\n",
       "    .dataframe tbody tr th:only-of-type {\n",
       "        vertical-align: middle;\n",
       "    }\n",
       "\n",
       "    .dataframe tbody tr th {\n",
       "        vertical-align: top;\n",
       "    }\n",
       "\n",
       "    .dataframe thead th {\n",
       "        text-align: right;\n",
       "    }\n",
       "</style>\n",
       "<table border=\"1\" class=\"dataframe\">\n",
       "  <thead>\n",
       "    <tr style=\"text-align: right;\">\n",
       "      <th></th>\n",
       "      <th>models</th>\n",
       "      <th>success_rate</th>\n",
       "    </tr>\n",
       "  </thead>\n",
       "  <tbody>\n",
       "    <tr>\n",
       "      <th>3</th>\n",
       "      <td>deberta-v3-base-zeroshot-v1.1-all-33</td>\n",
       "      <td>73.754153</td>\n",
       "    </tr>\n",
       "    <tr>\n",
       "      <th>2</th>\n",
       "      <td>DeBERTa-v3-base-mnli-fever-anli</td>\n",
       "      <td>60.797342</td>\n",
       "    </tr>\n",
       "    <tr>\n",
       "      <th>1</th>\n",
       "      <td>mDeBERTa_classification</td>\n",
       "      <td>60.465116</td>\n",
       "    </tr>\n",
       "    <tr>\n",
       "      <th>4</th>\n",
       "      <td>mDeBERTa-v3-base-mnli-xnli</td>\n",
       "      <td>60.465116</td>\n",
       "    </tr>\n",
       "    <tr>\n",
       "      <th>0</th>\n",
       "      <td>bart_classification</td>\n",
       "      <td>55.149502</td>\n",
       "    </tr>\n",
       "  </tbody>\n",
       "</table>\n",
       "</div>"
      ],
      "text/plain": [
       "                                 models  success_rate\n",
       "3  deberta-v3-base-zeroshot-v1.1-all-33     73.754153\n",
       "2       DeBERTa-v3-base-mnli-fever-anli     60.797342\n",
       "1               mDeBERTa_classification     60.465116\n",
       "4            mDeBERTa-v3-base-mnli-xnli     60.465116\n",
       "0                   bart_classification     55.149502"
      ]
     },
     "execution_count": 52,
     "metadata": {},
     "output_type": "execute_result"
    }
   ],
   "source": [
    "model_success_df = pd.DataFrame()\n",
    "model_success_df[\"models\"] = list(success_rate.keys())\n",
    "model_success_df[\"success_rate\"] = list(success_rate.values())\n",
    "model_success_df.sort_values(by = \"success_rate\", ascending=False)"
   ]
  },
  {
   "cell_type": "code",
   "execution_count": null,
   "id": "fd0d4329",
   "metadata": {},
   "outputs": [],
   "source": []
  }
 ],
 "metadata": {
  "kernelspec": {
   "display_name": "Python 3 (ipykernel)",
   "language": "python",
   "name": "python3"
  },
  "language_info": {
   "codemirror_mode": {
    "name": "ipython",
    "version": 3
   },
   "file_extension": ".py",
   "mimetype": "text/x-python",
   "name": "python",
   "nbconvert_exporter": "python",
   "pygments_lexer": "ipython3",
   "version": "3.12.7"
  }
 },
 "nbformat": 4,
 "nbformat_minor": 5
}
