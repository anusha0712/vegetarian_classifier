{
 "cells": [
  {
   "cell_type": "code",
   "execution_count": 1,
   "id": "09c7795d",
   "metadata": {},
   "outputs": [],
   "source": [
    "import pandas as pd\n",
    "from transformers import pipeline\n",
    "from transformers import AutoTokenizer, AutoModelForTokenClassification, pipeline"
   ]
  },
  {
   "cell_type": "markdown",
   "id": "21041b8c",
   "metadata": {},
   "source": [
    "## Load NER model and text classifier"
   ]
  },
  {
   "cell_type": "code",
   "execution_count": 2,
   "id": "e016a8eb",
   "metadata": {},
   "outputs": [
    {
     "name": "stderr",
     "output_type": "stream",
     "text": [
      "Hardware accelerator e.g. GPU is available in the environment, but no `device` argument is passed to the `Pipeline` object. Model will be on CPU.\n"
     ]
    }
   ],
   "source": [
    "#NER\n",
    "\n",
    "ner_model = AutoModelForTokenClassification.from_pretrained('carolanderson/roberta-base-food-ner')\n",
    "tokenizer = AutoTokenizer.from_pretrained(\"roberta-base\", add_prefix_space=True)\n",
    "\n",
    "nlp = pipeline(\"ner\", model=ner_model, tokenizer=tokenizer)"
   ]
  },
  {
   "cell_type": "code",
   "execution_count": 3,
   "id": "9053dc26",
   "metadata": {},
   "outputs": [
    {
     "name": "stderr",
     "output_type": "stream",
     "text": [
      "Hardware accelerator e.g. GPU is available in the environment, but no `device` argument is passed to the `Pipeline` object. Model will be on CPU.\n"
     ]
    }
   ],
   "source": [
    "# Text classifier mode\n",
    "\n",
    "classifier = pipeline(\"zero-shot-classification\",\n",
    "                      model=\"MoritzLaurer/deberta-v3-base-zeroshot-v1.1-all-33\")"
   ]
  },
  {
   "cell_type": "markdown",
   "id": "238f2b4b",
   "metadata": {},
   "source": [
    "## Workflow\n",
    "\n",
    "\n",
    "1. Get a test_str input \n",
    "2. pass it into NER for FOOD \n",
    "3. make those food words go into classification.\n",
    "4. the minute you encounter a non-veg item --> break and it's non veg "
   ]
  },
  {
   "cell_type": "code",
   "execution_count": 9,
   "id": "8de4cc59",
   "metadata": {},
   "outputs": [
    {
     "name": "stdout",
     "output_type": "stream",
     "text": [
      "What menu items do you want to classify?Mushroom pizza: Goat cheese, bacon, speck\n"
     ]
    },
    {
     "data": {
      "text/plain": [
       "'Mushroom pizza: Goat cheese, bacon, speck'"
      ]
     },
     "execution_count": 9,
     "metadata": {},
     "output_type": "execute_result"
    }
   ],
   "source": [
    "### 1. Get a test_str input \n",
    "test_str = input(\"What menu items do you want to classify?\")\n",
    "test_str"
   ]
  },
  {
   "cell_type": "code",
   "execution_count": null,
   "id": "84fdd6e1",
   "metadata": {},
   "outputs": [],
   "source": [
    "### 2. pass it into NER for FOOD"
   ]
  },
  {
   "cell_type": "code",
   "execution_count": 10,
   "id": "8d645d4d",
   "metadata": {},
   "outputs": [
    {
     "name": "stderr",
     "output_type": "stream",
     "text": [
      "/Users/anushasubramanian/.pyenv/versions/3.12.7/lib/python3.12/site-packages/transformers/pipelines/token_classification.py:398: UserWarning: Tokenizer does not support real words, using fallback heuristic\n",
      "  warnings.warn(\n"
     ]
    },
    {
     "data": {
      "text/plain": [
       "[{'entity_group': 'FOOD',\n",
       "  'score': np.float32(0.50480014),\n",
       "  'word': ' Mushroom',\n",
       "  'start': 0,\n",
       "  'end': 8},\n",
       " {'entity_group': 'FOOD',\n",
       "  'score': np.float32(0.8067007),\n",
       "  'word': ' pizza:',\n",
       "  'start': 9,\n",
       "  'end': 15},\n",
       " {'entity_group': 'FOOD',\n",
       "  'score': np.float32(0.99057895),\n",
       "  'word': ' Goat cheese,',\n",
       "  'start': 16,\n",
       "  'end': 28},\n",
       " {'entity_group': 'FOOD',\n",
       "  'score': np.float32(0.998517),\n",
       "  'word': ' bacon,',\n",
       "  'start': 29,\n",
       "  'end': 35},\n",
       " {'entity_group': 'FOOD',\n",
       "  'score': np.float32(0.98704344),\n",
       "  'word': ' speck',\n",
       "  'start': 36,\n",
       "  'end': 41}]"
      ]
     },
     "execution_count": 10,
     "metadata": {},
     "output_type": "execute_result"
    }
   ],
   "source": [
    "#list of dictionaries\n",
    "menu_ner = nlp(test_str, aggregation_strategy=\"first\")\n",
    "menu_ner"
   ]
  },
  {
   "cell_type": "code",
   "execution_count": 13,
   "id": "ae352ce3",
   "metadata": {},
   "outputs": [],
   "source": [
    "import string"
   ]
  },
  {
   "cell_type": "code",
   "execution_count": 15,
   "id": "93d2d92b",
   "metadata": {},
   "outputs": [
    {
     "data": {
      "text/plain": [
       "[' Mushroom', ' pizza', ' Goat cheese', ' bacon', ' speck']"
      ]
     },
     "execution_count": 15,
     "metadata": {},
     "output_type": "execute_result"
    }
   ],
   "source": [
    "# put them into a list of food NERs\n",
    "\n",
    "food_ners = []\n",
    "\n",
    "for item in menu_ner:\n",
    "    \n",
    "    food_ners.append(item[\"word\"].strip(string.punctuation))\n",
    "    \n",
    "food_ners"
   ]
  },
  {
   "cell_type": "code",
   "execution_count": null,
   "id": "c87d8ba0",
   "metadata": {},
   "outputs": [],
   "source": [
    "### 3. make those food words go into classification."
   ]
  },
  {
   "cell_type": "code",
   "execution_count": null,
   "id": "a8300052",
   "metadata": {},
   "outputs": [],
   "source": []
  },
  {
   "cell_type": "code",
   "execution_count": null,
   "id": "b448b47d",
   "metadata": {},
   "outputs": [],
   "source": [
    "### 4. the minute you encounter a non-veg item --> break and it's non veg "
   ]
  },
  {
   "cell_type": "code",
   "execution_count": null,
   "id": "7597ef8c",
   "metadata": {},
   "outputs": [],
   "source": []
  },
  {
   "cell_type": "code",
   "execution_count": null,
   "id": "8db30416",
   "metadata": {},
   "outputs": [],
   "source": []
  }
 ],
 "metadata": {
  "kernelspec": {
   "display_name": "Python 3 (ipykernel)",
   "language": "python",
   "name": "python3"
  },
  "language_info": {
   "codemirror_mode": {
    "name": "ipython",
    "version": 3
   },
   "file_extension": ".py",
   "mimetype": "text/x-python",
   "name": "python",
   "nbconvert_exporter": "python",
   "pygments_lexer": "ipython3",
   "version": "3.12.7"
  }
 },
 "nbformat": 4,
 "nbformat_minor": 5
}
