{
 "cells": [
  {
   "cell_type": "markdown",
   "id": "a8c6afdc",
   "metadata": {},
   "source": [
    "# Formatting test strings"
   ]
  },
  {
   "cell_type": "code",
   "execution_count": 2,
   "id": "0c18033c",
   "metadata": {},
   "outputs": [],
   "source": [
    "import pandas as pd"
   ]
  },
  {
   "cell_type": "code",
   "execution_count": 3,
   "id": "92247803",
   "metadata": {},
   "outputs": [
    {
     "data": {
      "text/html": [
       "<div>\n",
       "<style scoped>\n",
       "    .dataframe tbody tr th:only-of-type {\n",
       "        vertical-align: middle;\n",
       "    }\n",
       "\n",
       "    .dataframe tbody tr th {\n",
       "        vertical-align: top;\n",
       "    }\n",
       "\n",
       "    .dataframe thead th {\n",
       "        text-align: right;\n",
       "    }\n",
       "</style>\n",
       "<table border=\"1\" class=\"dataframe\">\n",
       "  <thead>\n",
       "    <tr style=\"text-align: right;\">\n",
       "      <th></th>\n",
       "      <th>Title</th>\n",
       "      <th>Description</th>\n",
       "      <th>Manual</th>\n",
       "      <th>Price</th>\n",
       "    </tr>\n",
       "  </thead>\n",
       "  <tbody>\n",
       "    <tr>\n",
       "      <th>0</th>\n",
       "      <td>LASUNI GOBI</td>\n",
       "      <td>Florets Of Cauliflower Marinated In Lemon And ...</td>\n",
       "      <td>Vegetarian</td>\n",
       "      <td>18</td>\n",
       "    </tr>\n",
       "    <tr>\n",
       "      <th>1</th>\n",
       "      <td>VEGETABLE SAMOSA</td>\n",
       "      <td>Crispy Turnovers Stuffed With Seasoned Potatoe...</td>\n",
       "      <td>Vegetarian</td>\n",
       "      <td>18</td>\n",
       "    </tr>\n",
       "    <tr>\n",
       "      <th>2</th>\n",
       "      <td>ALOO TIKKIYA</td>\n",
       "      <td>Grilled Spicy Potato Cakes Topped With Pomegra...</td>\n",
       "      <td>Vegetarian</td>\n",
       "      <td>18</td>\n",
       "    </tr>\n",
       "    <tr>\n",
       "      <th>3</th>\n",
       "      <td>AMRITSARI SEEKH</td>\n",
       "      <td>Marinated Paneer, Grilled Peppers, Tomato Sauce</td>\n",
       "      <td>Vegetarian</td>\n",
       "      <td>22</td>\n",
       "    </tr>\n",
       "    <tr>\n",
       "      <th>4</th>\n",
       "      <td>HARA BHARA KABAB</td>\n",
       "      <td>Grilled Spinach Patties Stuffed With Paneer, G...</td>\n",
       "      <td>Vegetarian</td>\n",
       "      <td>18</td>\n",
       "    </tr>\n",
       "  </tbody>\n",
       "</table>\n",
       "</div>"
      ],
      "text/plain": [
       "              Title                                        Description  \\\n",
       "0       LASUNI GOBI  Florets Of Cauliflower Marinated In Lemon And ...   \n",
       "1  VEGETABLE SAMOSA  Crispy Turnovers Stuffed With Seasoned Potatoe...   \n",
       "2      ALOO TIKKIYA  Grilled Spicy Potato Cakes Topped With Pomegra...   \n",
       "3   AMRITSARI SEEKH    Marinated Paneer, Grilled Peppers, Tomato Sauce   \n",
       "4  HARA BHARA KABAB  Grilled Spinach Patties Stuffed With Paneer, G...   \n",
       "\n",
       "       Manual Price  \n",
       "0  Vegetarian    18  \n",
       "1  Vegetarian    18  \n",
       "2  Vegetarian    18  \n",
       "3  Vegetarian    22  \n",
       "4  Vegetarian    18  "
      ]
     },
     "execution_count": 3,
     "metadata": {},
     "output_type": "execute_result"
    }
   ],
   "source": [
    "df = pd.read_csv(\"/Users/anushasubramanian/Desktop/Menu_items.csv\")\n",
    "df.head()"
   ]
  },
  {
   "cell_type": "code",
   "execution_count": 4,
   "id": "d34c036a",
   "metadata": {},
   "outputs": [
    {
     "data": {
      "text/html": [
       "<div>\n",
       "<style scoped>\n",
       "    .dataframe tbody tr th:only-of-type {\n",
       "        vertical-align: middle;\n",
       "    }\n",
       "\n",
       "    .dataframe tbody tr th {\n",
       "        vertical-align: top;\n",
       "    }\n",
       "\n",
       "    .dataframe thead th {\n",
       "        text-align: right;\n",
       "    }\n",
       "</style>\n",
       "<table border=\"1\" class=\"dataframe\">\n",
       "  <thead>\n",
       "    <tr style=\"text-align: right;\">\n",
       "      <th></th>\n",
       "      <th>Title</th>\n",
       "      <th>Description</th>\n",
       "      <th>Manual</th>\n",
       "      <th>Price</th>\n",
       "      <th>test_str</th>\n",
       "    </tr>\n",
       "  </thead>\n",
       "  <tbody>\n",
       "    <tr>\n",
       "      <th>0</th>\n",
       "      <td>LASUNI GOBI</td>\n",
       "      <td>Florets Of Cauliflower Marinated In Lemon And ...</td>\n",
       "      <td>Vegetarian</td>\n",
       "      <td>18</td>\n",
       "      <td>LASUNI GOBI : Florets Of Cauliflower Marinated...</td>\n",
       "    </tr>\n",
       "    <tr>\n",
       "      <th>1</th>\n",
       "      <td>VEGETABLE SAMOSA</td>\n",
       "      <td>Crispy Turnovers Stuffed With Seasoned Potatoe...</td>\n",
       "      <td>Vegetarian</td>\n",
       "      <td>18</td>\n",
       "      <td>VEGETABLE SAMOSA : Crispy Turnovers Stuffed Wi...</td>\n",
       "    </tr>\n",
       "    <tr>\n",
       "      <th>2</th>\n",
       "      <td>ALOO TIKKIYA</td>\n",
       "      <td>Grilled Spicy Potato Cakes Topped With Pomegra...</td>\n",
       "      <td>Vegetarian</td>\n",
       "      <td>18</td>\n",
       "      <td>ALOO TIKKIYA : Grilled Spicy Potato Cakes Topp...</td>\n",
       "    </tr>\n",
       "    <tr>\n",
       "      <th>3</th>\n",
       "      <td>AMRITSARI SEEKH</td>\n",
       "      <td>Marinated Paneer, Grilled Peppers, Tomato Sauce</td>\n",
       "      <td>Vegetarian</td>\n",
       "      <td>22</td>\n",
       "      <td>AMRITSARI SEEKH : Marinated Paneer, Grilled Pe...</td>\n",
       "    </tr>\n",
       "    <tr>\n",
       "      <th>4</th>\n",
       "      <td>HARA BHARA KABAB</td>\n",
       "      <td>Grilled Spinach Patties Stuffed With Paneer, G...</td>\n",
       "      <td>Vegetarian</td>\n",
       "      <td>18</td>\n",
       "      <td>HARA BHARA KABAB : Grilled Spinach Patties Stu...</td>\n",
       "    </tr>\n",
       "  </tbody>\n",
       "</table>\n",
       "</div>"
      ],
      "text/plain": [
       "              Title                                        Description  \\\n",
       "0       LASUNI GOBI  Florets Of Cauliflower Marinated In Lemon And ...   \n",
       "1  VEGETABLE SAMOSA  Crispy Turnovers Stuffed With Seasoned Potatoe...   \n",
       "2      ALOO TIKKIYA  Grilled Spicy Potato Cakes Topped With Pomegra...   \n",
       "3   AMRITSARI SEEKH    Marinated Paneer, Grilled Peppers, Tomato Sauce   \n",
       "4  HARA BHARA KABAB  Grilled Spinach Patties Stuffed With Paneer, G...   \n",
       "\n",
       "       Manual Price                                           test_str  \n",
       "0  Vegetarian    18  LASUNI GOBI : Florets Of Cauliflower Marinated...  \n",
       "1  Vegetarian    18  VEGETABLE SAMOSA : Crispy Turnovers Stuffed Wi...  \n",
       "2  Vegetarian    18  ALOO TIKKIYA : Grilled Spicy Potato Cakes Topp...  \n",
       "3  Vegetarian    22  AMRITSARI SEEKH : Marinated Paneer, Grilled Pe...  \n",
       "4  Vegetarian    18  HARA BHARA KABAB : Grilled Spinach Patties Stu...  "
      ]
     },
     "execution_count": 4,
     "metadata": {},
     "output_type": "execute_result"
    }
   ],
   "source": [
    "df[\"test_str\"] = df[\"Title\"] + \" : \" + df[\"Description\"]\n",
    "df.head()"
   ]
  },
  {
   "cell_type": "code",
   "execution_count": 5,
   "id": "080855eb",
   "metadata": {},
   "outputs": [],
   "source": [
    "df.to_csv(\"Menu_items2.csv\")"
   ]
  },
  {
   "cell_type": "code",
   "execution_count": null,
   "id": "c6d53cf5",
   "metadata": {},
   "outputs": [],
   "source": []
  }
 ],
 "metadata": {
  "kernelspec": {
   "display_name": "Python 3 (ipykernel)",
   "language": "python",
   "name": "python3"
  },
  "language_info": {
   "codemirror_mode": {
    "name": "ipython",
    "version": 3
   },
   "file_extension": ".py",
   "mimetype": "text/x-python",
   "name": "python",
   "nbconvert_exporter": "python",
   "pygments_lexer": "ipython3",
   "version": "3.12.7"
  }
 },
 "nbformat": 4,
 "nbformat_minor": 5
}
