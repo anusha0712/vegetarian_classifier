{
 "cells": [
  {
   "cell_type": "code",
   "execution_count": 157,
   "id": "e20e290a",
   "metadata": {},
   "outputs": [],
   "source": [
    "import pandas as pd\n",
    "from transformers import pipeline\n",
    "from transformers import AutoTokenizer, AutoModelForTokenClassification, pipeline\n",
    "import string\n",
    "import re\n",
    "from transformers import logging\n",
    "\n",
    "logging.set_verbosity_error()"
   ]
  },
  {
   "cell_type": "markdown",
   "id": "c844a6bc",
   "metadata": {},
   "source": [
    "## What is my workflow and what are my tasks?"
   ]
  },
  {
   "cell_type": "markdown",
   "id": "3be8df2c",
   "metadata": {},
   "source": [
    "**Prototype**\n",
    "\n",
    "Takes a test string as input\n",
    "\n",
    "Returns whether vegetarian or not vegetarian \n",
    "\n",
    "\n",
    "**First iteration**\n",
    "\n",
    "Takes a list of menu items as input\n",
    "\n",
    "Returns veg or not veg for all \n",
    "\n",
    "EXTRA: can tally or not."
   ]
  },
  {
   "cell_type": "markdown",
   "id": "8a1e1282",
   "metadata": {},
   "source": [
    "### Create function to do everything\n",
    "\n",
    "**PROTOTYPE**"
   ]
  },
  {
   "cell_type": "code",
   "execution_count": 36,
   "id": "cdb57ae1",
   "metadata": {},
   "outputs": [],
   "source": [
    "def get_diet_proto(test_str):\n",
    "\n",
    "    # Text classifier model\n",
    "    classifier = pipeline(\"zero-shot-classification\",\n",
    "                          model=\"MoritzLaurer/DeBERTa-v3-base-mnli-fever-anli\")\n",
    "    \n",
    "        \n",
    "    #classify them\n",
    "    results = classifier(test_str, ['Vegetarian', 'meat'])\n",
    "    \n",
    "    diet = results[\"labels\"][0]\n",
    "    \n",
    "    if diet == \"meat\":\n",
    "        diet = \"Not Vegetarian\"\n",
    "   \n",
    "    print(test_str)\n",
    "    print(diet)"
   ]
  },
  {
   "cell_type": "code",
   "execution_count": 37,
   "id": "65486548",
   "metadata": {},
   "outputs": [],
   "source": [
    "test_str1 = \"Maitake Mushroom Fritters : Organic Maitake Mushrooms Deep Fried In Crispy Batter\"\n",
    "test_str2 = \"Shrimp Cakes : tiger shrimp, atlantic cod + almonds\"\n",
    "test_str3 = \"Creekstone Farms Ribeye : sichuan spicy doubanjiang OR cantonese black pepper\"\n",
    "test_str4 = \"Eggplant : long pepper + house garlic sauce\"\n",
    "test_str5 = \"Spicy Marinated Cucumbers : sesame, garlic + chilli\""
   ]
  },
  {
   "cell_type": "code",
   "execution_count": null,
   "id": "5eb31f86",
   "metadata": {},
   "outputs": [],
   "source": [
    "combined_str = \"Maitake Mushroom Fritters : Organic Maitake Mushrooms Deep Fried In Crispy Batter\\nShrimp Cakes : tiger shrimp, atlantic cod + almonds\\nCreekstone Farms Ribeye : sichuan spicy doubanjiang OR cantonese black pepper\\nEggplant : long pepper + house garlic sauce\\nSpicy Marinated Cucumbers : sesame, garlic + chilli\"\n"
   ]
  },
  {
   "cell_type": "code",
   "execution_count": 44,
   "id": "914d593b",
   "metadata": {},
   "outputs": [
    {
     "name": "stdout",
     "output_type": "stream",
     "text": [
      "Maitake Mushroom Fritters : Organic Maitake Mushrooms Deep Fried In Crispy Batter\n",
      "Vegetarian\n"
     ]
    }
   ],
   "source": [
    "get_diet_proto(test_str1)"
   ]
  },
  {
   "cell_type": "code",
   "execution_count": 45,
   "id": "68a9265c",
   "metadata": {},
   "outputs": [
    {
     "name": "stdout",
     "output_type": "stream",
     "text": [
      "Shrimp Cakes : tiger shrimp, atlantic cod + almonds\n",
      "Not Vegetarian\n"
     ]
    }
   ],
   "source": [
    "get_diet_proto(test_str2)"
   ]
  },
  {
   "cell_type": "code",
   "execution_count": 46,
   "id": "a79326b1",
   "metadata": {},
   "outputs": [
    {
     "name": "stdout",
     "output_type": "stream",
     "text": [
      "Creekstone Farms Ribeye : sichuan spicy doubanjiang OR cantonese black pepper\n",
      "Not Vegetarian\n"
     ]
    }
   ],
   "source": [
    "get_diet_proto(test_str3)"
   ]
  },
  {
   "cell_type": "code",
   "execution_count": 47,
   "id": "a2a379b8",
   "metadata": {},
   "outputs": [
    {
     "name": "stdout",
     "output_type": "stream",
     "text": [
      "Eggplant : long pepper + house garlic sauce\n",
      "Vegetarian\n"
     ]
    }
   ],
   "source": [
    "get_diet_proto(test_str4)"
   ]
  },
  {
   "cell_type": "code",
   "execution_count": 48,
   "id": "42cb067c",
   "metadata": {},
   "outputs": [
    {
     "name": "stdout",
     "output_type": "stream",
     "text": [
      "Spicy Marinated Cucumbers : sesame, garlic + chilli\n",
      "Vegetarian\n"
     ]
    }
   ],
   "source": [
    "get_diet_proto(test_str5)"
   ]
  },
  {
   "cell_type": "code",
   "execution_count": 101,
   "id": "6eeb3da4",
   "metadata": {},
   "outputs": [],
   "source": [
    "def get_diet_first_iter(test_str):\n",
    "    \n",
    "    test_list = test_str.split(\"\\n\")\n",
    "    test_list = [item for item in test_list if len(item) > 0]\n",
    "    \n",
    "    # Text classifier model\n",
    "    classifier = pipeline(\"zero-shot-classification\",\n",
    "                          model=\"MoritzLaurer/DeBERTa-v3-base-mnli-fever-anli\")\n",
    "    \n",
    "\n",
    "    #classify them\n",
    "    results = classifier(test_list, ['Vegetarian', 'meat'])\n",
    "    \n",
    "    labels = [result[\"labels\"][0] for result in results] \n",
    "\n",
    "    return dict(zip(test_list, labels))"
   ]
  },
  {
   "cell_type": "code",
   "execution_count": 97,
   "id": "6a7d0177",
   "metadata": {},
   "outputs": [],
   "source": [
    "combined_str = \"\"\"Maitake Mushroom Fritters : Organic Maitake Mushrooms Deep Fried In Crispy Batter\n",
    "Shrimp Cakes : tiger shrimp, atlantic cod + almonds\n",
    "Creekstone Farms Ribeye : sichuan spicy doubanjiang OR cantonese black pepper\n",
    "Eggplant : long pepper + house garlic sauce\n",
    "Spicy Marinated Cucumbers : sesame, garlic + chilli\"\"\""
   ]
  },
  {
   "cell_type": "code",
   "execution_count": 104,
   "id": "b131de6d",
   "metadata": {},
   "outputs": [
    {
     "data": {
      "text/plain": [
       "{'Vermicelli Delight $16 (Korean Sweet Potato Noodles With Assorted Vegetables Marinated With Soy Sauce)': 'Vegetarian',\n",
       " 'Spicy Korean Cauliflower Bites $16 (With Vegan Mayonnaise Dip)': 'Vegetarian',\n",
       " 'Spicy Sesame Leaf Tofu Patties $18 (Minced Oyster Mushrooms And Tofu Wrapped In Sesame Leaves)': 'Vegetarian',\n",
       " 'Stuffed Shiitake Mushrooms $18    ': 'Vegetarian',\n",
       " 'Korean Pancakes Platter $20 (Leek, Kimchi Mushroom & Mung Bean Pancakes With Bean Sprouts And Kabocha Pumpkin)': 'Vegetarian',\n",
       " 'Organic Wheat Free Kale Pancakes $19 (Made With Sweet Rice Flour)': 'Vegetarian',\n",
       " 'Plant Based Korean ‘Bulgogi’ Bossam Bites $18(Plant Based ‘Bulgogi’with Pickled Radish And Mushrooms In Spicy Korean Blackraspberry Sauce)': 'Vegetarian'}"
      ]
     },
     "execution_count": 104,
     "metadata": {},
     "output_type": "execute_result"
    }
   ],
   "source": [
    "get_diet_first_iter(menu_string)"
   ]
  },
  {
   "cell_type": "code",
   "execution_count": 103,
   "id": "57388e5a",
   "metadata": {},
   "outputs": [],
   "source": [
    "menu_string = \"\"\"Vermicelli Delight $16 (Korean Sweet Potato Noodles With Assorted Vegetables Marinated With Soy Sauce)\n",
    "Spicy Korean Cauliflower Bites $16 (With Vegan Mayonnaise Dip)\n",
    "Spicy Sesame Leaf Tofu Patties $18 (Minced Oyster Mushrooms And Tofu Wrapped In Sesame Leaves)\n",
    "Stuffed Shiitake Mushrooms $18    \n",
    "Korean Pancakes Platter $20 (Leek, Kimchi Mushroom & Mung Bean Pancakes With Bean Sprouts And Kabocha Pumpkin)\n",
    "Organic Wheat Free Kale Pancakes $19 (Made With Sweet Rice Flour)\n",
    "Plant Based Korean ‘Bulgogi’ Bossam Bites $18(Plant Based ‘Bulgogi’with Pickled Radish And Mushrooms In Spicy Korean Blackraspberry Sauce)\"\"\""
   ]
  },
  {
   "cell_type": "code",
   "execution_count": null,
   "id": "42656a10",
   "metadata": {},
   "outputs": [],
   "source": [
    "# test_str = \"\"\"SCALLOP CRUDO\n",
    "# Pink Apples, Italian Basil, Smoked Pine Nut Brodo\n",
    "# $21\n",
    "# TONNATO VITELLO\n",
    "# Spicy Veal Tartare, Tuna Carpaccio\n",
    "# $20\n",
    "# CHRYSANTHEMUM SALAD\n",
    "# Garlic, Sesame, Parmesan\n",
    "# $21\n",
    "# WINTER CHICORIES\n",
    "# Blood Orange, Roasted Cashews, Black Lime, La Tur\n",
    "# $20\n",
    "# BBQ CALAMARI\n",
    "# Pepperoni Fried Rice, Herbed Labneh\n",
    "# $19\"\"\""
   ]
  },
  {
   "cell_type": "markdown",
   "id": "4202eda8",
   "metadata": {},
   "source": [
    "## code for joining together menu items if copy pasted from site"
   ]
  },
  {
   "cell_type": "code",
   "execution_count": 152,
   "id": "9c91e34f",
   "metadata": {},
   "outputs": [],
   "source": [
    "def get_diet_second_iter(test_str):\n",
    "    \n",
    "    test_list = test_str.split(\"\\n\")\n",
    "    test_list = [item for item in test_list if len(item) > 0] #removed empty elements\n",
    "    test_list = [item for item in test_list if not re.search(r\"^[\\d\\$]\",item)] #removes prices\n",
    "    \n",
    "    # Text classifier model\n",
    "    classifier = pipeline(\"zero-shot-classification\",\n",
    "                          model=\"MoritzLaurer/DeBERTa-v3-base-mnli-fever-anli\")\n",
    "    \n",
    "    test = []\n",
    "    #classify them\n",
    "    count = 0\n",
    "    for i in range(0,len(test_list)//2):\n",
    "        test.append(test_list[count] + \" : \" + test_list[count+1])\n",
    "        count+=2\n",
    "        \n",
    "    results = classifier(test, ['Vegetarian', 'meat'])\n",
    "    \n",
    "    labels = [result[\"labels\"][0] for result in results] \n",
    "\n",
    "    return dict(zip(test, labels))"
   ]
  },
  {
   "cell_type": "code",
   "execution_count": 155,
   "id": "f4892b5a",
   "metadata": {},
   "outputs": [
    {
     "data": {
      "text/plain": [
       "{'ROASTED CHICKEN : hen of the woods, scallion': 'meat',\n",
       " 'HANGER STEAK : crispy potatoes, salsa bianca': 'meat',\n",
       " 'IBERIAN DURUC PORK CHOP : roasted fig & radicchio, apple mostarda, agrodolce': 'meat',\n",
       " 'PRIME DRY-AGED 20 OZ RIBEYE : garlic confit, salsa verde': 'meat'}"
      ]
     },
     "execution_count": 155,
     "metadata": {},
     "output_type": "execute_result"
    }
   ],
   "source": [
    "get_diet_second_iter(test_str)"
   ]
  },
  {
   "cell_type": "code",
   "execution_count": 154,
   "id": "2b90a235",
   "metadata": {},
   "outputs": [],
   "source": [
    "# test_str = \"\"\"\n",
    "# ROASTED CHICKEN\n",
    "# hen of the woods, scallion\n",
    "# $34\n",
    "# HANGER STEAK\n",
    "# crispy potatoes, salsa bianca\n",
    "# $34\n",
    "# IBERIAN DURUC PORK CHOP\n",
    "# roasted fig & radicchio, apple mostarda, agrodolce\n",
    "# $62\n",
    "# PRIME DRY-AGED 20 OZ RIBEYE\n",
    "# garlic confit, salsa verde\n",
    "# $95\n",
    "\"\"\""
   ]
  },
  {
   "cell_type": "code",
   "execution_count": null,
   "id": "7aef6e11",
   "metadata": {},
   "outputs": [],
   "source": []
  },
  {
   "cell_type": "code",
   "execution_count": null,
   "id": "87d819e8",
   "metadata": {},
   "outputs": [],
   "source": []
  },
  {
   "cell_type": "code",
   "execution_count": null,
   "id": "d5315dbe",
   "metadata": {},
   "outputs": [],
   "source": []
  },
  {
   "cell_type": "code",
   "execution_count": null,
   "id": "9ccb3248",
   "metadata": {},
   "outputs": [],
   "source": []
  }
 ],
 "metadata": {
  "kernelspec": {
   "display_name": "Python 3 (ipykernel)",
   "language": "python",
   "name": "python3"
  },
  "language_info": {
   "codemirror_mode": {
    "name": "ipython",
    "version": 3
   },
   "file_extension": ".py",
   "mimetype": "text/x-python",
   "name": "python",
   "nbconvert_exporter": "python",
   "pygments_lexer": "ipython3",
   "version": "3.12.7"
  }
 },
 "nbformat": 4,
 "nbformat_minor": 5
}
