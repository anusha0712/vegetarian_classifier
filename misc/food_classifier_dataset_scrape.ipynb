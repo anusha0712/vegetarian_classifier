{
 "cells": [
  {
   "cell_type": "markdown",
   "id": "13f949fe",
   "metadata": {},
   "source": [
    "# Classifying Menu Items as Vegetarian or Not"
   ]
  },
  {
   "cell_type": "code",
   "execution_count": 2,
   "id": "ae960c57",
   "metadata": {},
   "outputs": [],
   "source": [
    "import os \n",
    "import pandas as pd\n",
    "import requests\n",
    "import requests_cache\n",
    "from string import ascii_lowercase as lc_alphabet\n",
    "\n",
    "\n",
    "requests_cache.install_cache('api_cache', expire_after=86400)  # Cache expires after 1 day (86400 seconds)"
   ]
  },
  {
   "cell_type": "markdown",
   "id": "526848d7",
   "metadata": {},
   "source": [
    "#### Create a Test Dataset"
   ]
  },
  {
   "cell_type": "markdown",
   "id": "c6f29d3f",
   "metadata": {},
   "source": [
    "##### Plan is to request data for all their recipes and ingredients in them. Then join them together as a string in the form of [name] : [desc] and use that for testing two 'medium' language models. \n",
    "\n",
    "Getting data from TheMealDB by scrapping recipes per alphabet. "
   ]
  },
  {
   "cell_type": "code",
   "execution_count": null,
   "id": "e562ac81",
   "metadata": {},
   "outputs": [],
   "source": [
    "#key provided by them\n",
    "api_key = \"1\"  # Replace with your actual API key"
   ]
  },
  {
   "cell_type": "code",
   "execution_count": null,
   "id": "7129e285",
   "metadata": {},
   "outputs": [],
   "source": [
    "# testing one alphabet\n",
    "url = \"https://www.themealdb.com/api/json/v1/1/search.php?f=a\""
   ]
  },
  {
   "cell_type": "code",
   "execution_count": null,
   "id": "b1c2971f",
   "metadata": {},
   "outputs": [],
   "source": [
    "response = requests.get(url)"
   ]
  },
  {
   "cell_type": "code",
   "execution_count": null,
   "id": "ee16b666",
   "metadata": {
    "scrolled": true
   },
   "outputs": [],
   "source": [
    "data = response.json()\n",
    "data"
   ]
  },
  {
   "cell_type": "code",
   "execution_count": null,
   "id": "15951822",
   "metadata": {},
   "outputs": [],
   "source": [
    "len(data[\"meals\"])"
   ]
  },
  {
   "cell_type": "code",
   "execution_count": null,
   "id": "66a638fb",
   "metadata": {},
   "outputs": [],
   "source": [
    "# writing a for loop to loop through all the letters"
   ]
  },
  {
   "cell_type": "code",
   "execution_count": null,
   "id": "ccecd332",
   "metadata": {},
   "outputs": [],
   "source": [
    "lc_alphabet"
   ]
  },
  {
   "cell_type": "code",
   "execution_count": null,
   "id": "87ce4ecc",
   "metadata": {},
   "outputs": [],
   "source": [
    "all_recipes = []"
   ]
  },
  {
   "cell_type": "code",
   "execution_count": null,
   "id": "89aada2b",
   "metadata": {},
   "outputs": [],
   "source": [
    "for letter in lc_alphabet:\n",
    "    \n",
    "    url = f\"https://www.themealdb.com/api/json/v1/1/search.php?f={letter}\"\n",
    "    response = requests.get(url)\n",
    "    \n",
    "    if response.status_code == 200:\n",
    "        data = response.json()\n",
    "\n",
    "        if data[\"meals\"] != None:\n",
    "\n",
    "            all_recipes.extend(data[\"meals\"])\n",
    "        \n",
    "    else:\n",
    "        print(f\"{letter} did not work\")\n"
   ]
  },
  {
   "cell_type": "code",
   "execution_count": null,
   "id": "1c2334f2",
   "metadata": {},
   "outputs": [],
   "source": [
    "letter"
   ]
  },
  {
   "cell_type": "code",
   "execution_count": null,
   "id": "59294cd8",
   "metadata": {},
   "outputs": [],
   "source": [
    "len(all_recipes) # why are there two left out? should be 303"
   ]
  },
  {
   "cell_type": "code",
   "execution_count": null,
   "id": "c8e7aaf1",
   "metadata": {
    "scrolled": true
   },
   "outputs": [],
   "source": [
    "food_df = pd.DataFrame(all_recipes)\n",
    "food_df"
   ]
  },
  {
   "cell_type": "code",
   "execution_count": null,
   "id": "23d564cb",
   "metadata": {},
   "outputs": [],
   "source": [
    "ingredients_df = food_df.filter(regex=(\"strIngredient.*\"))\n",
    "ingredients_df.fillna(\"\", inplace = True)\n",
    "ingredients_df.head()"
   ]
  },
  {
   "cell_type": "code",
   "execution_count": null,
   "id": "b37ecd6a",
   "metadata": {},
   "outputs": [],
   "source": [
    "food_df[\"all_ingredients\"] = ingredients_df.apply(lambda row: \",\".join(x for x in row), axis = 1)\n",
    "food_df.head()"
   ]
  },
  {
   "cell_type": "code",
   "execution_count": null,
   "id": "0d739f5e",
   "metadata": {},
   "outputs": [],
   "source": [
    "food_df[\"test_string\"] = food_df[\"strMeal\"] + \" : \" + food_df[\"all_ingredients\"]"
   ]
  },
  {
   "cell_type": "code",
   "execution_count": null,
   "id": "14e601f9",
   "metadata": {},
   "outputs": [],
   "source": [
    "food_df.head()"
   ]
  },
  {
   "cell_type": "code",
   "execution_count": null,
   "id": "a073b3f3",
   "metadata": {},
   "outputs": [],
   "source": [
    "filename = \"themealdb_recipes.csv\"\n",
    "food_df.to_csv(filename, index = False)"
   ]
  },
  {
   "cell_type": "code",
   "execution_count": null,
   "id": "23ed52aa",
   "metadata": {},
   "outputs": [],
   "source": []
  },
  {
   "cell_type": "markdown",
   "id": "bb64237b",
   "metadata": {},
   "source": [
    "## Build your training set\n",
    "\n",
    "one way I think of scraping for a dataset is to scrap for all the allowed cuisine parameter.\n",
    "\n",
    "get all the recipes from all cuisines\n",
    "use the recipe ID to then scrape ingredient and diet information \n",
    "string editing to get a training string\n"
   ]
  },
  {
   "cell_type": "code",
   "execution_count": null,
   "id": "9cb962de",
   "metadata": {},
   "outputs": [],
   "source": [
    "url = f\"https://api.spoonacular.com/recipes/complexSearch?apiKey=1bbc1401ba7d48729507a4e73d397ab5&cuisine=italian\"\n",
    "response = requests.get(url)\n",
    "data = response.json()\n",
    "data.keys()"
   ]
  },
  {
   "cell_type": "code",
   "execution_count": null,
   "id": "7b4a3549",
   "metadata": {},
   "outputs": [],
   "source": [
    "data[\"totalResults\"]"
   ]
  },
  {
   "cell_type": "code",
   "execution_count": null,
   "id": "4f29521e",
   "metadata": {},
   "outputs": [],
   "source": [
    "data[\"results\"]"
   ]
  },
  {
   "cell_type": "code",
   "execution_count": null,
   "id": "6333edab",
   "metadata": {},
   "outputs": [],
   "source": [
    "#?apiKey=1bbc1401ba7d48729507a4e73d397ab5&"
   ]
  },
  {
   "cell_type": "code",
   "execution_count": null,
   "id": "4783ef95",
   "metadata": {},
   "outputs": [],
   "source": [
    "cuisines = [\n",
    "    \"african\", \"asian\", \"american\", \"british\", \"cajun\", \"caribbean\", \n",
    "    \"chinese\", \"eastern%20european\", \"european\", \"french\", \"german\", \n",
    "    \"greek\", \"indian\", \"irish\", \"italian\", \"japanese\", \"jewish\", \n",
    "    \"korean\", \"latin%20american\", \"mediterranean\", \"mexican\", \n",
    "    \"middle%20eastern\", \"nordic\", \"southern\", \"spanish\", \"thai\", \n",
    "    \"vietnamese\"\n",
    "]"
   ]
  },
  {
   "cell_type": "code",
   "execution_count": null,
   "id": "20d89879",
   "metadata": {},
   "outputs": [],
   "source": [
    "all_cuisines = []\n",
    "for cuisine in cuisines:\n",
    "    \n",
    "    #get total number of results with only 1 actual reciepe returned\n",
    "    first_url = f\"https://api.spoonacular.com/recipes/complexSearch?apiKey=1bbc1401ba7d48729507a4e73d397ab5&cuisine={cuisine}&number=1\"\n",
    "    response = requests.get(first_url)\n",
    "    data = response.json()\n",
    "    total_results = data[\"totalResults\"]\n",
    "    \n",
    "    #get all the results of that cuisine\n",
    "    final_url = f\"https://api.spoonacular.com/recipes/complexSearch?apiKey=1bbc1401ba7d48729507a4e73d397ab5&cuisine={cuisine}&number={total_results}\"\n",
    "    response = requests.get(final_url)\n",
    "    data = response.json()\n",
    "    \n",
    "    all_cuisines.extend(data[\"results\"])\n",
    "        \n",
    "        "
   ]
  },
  {
   "cell_type": "code",
   "execution_count": null,
   "id": "62b07e31",
   "metadata": {},
   "outputs": [],
   "source": [
    "pd.DataFrame(all_cuisines)[\"id\"].drop_duplicates() # 948 unique reciepes"
   ]
  },
  {
   "cell_type": "code",
   "execution_count": null,
   "id": "f83b35ac",
   "metadata": {},
   "outputs": [],
   "source": [
    "str(all_cuisines[0][\"id\"])"
   ]
  },
  {
   "cell_type": "code",
   "execution_count": null,
   "id": "5094b4ba",
   "metadata": {},
   "outputs": [],
   "source": [
    "len(all_cuisines)"
   ]
  },
  {
   "cell_type": "code",
   "execution_count": null,
   "id": "979c8523",
   "metadata": {
    "scrolled": true
   },
   "outputs": [],
   "source": [
    "# create a list of recipe ID to pass into bulk \n",
    "all_ids = []\n",
    "\n",
    "for recipe in all_cuisines:\n",
    "    \n",
    "    if str(recipe[\"id\"]) not in all_ids:\n",
    "        all_ids.append(str(recipe[\"id\"]))\n",
    "\n",
    "id_string = \",\".join(all_ids)\n",
    "id_string"
   ]
  },
  {
   "cell_type": "code",
   "execution_count": null,
   "id": "c5341a53",
   "metadata": {},
   "outputs": [],
   "source": [
    "len(all_ids)"
   ]
  },
  {
   "cell_type": "code",
   "execution_count": null,
   "id": "d052db72",
   "metadata": {},
   "outputs": [],
   "source": [
    "id_string = \",\".join(all_ids[:474])"
   ]
  },
  {
   "cell_type": "code",
   "execution_count": null,
   "id": "07636f03",
   "metadata": {},
   "outputs": [],
   "source": [
    "# get ingredient list in id_string\n",
    "\n",
    "url = f\"https://api.spoonacular.com/recipes/informationBulk?apiKey=1bbc1401ba7d48729507a4e73d397ab5&ids={id_string}\"\n",
    "\n",
    "response = requests.get(url)\n",
    "data = response.json()"
   ]
  },
  {
   "cell_type": "code",
   "execution_count": null,
   "id": "d8af6536",
   "metadata": {},
   "outputs": [],
   "source": [
    "print(\"Quota Left Today:\", response.headers.get(\"X-API-Quota-Left\"))"
   ]
  },
  {
   "cell_type": "code",
   "execution_count": null,
   "id": "e02d81e6",
   "metadata": {},
   "outputs": [],
   "source": [
    "print(\"Quota Left Today:\", response.headers.get(\"X-API-Quota-Left\"))"
   ]
  },
  {
   "cell_type": "code",
   "execution_count": null,
   "id": "c654cd6f",
   "metadata": {},
   "outputs": [],
   "source": [
    "response.status_code"
   ]
  },
  {
   "cell_type": "code",
   "execution_count": null,
   "id": "4b9c8339",
   "metadata": {},
   "outputs": [],
   "source": [
    "data[0][\"extendedIngredients\"][2][\"nameClean\"]"
   ]
  },
  {
   "cell_type": "markdown",
   "id": "62786f73",
   "metadata": {},
   "source": [
    "### NEXT STEP: HAVE TO GET ALL 948"
   ]
  },
  {
   "cell_type": "code",
   "execution_count": null,
   "id": "2060b231",
   "metadata": {},
   "outputs": [],
   "source": [
    "len(all_ids[474:])"
   ]
  },
  {
   "cell_type": "code",
   "execution_count": null,
   "id": "fe906893",
   "metadata": {},
   "outputs": [],
   "source": [
    "id_string = \",\".join(all_ids[474:])"
   ]
  },
  {
   "cell_type": "code",
   "execution_count": null,
   "id": "4b571dc6",
   "metadata": {},
   "outputs": [],
   "source": [
    "# get ingredient list in id_string\n",
    "\n",
    "url = f\"https://api.spoonacular.com/recipes/informationBulk?apiKey=1bbc1401ba7d48729507a4e73d397ab5&ids=632003\"\n",
    "\n",
    "response = requests.get(url)\n",
    "data_2 = response.json()"
   ]
  },
  {
   "cell_type": "code",
   "execution_count": null,
   "id": "99a2c436",
   "metadata": {},
   "outputs": [],
   "source": [
    "len(data_2)"
   ]
  },
  {
   "cell_type": "code",
   "execution_count": null,
   "id": "0cc03ad1",
   "metadata": {},
   "outputs": [],
   "source": [
    "data_2[0].keys()"
   ]
  },
  {
   "cell_type": "code",
   "execution_count": null,
   "id": "2119ce94",
   "metadata": {},
   "outputs": [],
   "source": [
    "data.extend(data_2)"
   ]
  },
  {
   "cell_type": "code",
   "execution_count": null,
   "id": "297ec85a",
   "metadata": {},
   "outputs": [],
   "source": [
    "len(data) # contains all the recipe bulk info for each id"
   ]
  },
  {
   "cell_type": "code",
   "execution_count": null,
   "id": "38a806fc",
   "metadata": {},
   "outputs": [],
   "source": [
    "# need to make new data structure of id and ingredients and then \n",
    "data[0][\"vegan\"]"
   ]
  },
  {
   "cell_type": "code",
   "execution_count": null,
   "id": "a69c3261",
   "metadata": {},
   "outputs": [],
   "source": [
    "data[0][\"extendedIngredients\"]#[2][\"nameClean\"]"
   ]
  },
  {
   "cell_type": "code",
   "execution_count": null,
   "id": "2b68005e",
   "metadata": {},
   "outputs": [],
   "source": [
    "# you need loop through data \n",
    "# loop through extended ingredients\n",
    "recipe_ingredients = []\n",
    "\n",
    "for recipe in data:\n",
    "    \n",
    "    all_ingredients = []\n",
    "    one_recipe = {}\n",
    "    \n",
    "    for ingredient in recipe[\"extendedIngredients\"]:\n",
    "        \n",
    "        if ingredient[\"nameClean\"] is not None:\n",
    "            all_ingredients.append(ingredient[\"nameClean\"])\n",
    "            \n",
    "        elif ingredient[\"nameClean\"] is None:\n",
    "            all_ingredients.append(ingredient[\"name\"])\n",
    "        \n",
    "    one_recipe[\"id\"] = recipe[\"id\"]\n",
    "    one_recipe[\"vegetarian\"] = recipe[\"vegetarian\"]\n",
    "    one_recipe[\"vegan\"] = recipe[\"vegan\"]\n",
    "    one_recipe[\"ingredients\"] = all_ingredients\n",
    "        \n",
    "    recipe_ingredients.append(one_recipe)\n",
    "        \n",
    "        "
   ]
  },
  {
   "cell_type": "code",
   "execution_count": null,
   "id": "c30336c9",
   "metadata": {},
   "outputs": [],
   "source": [
    "len(recipe_ingredients)"
   ]
  },
  {
   "cell_type": "code",
   "execution_count": null,
   "id": "7bb31577",
   "metadata": {},
   "outputs": [],
   "source": [
    "# need to form two dataframes and then merge them on id\n",
    "\n",
    "all_recipes = pd.DataFrame(all_cuisines)\n",
    "all_recipes.drop_duplicates(inplace = True)\n",
    "all_recipes.head()"
   ]
  },
  {
   "cell_type": "code",
   "execution_count": null,
   "id": "c1da9217",
   "metadata": {},
   "outputs": [],
   "source": [
    "all_recipes.shape"
   ]
  },
  {
   "cell_type": "code",
   "execution_count": null,
   "id": "9e714f80",
   "metadata": {},
   "outputs": [],
   "source": [
    "id_ingredients = pd.DataFrame(recipe_ingredients)\n",
    "id_ingredients.head()"
   ]
  },
  {
   "cell_type": "code",
   "execution_count": null,
   "id": "e2f6e8c5",
   "metadata": {},
   "outputs": [],
   "source": [
    "id_ingredients.shape"
   ]
  },
  {
   "cell_type": "code",
   "execution_count": null,
   "id": "5fd75907",
   "metadata": {},
   "outputs": [],
   "source": [
    "merged_df = all_recipes.merge(id_ingredients, left_on=\"id\", right_on=\"id\")\n",
    "merged_df.head()"
   ]
  },
  {
   "cell_type": "code",
   "execution_count": null,
   "id": "50afa7e8",
   "metadata": {},
   "outputs": [],
   "source": [
    "# convert list of ingrd to string\n",
    "merged_df[\"ingredients\"] = merged_df[\"ingredients\"].apply(lambda x: \",\".join(x))"
   ]
  },
  {
   "cell_type": "code",
   "execution_count": null,
   "id": "52ee43a6",
   "metadata": {},
   "outputs": [],
   "source": [
    "merged_df[\"train_string\"] = merged_df[\"title\"] + \" : \" + merged_df[\"ingredients\"]\n",
    "merged_df.head()"
   ]
  },
  {
   "cell_type": "code",
   "execution_count": null,
   "id": "e15361a4",
   "metadata": {},
   "outputs": [],
   "source": [
    "merged_df.head()\n"
   ]
  },
  {
   "cell_type": "code",
   "execution_count": null,
   "id": "4c534cda",
   "metadata": {},
   "outputs": [],
   "source": [
    "filename = \"spoonacular_train_data.csv\"\n",
    "merged_df.to_csv(filename, index = False)"
   ]
  },
  {
   "cell_type": "code",
   "execution_count": 3,
   "id": "97761271",
   "metadata": {},
   "outputs": [
    {
     "data": {
      "text/html": [
       "<div>\n",
       "<style scoped>\n",
       "    .dataframe tbody tr th:only-of-type {\n",
       "        vertical-align: middle;\n",
       "    }\n",
       "\n",
       "    .dataframe tbody tr th {\n",
       "        vertical-align: top;\n",
       "    }\n",
       "\n",
       "    .dataframe thead th {\n",
       "        text-align: right;\n",
       "    }\n",
       "</style>\n",
       "<table border=\"1\" class=\"dataframe\">\n",
       "  <thead>\n",
       "    <tr style=\"text-align: right;\">\n",
       "      <th></th>\n",
       "      <th>Title</th>\n",
       "      <th>Description</th>\n",
       "      <th>Manual</th>\n",
       "      <th>Price</th>\n",
       "    </tr>\n",
       "  </thead>\n",
       "  <tbody>\n",
       "    <tr>\n",
       "      <th>0</th>\n",
       "      <td>LASUNI GOBI</td>\n",
       "      <td>Florets Of Cauliflower Marinated In Lemon And ...</td>\n",
       "      <td>Vegetarian</td>\n",
       "      <td>18</td>\n",
       "    </tr>\n",
       "    <tr>\n",
       "      <th>1</th>\n",
       "      <td>VEGETABLE SAMOSA</td>\n",
       "      <td>Crispy Turnovers Stuffed With Seasoned Potatoe...</td>\n",
       "      <td>Vegetarian</td>\n",
       "      <td>18</td>\n",
       "    </tr>\n",
       "    <tr>\n",
       "      <th>2</th>\n",
       "      <td>ALOO TIKKIYA</td>\n",
       "      <td>Grilled Spicy Potato Cakes Topped With Pomegra...</td>\n",
       "      <td>Vegetarian</td>\n",
       "      <td>18</td>\n",
       "    </tr>\n",
       "    <tr>\n",
       "      <th>3</th>\n",
       "      <td>AMRITSARI SEEKH</td>\n",
       "      <td>Marinated Paneer, Grilled Peppers, Tomato Sauce</td>\n",
       "      <td>Vegetarian</td>\n",
       "      <td>22</td>\n",
       "    </tr>\n",
       "    <tr>\n",
       "      <th>4</th>\n",
       "      <td>HARA BHARA KABAB</td>\n",
       "      <td>Grilled Spinach Patties Stuffed With Paneer, G...</td>\n",
       "      <td>Vegetarian</td>\n",
       "      <td>18</td>\n",
       "    </tr>\n",
       "  </tbody>\n",
       "</table>\n",
       "</div>"
      ],
      "text/plain": [
       "              Title                                        Description  \\\n",
       "0       LASUNI GOBI  Florets Of Cauliflower Marinated In Lemon And ...   \n",
       "1  VEGETABLE SAMOSA  Crispy Turnovers Stuffed With Seasoned Potatoe...   \n",
       "2      ALOO TIKKIYA  Grilled Spicy Potato Cakes Topped With Pomegra...   \n",
       "3   AMRITSARI SEEKH    Marinated Paneer, Grilled Peppers, Tomato Sauce   \n",
       "4  HARA BHARA KABAB  Grilled Spinach Patties Stuffed With Paneer, G...   \n",
       "\n",
       "       Manual Price  \n",
       "0  Vegetarian    18  \n",
       "1  Vegetarian    18  \n",
       "2  Vegetarian    18  \n",
       "3  Vegetarian    22  \n",
       "4  Vegetarian    18  "
      ]
     },
     "execution_count": 3,
     "metadata": {},
     "output_type": "execute_result"
    }
   ],
   "source": [
    "df = pd.read_csv(\"/Users/anushasubramanian/Desktop/Menu_items.csv\")\n",
    "df.head()"
   ]
  },
  {
   "cell_type": "code",
   "execution_count": 4,
   "id": "51017059",
   "metadata": {},
   "outputs": [
    {
     "data": {
      "text/html": [
       "<div>\n",
       "<style scoped>\n",
       "    .dataframe tbody tr th:only-of-type {\n",
       "        vertical-align: middle;\n",
       "    }\n",
       "\n",
       "    .dataframe tbody tr th {\n",
       "        vertical-align: top;\n",
       "    }\n",
       "\n",
       "    .dataframe thead th {\n",
       "        text-align: right;\n",
       "    }\n",
       "</style>\n",
       "<table border=\"1\" class=\"dataframe\">\n",
       "  <thead>\n",
       "    <tr style=\"text-align: right;\">\n",
       "      <th></th>\n",
       "      <th>Title</th>\n",
       "      <th>Description</th>\n",
       "      <th>Manual</th>\n",
       "      <th>Price</th>\n",
       "      <th>test_str</th>\n",
       "    </tr>\n",
       "  </thead>\n",
       "  <tbody>\n",
       "    <tr>\n",
       "      <th>0</th>\n",
       "      <td>LASUNI GOBI</td>\n",
       "      <td>Florets Of Cauliflower Marinated In Lemon And ...</td>\n",
       "      <td>Vegetarian</td>\n",
       "      <td>18</td>\n",
       "      <td>LASUNI GOBI : Florets Of Cauliflower Marinated...</td>\n",
       "    </tr>\n",
       "    <tr>\n",
       "      <th>1</th>\n",
       "      <td>VEGETABLE SAMOSA</td>\n",
       "      <td>Crispy Turnovers Stuffed With Seasoned Potatoe...</td>\n",
       "      <td>Vegetarian</td>\n",
       "      <td>18</td>\n",
       "      <td>VEGETABLE SAMOSA : Crispy Turnovers Stuffed Wi...</td>\n",
       "    </tr>\n",
       "    <tr>\n",
       "      <th>2</th>\n",
       "      <td>ALOO TIKKIYA</td>\n",
       "      <td>Grilled Spicy Potato Cakes Topped With Pomegra...</td>\n",
       "      <td>Vegetarian</td>\n",
       "      <td>18</td>\n",
       "      <td>ALOO TIKKIYA : Grilled Spicy Potato Cakes Topp...</td>\n",
       "    </tr>\n",
       "    <tr>\n",
       "      <th>3</th>\n",
       "      <td>AMRITSARI SEEKH</td>\n",
       "      <td>Marinated Paneer, Grilled Peppers, Tomato Sauce</td>\n",
       "      <td>Vegetarian</td>\n",
       "      <td>22</td>\n",
       "      <td>AMRITSARI SEEKH : Marinated Paneer, Grilled Pe...</td>\n",
       "    </tr>\n",
       "    <tr>\n",
       "      <th>4</th>\n",
       "      <td>HARA BHARA KABAB</td>\n",
       "      <td>Grilled Spinach Patties Stuffed With Paneer, G...</td>\n",
       "      <td>Vegetarian</td>\n",
       "      <td>18</td>\n",
       "      <td>HARA BHARA KABAB : Grilled Spinach Patties Stu...</td>\n",
       "    </tr>\n",
       "  </tbody>\n",
       "</table>\n",
       "</div>"
      ],
      "text/plain": [
       "              Title                                        Description  \\\n",
       "0       LASUNI GOBI  Florets Of Cauliflower Marinated In Lemon And ...   \n",
       "1  VEGETABLE SAMOSA  Crispy Turnovers Stuffed With Seasoned Potatoe...   \n",
       "2      ALOO TIKKIYA  Grilled Spicy Potato Cakes Topped With Pomegra...   \n",
       "3   AMRITSARI SEEKH    Marinated Paneer, Grilled Peppers, Tomato Sauce   \n",
       "4  HARA BHARA KABAB  Grilled Spinach Patties Stuffed With Paneer, G...   \n",
       "\n",
       "       Manual Price                                           test_str  \n",
       "0  Vegetarian    18  LASUNI GOBI : Florets Of Cauliflower Marinated...  \n",
       "1  Vegetarian    18  VEGETABLE SAMOSA : Crispy Turnovers Stuffed Wi...  \n",
       "2  Vegetarian    18  ALOO TIKKIYA : Grilled Spicy Potato Cakes Topp...  \n",
       "3  Vegetarian    22  AMRITSARI SEEKH : Marinated Paneer, Grilled Pe...  \n",
       "4  Vegetarian    18  HARA BHARA KABAB : Grilled Spinach Patties Stu...  "
      ]
     },
     "execution_count": 4,
     "metadata": {},
     "output_type": "execute_result"
    }
   ],
   "source": [
    "df[\"test_str\"] = df[\"Title\"] + \" : \" + df[\"Description\"]\n",
    "df.head()"
   ]
  },
  {
   "cell_type": "code",
   "execution_count": 5,
   "id": "f1737563",
   "metadata": {},
   "outputs": [],
   "source": [
    "df.to_csv(\"Menu_items2.csv\")"
   ]
  },
  {
   "cell_type": "code",
   "execution_count": null,
   "id": "16257c16",
   "metadata": {},
   "outputs": [],
   "source": []
  }
 ],
 "metadata": {
  "kernelspec": {
   "display_name": "Python 3 (ipykernel)",
   "language": "python",
   "name": "python3"
  },
  "language_info": {
   "codemirror_mode": {
    "name": "ipython",
    "version": 3
   },
   "file_extension": ".py",
   "mimetype": "text/x-python",
   "name": "python",
   "nbconvert_exporter": "python",
   "pygments_lexer": "ipython3",
   "version": "3.12.7"
  }
 },
 "nbformat": 4,
 "nbformat_minor": 5
}
